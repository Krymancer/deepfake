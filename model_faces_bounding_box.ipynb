{
 "cells": [
  {
   "cell_type": "code",
   "execution_count": null,
   "metadata": {},
   "outputs": [],
   "source": []
  }
 ],
 "metadata": {
  "kernelspec": {
   "display_name": "Python 3.10.5 64-bit",
   "language": "python",
   "name": "python3"
  },
  "language_info": {
   "name": "python",
   "version": "3.10.5"
  },
  "orig_nbformat": 4,
  "vscode": {
   "interpreter": {
    "hash": "171fb07808a699930299ab0f89dfff90ff996e1b34b218ef5496cd2b655df120"
   }
  }
 },
 "nbformat": 4,
 "nbformat_minor": 2
}
