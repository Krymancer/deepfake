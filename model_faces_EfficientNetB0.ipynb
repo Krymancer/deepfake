{
 "cells": [
  {
   "cell_type": "code",
   "execution_count": 19,
   "metadata": {},
   "outputs": [
    {
     "name": "stdout",
     "output_type": "stream",
     "text": [
      "TensorFlow version:  2.9.1\n"
     ]
    }
   ],
   "source": [
    "import json\n",
    "import os\n",
    "from distutils.dir_util import copy_tree\n",
    "import shutil\n",
    "import pandas as pd\n",
    "\n",
    "# TensorFlow and tf.keras\n",
    "import tensorflow as tf\n",
    "from tensorflow.keras import backend as K\n",
    "print('TensorFlow version: ', tf.__version__)"
   ]
  },
  {
   "cell_type": "code",
   "execution_count": 20,
   "metadata": {},
   "outputs": [
    {
     "name": "stdout",
     "output_type": "stream",
     "text": [
      "Collecting git+https://github.com/qubvel/segmentation_models\n",
      "  Cloning https://github.com/qubvel/segmentation_models to c:\\users\\junho\\appdata\\local\\temp\\pip-req-build-dv1pfle4\n",
      "  Resolved https://github.com/qubvel/segmentation_models to commit e951c6747f75fa9e7240816d1c79dd2e66813123\n",
      "  Preparing metadata (setup.py): started\n",
      "  Preparing metadata (setup.py): finished with status 'done'\n",
      "Requirement already satisfied: keras_applications<=1.0.8,>=1.0.7 in c:\\programdata\\anaconda3\\envs\\tf-venv\\lib\\site-packages (from segmentation-models==1.0.1) (1.0.8)\n",
      "Requirement already satisfied: image-classifiers==1.0.0 in c:\\programdata\\anaconda3\\envs\\tf-venv\\lib\\site-packages (from segmentation-models==1.0.1) (1.0.0)\n",
      "Requirement already satisfied: efficientnet==1.0.0 in c:\\programdata\\anaconda3\\envs\\tf-venv\\lib\\site-packages (from segmentation-models==1.0.1) (1.0.0)\n",
      "Requirement already satisfied: scikit-image in c:\\programdata\\anaconda3\\envs\\tf-venv\\lib\\site-packages (from efficientnet==1.0.0->segmentation-models==1.0.1) (0.19.3)\n",
      "Requirement already satisfied: h5py in c:\\users\\junho\\appdata\\roaming\\python\\python310\\site-packages (from keras_applications<=1.0.8,>=1.0.7->segmentation-models==1.0.1) (3.7.0)\n",
      "Requirement already satisfied: numpy>=1.9.1 in c:\\users\\junho\\appdata\\roaming\\python\\python310\\site-packages (from keras_applications<=1.0.8,>=1.0.7->segmentation-models==1.0.1) (1.23.1)\n",
      "Requirement already satisfied: scipy>=1.4.1 in c:\\programdata\\anaconda3\\envs\\tf-venv\\lib\\site-packages (from scikit-image->efficientnet==1.0.0->segmentation-models==1.0.1) (1.8.1)\n",
      "Requirement already satisfied: imageio>=2.4.1 in c:\\programdata\\anaconda3\\envs\\tf-venv\\lib\\site-packages (from scikit-image->efficientnet==1.0.0->segmentation-models==1.0.1) (2.21.2)\n",
      "Requirement already satisfied: PyWavelets>=1.1.1 in c:\\programdata\\anaconda3\\envs\\tf-venv\\lib\\site-packages (from scikit-image->efficientnet==1.0.0->segmentation-models==1.0.1) (1.3.0)\n",
      "Requirement already satisfied: networkx>=2.2 in c:\\programdata\\anaconda3\\envs\\tf-venv\\lib\\site-packages (from scikit-image->efficientnet==1.0.0->segmentation-models==1.0.1) (2.8.6)\n",
      "Requirement already satisfied: packaging>=20.0 in c:\\users\\junho\\appdata\\roaming\\python\\python310\\site-packages (from scikit-image->efficientnet==1.0.0->segmentation-models==1.0.1) (21.3)\n",
      "Requirement already satisfied: tifffile>=2019.7.26 in c:\\programdata\\anaconda3\\envs\\tf-venv\\lib\\site-packages (from scikit-image->efficientnet==1.0.0->segmentation-models==1.0.1) (2022.8.12)\n",
      "Requirement already satisfied: pillow!=7.1.0,!=7.1.1,!=8.3.0,>=6.1.0 in c:\\programdata\\anaconda3\\envs\\tf-venv\\lib\\site-packages (from scikit-image->efficientnet==1.0.0->segmentation-models==1.0.1) (9.2.0)\n",
      "Requirement already satisfied: pyparsing!=3.0.5,>=2.0.2 in c:\\users\\junho\\appdata\\roaming\\python\\python310\\site-packages (from packaging>=20.0->scikit-image->efficientnet==1.0.0->segmentation-models==1.0.1) (3.0.9)\n"
     ]
    },
    {
     "name": "stderr",
     "output_type": "stream",
     "text": [
      "WARNING: Ignoring invalid distribution -rotobuf (c:\\programdata\\anaconda3\\envs\\tf-venv\\lib\\site-packages)\n",
      "  Running command git clone --filter=blob:none --quiet https://github.com/qubvel/segmentation_models 'C:\\Users\\junho\\AppData\\Local\\Temp\\pip-req-build-dv1pfle4'\n",
      "  Running command git submodule update --init --recursive -q\n",
      "WARNING: Ignoring invalid distribution -rotobuf (c:\\programdata\\anaconda3\\envs\\tf-venv\\lib\\site-packages)\n",
      "WARNING: Ignoring invalid distribution -rotobuf (c:\\programdata\\anaconda3\\envs\\tf-venv\\lib\\site-packages)\n",
      "WARNING: Ignoring invalid distribution -rotobuf (c:\\programdata\\anaconda3\\envs\\tf-venv\\lib\\site-packages)\n"
     ]
    }
   ],
   "source": [
    "!pip install git+https://github.com/qubvel/segmentation_models"
   ]
  },
  {
   "cell_type": "code",
   "execution_count": 21,
   "metadata": {},
   "outputs": [
    {
     "name": "stdout",
     "output_type": "stream",
     "text": [
      "Creating Directory: .\\tmp_debug\n"
     ]
    }
   ],
   "source": [
    "dataset_path = os.path.join(os.getcwd(), 'data')\n",
    "\n",
    "tmp_debug_path = '.\\\\tmp_debug'\n",
    "print('Creating Directory: ' + tmp_debug_path)\n",
    "os.makedirs(tmp_debug_path, exist_ok=True)\n",
    "\n",
    "def get_filename_only(file_path):\n",
    "    file_basename = os.path.basename(file_path)\n",
    "    filename_only = file_basename.split('.')[0]\n",
    "    return filename_only"
   ]
  },
  {
   "cell_type": "code",
   "execution_count": 27,
   "metadata": {},
   "outputs": [
    {
     "name": "stdout",
     "output_type": "stream",
     "text": [
      "Found 2000 images belonging to 2 classes.\n",
      "Found 400 images belonging to 2 classes.\n",
      "Found 2000 images belonging to 2 classes.\n"
     ]
    }
   ],
   "source": [
    "from tensorflow.keras.preprocessing.image import ImageDataGenerator\n",
    "from tensorflow.keras import applications\n",
    "from efficientnet.tfkeras import EfficientNetB0 #EfficientNetB1, EfficientNetB2, EfficientNetB3, EfficientNetB4, EfficientNetB5, EfficientNetB6, EfficientNetB7\n",
    "from tensorflow.keras.models import Sequential\n",
    "from tensorflow.keras.layers import Dense, Dropout\n",
    "from tensorflow.keras.optimizers import Adam\n",
    "from tensorflow.keras.callbacks import EarlyStopping, ModelCheckpoint\n",
    "from tensorflow.keras.models import load_model\n",
    "\n",
    "input_size = 128\n",
    "batch_size_num = 32\n",
    "train_path = os.path.join(dataset_path, 'dataset')\n",
    "val_path = os.path.join(dataset_path, 'dataset')\n",
    "test_path = os.path.join(dataset_path, 'dataset')\n",
    "\n",
    "train_datagen = ImageDataGenerator(\n",
    "    rescale = 1/255,    #rescale the tensor values to [0,1]\n",
    "    rotation_range = 10,\n",
    "    width_shift_range = 0.1,\n",
    "    height_shift_range = 0.1,\n",
    "    shear_range = 0.2,\n",
    "    zoom_range = 0.1,\n",
    "    horizontal_flip = True,\n",
    "    fill_mode = 'nearest',\n",
    "    validation_split=0.2,\n",
    ")\n",
    "\n",
    "train_generator = train_datagen.flow_from_directory(\n",
    "    directory = train_path,\n",
    "    target_size = (input_size, input_size),\n",
    "    color_mode = \"rgb\",\n",
    "    class_mode = \"binary\",  #\"categorical\", \"binary\", \"sparse\", \"input\"\n",
    "    batch_size = batch_size_num,\n",
    "    shuffle = True\n",
    "    #save_to_dir = tmp_debug_path\n",
    ")\n",
    "\n",
    "val_datagen = ImageDataGenerator(\n",
    "    rescale = 1/255    #rescale the tensor values to [0,1]\n",
    ")\n",
    "\n",
    "val_generator = train_datagen.flow_from_directory(\n",
    "    directory = val_path,\n",
    "    target_size = (input_size, input_size),\n",
    "    color_mode = \"rgb\",\n",
    "    class_mode = \"binary\",  #\"categorical\", \"binary\", \"sparse\", \"input\"\n",
    "    batch_size = batch_size_num,\n",
    "    shuffle = True,\n",
    "    subset='validation'\n",
    "    #save_to_dir = tmp_debug_path\n",
    ")\n",
    "\n",
    "test_datagen = ImageDataGenerator(\n",
    "    rescale = 1/255    #rescale the tensor values to [0,1]\n",
    ")\n",
    "\n",
    "test_generator = test_datagen.flow_from_directory(\n",
    "    directory = test_path,\n",
    "    classes=['real', 'fake'],\n",
    "    target_size = (input_size, input_size),\n",
    "    color_mode = \"rgb\",\n",
    "    class_mode = None,\n",
    "    batch_size = 1,\n",
    "    shuffle = False\n",
    ")\n",
    "\n",
    "# Train a CNN classifier\n",
    "efficient_net = EfficientNetB0(\n",
    "    weights = 'imagenet',\n",
    "    input_shape = (input_size, input_size, 3),\n",
    "    include_top = False,\n",
    "    pooling = 'max'\n",
    ")"
   ]
  },
  {
   "cell_type": "code",
   "execution_count": 28,
   "metadata": {},
   "outputs": [
    {
     "name": "stdout",
     "output_type": "stream",
     "text": [
      "Model: \"sequential_1\"\n",
      "_________________________________________________________________\n",
      " Layer (type)                Output Shape              Param #   \n",
      "=================================================================\n",
      " efficientnet-b0 (Functional  (None, 1280)             4049564   \n",
      " )                                                               \n",
      "                                                                 \n",
      " dense_3 (Dense)             (None, 512)               655872    \n",
      "                                                                 \n",
      " dropout_1 (Dropout)         (None, 512)               0         \n",
      "                                                                 \n",
      " dense_4 (Dense)             (None, 128)               65664     \n",
      "                                                                 \n",
      " dense_5 (Dense)             (None, 1)                 129       \n",
      "                                                                 \n",
      "=================================================================\n",
      "Total params: 4,771,229\n",
      "Trainable params: 4,729,213\n",
      "Non-trainable params: 42,016\n",
      "_________________________________________________________________\n",
      "Creating Directory: .\\tmp_checkpoint\n"
     ]
    },
    {
     "name": "stderr",
     "output_type": "stream",
     "text": [
      "C:\\Users\\junho\\AppData\\Roaming\\Python\\Python310\\site-packages\\keras\\optimizers\\optimizer_v2\\adam.py:110: UserWarning: The `lr` argument is deprecated, use `learning_rate` instead.\n",
      "  super(Adam, self).__init__(name, **kwargs)\n",
      "C:\\Users\\junho\\AppData\\Local\\Temp\\ipykernel_17116\\3289612399.py:34: UserWarning: `Model.fit_generator` is deprecated and will be removed in a future version. Please use `Model.fit`, which supports generators.\n",
      "  history = model.fit_generator(\n"
     ]
    },
    {
     "name": "stdout",
     "output_type": "stream",
     "text": [
      "Epoch 1/20\n",
      "63/63 [==============================] - ETA: 0s - loss: 1.1346 - accuracy: 0.5280\n",
      "Epoch 1: val_loss improved from inf to 0.68097, saving model to .\\tmp_checkpoint\\best_model.h5\n",
      "63/63 [==============================] - 47s 563ms/step - loss: 1.1346 - accuracy: 0.5280 - val_loss: 0.6810 - val_accuracy: 0.5825\n",
      "Epoch 2/20\n",
      "63/63 [==============================] - ETA: 0s - loss: 0.7941 - accuracy: 0.5940\n",
      "Epoch 2: val_loss improved from 0.68097 to 0.62186, saving model to .\\tmp_checkpoint\\best_model.h5\n",
      "63/63 [==============================] - 33s 522ms/step - loss: 0.7941 - accuracy: 0.5940 - val_loss: 0.6219 - val_accuracy: 0.6625\n",
      "Epoch 3/20\n",
      "63/63 [==============================] - ETA: 0s - loss: 0.6877 - accuracy: 0.6405\n",
      "Epoch 3: val_loss improved from 0.62186 to 0.57339, saving model to .\\tmp_checkpoint\\best_model.h5\n",
      "63/63 [==============================] - 33s 527ms/step - loss: 0.6877 - accuracy: 0.6405 - val_loss: 0.5734 - val_accuracy: 0.6875\n",
      "Epoch 4/20\n",
      "63/63 [==============================] - ETA: 0s - loss: 0.6227 - accuracy: 0.6705\n",
      "Epoch 4: val_loss improved from 0.57339 to 0.56717, saving model to .\\tmp_checkpoint\\best_model.h5\n",
      "63/63 [==============================] - 33s 526ms/step - loss: 0.6227 - accuracy: 0.6705 - val_loss: 0.5672 - val_accuracy: 0.7275\n",
      "Epoch 5/20\n",
      "63/63 [==============================] - ETA: 0s - loss: 0.5666 - accuracy: 0.7180\n",
      "Epoch 5: val_loss improved from 0.56717 to 0.52761, saving model to .\\tmp_checkpoint\\best_model.h5\n",
      "63/63 [==============================] - 34s 541ms/step - loss: 0.5666 - accuracy: 0.7180 - val_loss: 0.5276 - val_accuracy: 0.7350\n",
      "Epoch 6/20\n",
      "63/63 [==============================] - ETA: 0s - loss: 0.5374 - accuracy: 0.7385\n",
      "Epoch 6: val_loss improved from 0.52761 to 0.49836, saving model to .\\tmp_checkpoint\\best_model.h5\n",
      "63/63 [==============================] - 34s 536ms/step - loss: 0.5374 - accuracy: 0.7385 - val_loss: 0.4984 - val_accuracy: 0.7900\n",
      "Epoch 7/20\n",
      "63/63 [==============================] - ETA: 0s - loss: 0.4827 - accuracy: 0.7800\n",
      "Epoch 7: val_loss improved from 0.49836 to 0.48927, saving model to .\\tmp_checkpoint\\best_model.h5\n",
      "63/63 [==============================] - 34s 536ms/step - loss: 0.4827 - accuracy: 0.7800 - val_loss: 0.4893 - val_accuracy: 0.7775\n",
      "Epoch 8/20\n",
      "63/63 [==============================] - ETA: 0s - loss: 0.4563 - accuracy: 0.7835\n",
      "Epoch 8: val_loss improved from 0.48927 to 0.38804, saving model to .\\tmp_checkpoint\\best_model.h5\n",
      "63/63 [==============================] - 33s 523ms/step - loss: 0.4563 - accuracy: 0.7835 - val_loss: 0.3880 - val_accuracy: 0.8175\n",
      "Epoch 9/20\n",
      "63/63 [==============================] - ETA: 0s - loss: 0.4203 - accuracy: 0.8080\n",
      "Epoch 9: val_loss did not improve from 0.38804\n",
      "63/63 [==============================] - 33s 514ms/step - loss: 0.4203 - accuracy: 0.8080 - val_loss: 0.4039 - val_accuracy: 0.8350\n",
      "Epoch 10/20\n",
      "63/63 [==============================] - ETA: 0s - loss: 0.4074 - accuracy: 0.8235\n",
      "Epoch 10: val_loss improved from 0.38804 to 0.35818, saving model to .\\tmp_checkpoint\\best_model.h5\n",
      "63/63 [==============================] - 34s 532ms/step - loss: 0.4074 - accuracy: 0.8235 - val_loss: 0.3582 - val_accuracy: 0.8525\n",
      "Epoch 11/20\n",
      "63/63 [==============================] - ETA: 0s - loss: 0.3785 - accuracy: 0.8300\n",
      "Epoch 11: val_loss did not improve from 0.35818\n",
      "63/63 [==============================] - 33s 515ms/step - loss: 0.3785 - accuracy: 0.8300 - val_loss: 0.4012 - val_accuracy: 0.8225\n",
      "Epoch 12/20\n",
      "63/63 [==============================] - ETA: 0s - loss: 0.3562 - accuracy: 0.8470\n",
      "Epoch 12: val_loss improved from 0.35818 to 0.32158, saving model to .\\tmp_checkpoint\\best_model.h5\n",
      "63/63 [==============================] - 34s 540ms/step - loss: 0.3562 - accuracy: 0.8470 - val_loss: 0.3216 - val_accuracy: 0.8425\n",
      "Epoch 13/20\n",
      "63/63 [==============================] - ETA: 0s - loss: 0.3028 - accuracy: 0.8640\n",
      "Epoch 13: val_loss improved from 0.32158 to 0.30403, saving model to .\\tmp_checkpoint\\best_model.h5\n",
      "63/63 [==============================] - 34s 530ms/step - loss: 0.3028 - accuracy: 0.8640 - val_loss: 0.3040 - val_accuracy: 0.8525\n",
      "Epoch 14/20\n",
      "63/63 [==============================] - ETA: 0s - loss: 0.2942 - accuracy: 0.8755\n",
      "Epoch 14: val_loss did not improve from 0.30403\n",
      "63/63 [==============================] - 33s 517ms/step - loss: 0.2942 - accuracy: 0.8755 - val_loss: 0.3162 - val_accuracy: 0.8450\n",
      "Epoch 15/20\n",
      "63/63 [==============================] - ETA: 0s - loss: 0.2983 - accuracy: 0.8695\n",
      "Epoch 15: val_loss did not improve from 0.30403\n",
      "63/63 [==============================] - 32s 515ms/step - loss: 0.2983 - accuracy: 0.8695 - val_loss: 0.3411 - val_accuracy: 0.8500\n",
      "Epoch 16/20\n",
      "63/63 [==============================] - ETA: 0s - loss: 0.2709 - accuracy: 0.8815\n",
      "Epoch 16: val_loss improved from 0.30403 to 0.29126, saving model to .\\tmp_checkpoint\\best_model.h5\n",
      "63/63 [==============================] - 33s 522ms/step - loss: 0.2709 - accuracy: 0.8815 - val_loss: 0.2913 - val_accuracy: 0.8725\n",
      "Epoch 17/20\n",
      "63/63 [==============================] - ETA: 0s - loss: 0.2721 - accuracy: 0.8850\n",
      "Epoch 17: val_loss did not improve from 0.29126\n",
      "63/63 [==============================] - 33s 526ms/step - loss: 0.2721 - accuracy: 0.8850 - val_loss: 0.3090 - val_accuracy: 0.8650\n",
      "Epoch 18/20\n",
      "63/63 [==============================] - ETA: 0s - loss: 0.2644 - accuracy: 0.8790\n",
      "Epoch 18: val_loss improved from 0.29126 to 0.27706, saving model to .\\tmp_checkpoint\\best_model.h5\n",
      "63/63 [==============================] - 32s 509ms/step - loss: 0.2644 - accuracy: 0.8790 - val_loss: 0.2771 - val_accuracy: 0.8650\n",
      "Epoch 19/20\n",
      "63/63 [==============================] - ETA: 0s - loss: 0.2414 - accuracy: 0.8895\n",
      "Epoch 19: val_loss improved from 0.27706 to 0.25208, saving model to .\\tmp_checkpoint\\best_model.h5\n",
      "63/63 [==============================] - 32s 510ms/step - loss: 0.2414 - accuracy: 0.8895 - val_loss: 0.2521 - val_accuracy: 0.8700\n",
      "Epoch 20/20\n",
      "63/63 [==============================] - ETA: 0s - loss: 0.2299 - accuracy: 0.9030\n",
      "Epoch 20: val_loss did not improve from 0.25208\n",
      "63/63 [==============================] - 31s 490ms/step - loss: 0.2299 - accuracy: 0.9030 - val_loss: 0.2608 - val_accuracy: 0.8750\n",
      "{'loss': [1.1345555782318115, 0.794130265712738, 0.687684178352356, 0.6227274537086487, 0.56658935546875, 0.537372887134552, 0.4827194809913635, 0.45633620023727417, 0.420254647731781, 0.4074423015117645, 0.37849587202072144, 0.356206476688385, 0.3027677536010742, 0.29420188069343567, 0.29828187823295593, 0.27090150117874146, 0.27211079001426697, 0.2644164562225342, 0.24140582978725433, 0.22992616891860962], 'accuracy': [0.527999997138977, 0.593999981880188, 0.640500009059906, 0.6704999804496765, 0.7179999947547913, 0.7384999990463257, 0.7799999713897705, 0.7835000157356262, 0.8080000281333923, 0.8234999775886536, 0.8299999833106995, 0.847000002861023, 0.8640000224113464, 0.8755000233650208, 0.8694999814033508, 0.8815000057220459, 0.8849999904632568, 0.8790000081062317, 0.8895000219345093, 0.902999997138977], 'val_loss': [0.6809653639793396, 0.621863067150116, 0.5733923316001892, 0.5671730637550354, 0.5276125073432922, 0.4983551800251007, 0.4892677068710327, 0.3880400061607361, 0.40389642119407654, 0.3581831753253937, 0.40120911598205566, 0.32157790660858154, 0.30403444170951843, 0.31621500849723816, 0.341067910194397, 0.29125720262527466, 0.30904123187065125, 0.2770645320415497, 0.25207680463790894, 0.26084670424461365], 'val_accuracy': [0.5824999809265137, 0.6625000238418579, 0.6875, 0.7275000214576721, 0.7350000143051147, 0.7900000214576721, 0.7774999737739563, 0.8174999952316284, 0.8349999785423279, 0.8525000214576721, 0.8224999904632568, 0.8424999713897705, 0.8525000214576721, 0.8450000286102295, 0.8500000238418579, 0.8725000023841858, 0.8650000095367432, 0.8650000095367432, 0.8700000047683716, 0.875]}\n",
      "2000/2000 [==============================] - 52s 25ms/step\n",
      "                                Filename  Prediction\n",
      "0     real\\Celeb-real_id0_0001_00000.png    0.862600\n",
      "1     real\\Celeb-real_id0_0001_00030.png    0.944630\n",
      "2     real\\Celeb-real_id0_0001_00060.png    0.698308\n",
      "3     real\\Celeb-real_id0_0001_00090.png    0.665836\n",
      "4     real\\Celeb-real_id0_0001_00120.png    0.795637\n",
      "...                                  ...         ...\n",
      "1995         fake\\id9_id6_0000_00060.png    0.021442\n",
      "1996         fake\\id9_id6_0000_00120.png    0.025791\n",
      "1997         fake\\id9_id6_0005_00000.png    0.002549\n",
      "1998         fake\\id9_id6_0005_00060.png    0.000775\n",
      "1999         fake\\id9_id6_0005_00120.png    0.032727\n",
      "\n",
      "[2000 rows x 2 columns]\n"
     ]
    }
   ],
   "source": [
    "model = Sequential()\n",
    "model.add(efficient_net)\n",
    "model.add(Dense(units = 512, activation = 'relu'))\n",
    "model.add(Dropout(0.5))\n",
    "model.add(Dense(units = 128, activation = 'relu'))\n",
    "model.add(Dense(units = 1, activation = 'sigmoid'))\n",
    "model.summary()\n",
    "\n",
    "# Compile model\n",
    "model.compile(optimizer = Adam(lr=0.0001), loss='binary_crossentropy', metrics=['accuracy'])\n",
    "\n",
    "checkpoint_filepath = '.\\\\tmp_checkpoint'\n",
    "print('Creating Directory: ' + checkpoint_filepath)\n",
    "os.makedirs(checkpoint_filepath, exist_ok=True)\n",
    "\n",
    "custom_callbacks = [\n",
    "    EarlyStopping(\n",
    "        monitor = 'val_loss',\n",
    "        mode = 'min',\n",
    "        patience = 5,\n",
    "        verbose = 1\n",
    "    ),\n",
    "    ModelCheckpoint(\n",
    "        filepath = os.path.join(checkpoint_filepath, 'best_model.h5'),\n",
    "        monitor = 'val_loss',\n",
    "        mode = 'min',\n",
    "        verbose = 1,\n",
    "        save_best_only = True\n",
    "    )\n",
    "]\n",
    "\n",
    "# Train network\n",
    "num_epochs = 20\n",
    "history = model.fit_generator(\n",
    "    train_generator,\n",
    "    epochs = num_epochs,\n",
    "    steps_per_epoch = len(train_generator),\n",
    "    validation_data = val_generator,\n",
    "    validation_steps = len(val_generator),\n",
    "    callbacks = custom_callbacks\n",
    ")\n",
    "print(history.history)\n",
    "\n",
    "# load the saved model that is considered the best\n",
    "best_model = load_model(os.path.join(checkpoint_filepath, 'best_model.h5'))\n",
    "\n",
    "# Generate predictions\n",
    "test_generator.reset()\n",
    "\n",
    "preds = best_model.predict(\n",
    "    test_generator,\n",
    "    verbose = 1\n",
    ")\n",
    "\n",
    "test_results = pd.DataFrame({\n",
    "    \"Filename\": test_generator.filenames,\n",
    "    \"Prediction\": preds.flatten()\n",
    "})\n",
    "print(test_results)"
   ]
  },
  {
   "cell_type": "code",
   "execution_count": null,
   "metadata": {},
   "outputs": [
    {
     "name": "stdout",
     "output_type": "stream",
     "text": [
      "                                Filename  Prediction\n",
      "0     real\\Celeb-real_id0_0001_00000.png    0.854930\n",
      "1     real\\Celeb-real_id0_0001_00030.png    0.860382\n",
      "2     real\\Celeb-real_id0_0001_00060.png    0.624944\n",
      "3     real\\Celeb-real_id0_0001_00090.png    0.660572\n",
      "4     real\\Celeb-real_id0_0001_00120.png    0.849854\n",
      "...                                  ...         ...\n",
      "1995         fake\\id9_id6_0000_00060.png    0.074033\n",
      "1996         fake\\id9_id6_0000_00120.png    0.072817\n",
      "1997         fake\\id9_id6_0005_00000.png    0.058579\n",
      "1998         fake\\id9_id6_0005_00060.png    0.015735\n",
      "1999         fake\\id9_id6_0005_00120.png    0.339116\n",
      "\n",
      "[2000 rows x 2 columns]\n"
     ]
    }
   ],
   "source": [
    "print(test_results)"
   ]
  },
  {
   "cell_type": "code",
   "execution_count": null,
   "metadata": {},
   "outputs": [],
   "source": [
    "import numpy as np\n",
    "import matplotlib.pyplot as plt\n",
    "%matplotlib inline"
   ]
  },
  {
   "cell_type": "code",
   "execution_count": null,
   "metadata": {},
   "outputs": [
    {
     "data": {
      "image/png": "[encoded data removed]",
      "text/plain": [
       "<Figure size 432x288 with 1 Axes>"
      ]
     },
     "metadata": {
      "needs_background": "light"
     },
     "output_type": "display_data"
    },
    {
     "data": {
      "image/png": "[encoded data removed]",
      "text/plain": [
       "<Figure size 432x288 with 1 Axes>"
      ]
     },
     "metadata": {
      "needs_background": "light"
     },
     "output_type": "display_data"
    }
   ],
   "source": [
    "\n",
    "plt.plot(history.history['accuracy'])\n",
    "# plt.plot(history.history['val_accuracy'])\n",
    "plt.title('VGG19 accuracy')\n",
    "plt.ylabel('accuracy')\n",
    "plt.xlabel('epoch')\n",
    "plt.legend(['train', 'test'], loc='lower right')\n",
    "plt.show()\n",
    "\n",
    "plt.plot(history.history['loss'])\n",
    "# plt.plot(history.history['val_accuracy'])\n",
    "plt.title('VGG19 loss')\n",
    "plt.ylabel('accuracy')\n",
    "plt.xlabel('epoch')\n",
    "plt.legend(['loss', 'test'], loc='lower right')\n",
    "plt.show()"
   ]
  },
  {
   "cell_type": "code",
   "execution_count": null,
   "metadata": {},
   "outputs": [
    {
     "data": {
      "text/html": [
       "<table border=\"1\" class=\"dataframe\">\n",
       "  <thead>\n",
       "    <tr style=\"text-align: right;\">\n",
       "      <th>item</th>\n",
       "      <th>max</th>\n",
       "      <th>mean</th>\n",
       "      <th>min</th>\n",
       "    </tr>\n",
       "  </thead>\n",
       "  <tbody>\n",
       "    <tr>\n",
       "      <td>loss</td>\n",
       "      <td>1.022331</td>\n",
       "      <td>0.440577</td>\n",
       "      <td>0.235546</td>\n",
       "    </tr>\n",
       "    <tr>\n",
       "      <td>accuracy</td>\n",
       "      <td>0.890000</td>\n",
       "      <td>0.791100</td>\n",
       "      <td>0.541500</td>\n",
       "    </tr>\n",
       "    <tr>\n",
       "      <td>val_loss</td>\n",
       "      <td>0.696366</td>\n",
       "      <td>0.336269</td>\n",
       "      <td>0.179185</td>\n",
       "    </tr>\n",
       "    <tr>\n",
       "      <td>val_accuracy</td>\n",
       "      <td>0.918500</td>\n",
       "      <td>0.838300</td>\n",
       "      <td>0.582000</td>\n",
       "    </tr>\n",
       "  </tbody>\n",
       "</table>"
      ],
      "text/plain": [
       "<IPython.core.display.HTML object>"
      ]
     },
     "execution_count": 18,
     "metadata": {},
     "output_type": "execute_result"
    }
   ],
   "source": [
    "df = pd.DataFrame()\n",
    "for idx, key in enumerate(history.history.keys()):\n",
    "    row = pd.DataFrame(data={\n",
    "      'item': key,\n",
    "      'max': max(history.history[key]),\n",
    "      'mean': np.mean(history.history[key]),\n",
    "      'min': min(history.history[key]),\n",
    "    }, index=[idx])\n",
    "    df = pd.concat([df,row])\n",
    "\n",
    "from IPython.display import HTML\n",
    "df.sort_values(by=['item'],ascending=True)\n",
    "HTML(df.to_html(index=False))"
   ]
  },
  {
   "cell_type": "code",
   "execution_count": 31,
   "metadata": {},
   "outputs": [
    {
     "data": {
      "image/png": "[encoded data removed]",
      "text/plain": [
       "<Figure size 432x288 with 1 Axes>"
      ]
     },
     "metadata": {
      "needs_background": "light"
     },
     "output_type": "display_data"
    },
    {
     "data": {
      "image/png": "[encoded data removed]",
      "text/plain": [
       "<Figure size 432x288 with 1 Axes>"
      ]
     },
     "metadata": {
      "needs_background": "light"
     },
     "output_type": "display_data"
    }
   ],
   "source": [
    "# # Plot results\n",
    "import matplotlib.pyplot as plt\n",
    "acc = history.history['accuracy']\n",
    "val_acc = history.history['val_accuracy']\n",
    "loss = history.history['loss']\n",
    "val_loss = history.history['val_loss']\n",
    "epochs = range(1, len(acc) + 1)\n",
    "plt.plot(epochs, acc, 'bo', label = 'Training Accuracy')\n",
    "plt.plot(epochs, val_acc, 'b', label = 'Validation Accuracy')\n",
    "plt.title('Training and Validation Accuracy')\n",
    "plt.legend()\n",
    "plt.figure()\n",
    "plt.plot(epochs, loss, 'bo', label = 'Training loss')\n",
    "plt.plot(epochs, val_loss, 'b', label = 'Validation Loss')\n",
    "plt.title('Training and Validation Loss')\n",
    "plt.legend()\n",
    "plt.show()"
   ]
  }
 ],
 "metadata": {
  "kernelspec": {
   "display_name": "Python 3.10.4 ('tf-venv')",
   "language": "python",
   "name": "python3"
  },
  "language_info": {
   "codemirror_mode": {
    "name": "ipython",
    "version": 3
   },
   "file_extension": ".py",
   "mimetype": "text/x-python",
   "name": "python",
   "nbconvert_exporter": "python",
   "pygments_lexer": "ipython3",
   "version": "3.10.4"
  },
  "orig_nbformat": 4,
  "vscode": {
   "interpreter": {
    "hash": "cc9cbefc8544a8379a53c857cd2b15dea463896e3f9720ef4a3e2498fce52563"
   }
  }
 },
 "nbformat": 4,
 "nbformat_minor": 2
}
