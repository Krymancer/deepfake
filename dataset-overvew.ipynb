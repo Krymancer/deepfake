{
 "cells": [
  {
   "cell_type": "markdown",
   "metadata": {},
   "source": [
    "# DeepFake Detection Dataset Overview\n",
    "\n",
    "## Introduction\n",
    "Frist we will look at the dataset and see how it is structured, look at the first few images in the dataset to see what they look like and we will also look at the labels for the dataset. \n",
    "\n",
    "Import some usefull libraries"
   ]
  },
  {
   "cell_type": "code",
   "execution_count": 52,
   "metadata": {},
   "outputs": [],
   "source": [
    "import matplotlib\n",
    "%matplotlib inline\n",
    "\n",
    "from pprint import pprint\n",
    "\n",
    "import pickle\n",
    "import glob\n",
    "import os\n",
    "import datetime\n",
    "import sys\n",
    "\n",
    "import pandas as pd\n",
    "import numpy as np\n",
    "import scipy\n",
    "import matplotlib.pyplot as plt"
   ]
  },
  {
   "cell_type": "code",
   "execution_count": 16,
   "metadata": {},
   "outputs": [],
   "source": [
    "import seaborn as sns\n",
    "\n",
    "import keras\n",
    "from keras.models import Sequential\n",
    "from keras.layers import Dense, Conv2D , MaxPool2D , Flatten , Dropout \n",
    "from keras.preprocessing.image import ImageDataGenerator\n",
    "from keras.optimizers import Adam\n",
    "\n",
    "from sklearn.metrics import classification_report,confusion_matrix\n",
    "\n",
    "import tensorflow as tf\n",
    "\n",
    "import cv2\n",
    "import os\n",
    "\n",
    "import numpy as np"
   ]
  },
  {
   "cell_type": "code",
   "execution_count": 17,
   "metadata": {},
   "outputs": [],
   "source": [
    "from keras.models import Model as KerasModel\n",
    "from keras.layers import Input, Dense, Flatten, Conv2D, MaxPooling2D, BatchNormalization, Dropout, Reshape, Concatenate, LeakyReLU\n",
    "from tensorflow.keras.optimizers import Adam"
   ]
  },
  {
   "cell_type": "markdown",
   "metadata": {},
   "source": [
    "Checking if everything is working as inteneded"
   ]
  },
  {
   "cell_type": "code",
   "execution_count": 18,
   "metadata": {},
   "outputs": [
    {
     "name": "stdout",
     "output_type": "stream",
     "text": [
      "sys.version_info(major=3, minor=10, micro=4, releaselevel='final', serial=0)\n",
      "tensorflow 2.9.1\n",
      "matplotlib 3.5.2\n",
      "numpy 1.23.1\n",
      "pandas 1.4.3\n",
      "scipy 1.8.1\n",
      "keras 2.9.0\n",
      "tensorflow 2.9.1\n",
      "cv2 4.6.0\n"
     ]
    }
   ],
   "source": [
    "print(sys.version_info)\n",
    "for module in (tf,matplotlib, np, pd, scipy, keras, tf, cv2):\n",
    "    print(module.__name__, module.__version__)"
   ]
  },
  {
   "cell_type": "markdown",
   "metadata": {},
   "source": [
    "Setting the base path for the dataset"
   ]
  },
  {
   "cell_type": "code",
   "execution_count": 19,
   "metadata": {},
   "outputs": [],
   "source": [
    "BASE_PATH = './data/'"
   ]
  },
  {
   "cell_type": "markdown",
   "metadata": {},
   "source": []
  },
  {
   "cell_type": "code",
   "execution_count": 20,
   "metadata": {},
   "outputs": [
    {
     "data": {
      "text/plain": [
       "'/device:GPU:0'"
      ]
     },
     "execution_count": 20,
     "metadata": {},
     "output_type": "execute_result"
    }
   ],
   "source": [
    "tf.test.gpu_device_name()"
   ]
  },
  {
   "cell_type": "markdown",
   "metadata": {},
   "source": [
    "### Description of Subsets\n",
    "|  Subset   | Method  |\n",
    "|  ----  | ----  |\n",
    "| real_fulls.zip |   original Celeb-DF real data |  \n",
    "|fake_baseline.zip\t|\t\t\t\t original Celeb-DF fake data|  \n",
    "|DFGC_SYSU_852924.zip    |\t\t Adversarial Attacks with some post processing|  \n",
    "|jerryHUST_853638.zip  \t\t|\t FaceShifter + Adversarial Attacks; A self-trained faceswap model with some post processing|  \n",
    "|miaotao_853000.zip  \t\t|\t FaceShifter|  \n",
    "|seanseattle_853068.zip  \t|\t FaceController + Adversarial Attacks    |  \n",
    "|yZzzzzz_849853.zip\t\t\t|\t MegaFS on 256 resolution|  \n",
    "|DFischerHDA_852673.zip  \t|\t FaceMorpher + dlib landmarks +|  \n",
    "|joshhu_853266.zip  \t\t|\t\t Adversarial Attacks   |  \n",
    "|nbhh_853436.zip     \t\t|\t FaceShifter + Adversarial Attacks|  \n",
    "|smartz_849705.zip       \t|\t A face-anonymization algorithm generated data|  \n",
    "|yangquanwei_852303.zip  \t|\t Swap facial regions based on key points of the face|  \n",
    "|zhaobh_852336.zip\t\t\t|\t Using an adversarial model to generate noise to add on warp-based face swap results|  \n",
    "|ctmiu_853213.zip   \t\t|\t\t FaceShifter + Adversarial Attacks  |  \n",
    "|lowtec_853184.zip   \t\t|\t FacceShifter with some post processing      |  \n",
    "|wany_853175.zip   \t\t\t|\t face shifter      |  \n",
    "|yuejiang_852934.zip    \t|\t\t crop and paste |  \n",
    "|zz110_853170.zip\t\t\t|\t unkown|  \n",
    "### Metadata\n",
    "*bbox&landmarks.json* includes the pre-computed bounding-box, 5-landmarks, and 68 landmarks information.\n",
    "Bounding-box and 5-landmarks are extracted using MTCNN.\n",
    "The real images metadata are extracted for the *real_fulls* subset. The fake subsets (approximately) share the same \n",
    "metadata, which is extracted based on *fake_baseline*."
   ]
  },
  {
   "cell_type": "markdown",
   "metadata": {},
   "source": [
    "For now lets look at real_fulls and fake_baseline subsets."
   ]
  },
  {
   "cell_type": "code",
   "execution_count": 54,
   "metadata": {},
   "outputs": [
    {
     "name": "stdout",
     "output_type": "stream",
     "text": [
      "./data/dataset\n",
      "Found 1600 images belonging to 2 classes.\n",
      "Found 400 images belonging to 2 classes.\n"
     ]
    }
   ],
   "source": [
    "directory = os.path.join(BASE_PATH, 'dataset')\n",
    "img_height = 256\n",
    "img_width = 256\n",
    "batch_size = 32\n",
    "nb_epochs = 100\n",
    "\n",
    "print(directory)\n",
    "\n",
    "train_datagen = ImageDataGenerator(rescale=1./255,\n",
    "    shear_range=0.2,\n",
    "    zoom_range=0.2,\n",
    "    horizontal_flip=True,\n",
    "    validation_split=0.2) # set validation split\n",
    "\n",
    "train_generator = train_datagen.flow_from_directory(\n",
    "    directory,\n",
    "    follow_links=True,\n",
    "    target_size=(img_height, img_width),\n",
    "    batch_size=batch_size,\n",
    "    class_mode='binary',\n",
    "    subset='training') # set as training data\n",
    "\n",
    "validation_generator = train_datagen.flow_from_directory(\n",
    "    directory, # same directory as training data\n",
    "    follow_links=True,\n",
    "    target_size=(img_height, img_width),\n",
    "    batch_size=batch_size,\n",
    "    class_mode='binary',\n",
    "    subset='validation') # set as validation data\n"
   ]
  },
  {
   "cell_type": "markdown",
   "metadata": {},
   "source": [
    "Creating the model  "
   ]
  },
  {
   "cell_type": "code",
   "execution_count": 22,
   "metadata": {},
   "outputs": [],
   "source": [
    "learning_rate = 0.001\n",
    "\n",
    "x = Input(shape = (img_width, img_height, 3))\n",
    "\n",
    "x1 = Conv2D(8, (3, 3), padding='same', activation = 'relu')(x)\n",
    "x1 = BatchNormalization()(x1)\n",
    "x1 = MaxPooling2D(pool_size=(2, 2), padding='same')(x1)\n",
    "\n",
    "x2 = Conv2D(8, (5, 5), padding='same', activation = 'relu')(x1)\n",
    "x2 = BatchNormalization()(x2)\n",
    "x2 = MaxPooling2D(pool_size=(2, 2), padding='same')(x2)\n",
    "\n",
    "x3 = Conv2D(16, (5, 5), padding='same', activation = 'relu')(x2)\n",
    "x3 = BatchNormalization()(x3)\n",
    "x3 = MaxPooling2D(pool_size=(2, 2), padding='same')(x3)\n",
    "\n",
    "x4 = Conv2D(16, (5, 5), padding='same', activation = 'relu')(x3)\n",
    "x4 = BatchNormalization()(x4)\n",
    "x4 = MaxPooling2D(pool_size=(4, 4), padding='same')(x4)\n",
    "\n",
    "y = Flatten()(x4)\n",
    "y = Dropout(0.5)(y)\n",
    "y = Dense(16)(y)\n",
    "y = LeakyReLU(alpha=0.1)(y)\n",
    "y = Dropout(0.5)(y)\n",
    "y = Dense(1, activation = 'sigmoid')(y)\n",
    "\n",
    "model =  KerasModel(inputs = x, outputs = y)\n",
    "\n",
    "optimizer = Adam(learning_rate = learning_rate)\n",
    "model.compile(optimizer = optimizer, loss = 'mean_squared_error', metrics = ['accuracy'])"
   ]
  },
  {
   "cell_type": "code",
   "execution_count": 57,
   "metadata": {},
   "outputs": [
    {
     "name": "stdout",
     "output_type": "stream",
     "text": [
      "Epoch 1/100\n",
      "50/50 [==============================] - 47s 941ms/step - loss: 0.0700 - accuracy: 0.8975 - val_loss: 0.5297 - val_accuracy: 0.3776\n",
      "Epoch 2/100\n",
      "50/50 [==============================] - 47s 931ms/step - loss: 0.0678 - accuracy: 0.9019 - val_loss: 0.5224 - val_accuracy: 0.3932\n",
      "Epoch 3/100\n",
      "50/50 [==============================] - 46s 912ms/step - loss: 0.0692 - accuracy: 0.9081 - val_loss: 0.5368 - val_accuracy: 0.3854\n",
      "Epoch 4/100\n",
      "50/50 [==============================] - 44s 887ms/step - loss: 0.0703 - accuracy: 0.9050 - val_loss: 0.5331 - val_accuracy: 0.3646\n",
      "Epoch 5/100\n",
      "50/50 [==============================] - 45s 900ms/step - loss: 0.0705 - accuracy: 0.9062 - val_loss: 0.5038 - val_accuracy: 0.4245\n",
      "Epoch 6/100\n",
      "50/50 [==============================] - 44s 883ms/step - loss: 0.0675 - accuracy: 0.9100 - val_loss: 0.5262 - val_accuracy: 0.4089\n",
      "Epoch 7/100\n",
      "50/50 [==============================] - 44s 873ms/step - loss: 0.0679 - accuracy: 0.9100 - val_loss: 0.5296 - val_accuracy: 0.4010\n",
      "Epoch 8/100\n",
      "50/50 [==============================] - 44s 871ms/step - loss: 0.0719 - accuracy: 0.9038 - val_loss: 0.5405 - val_accuracy: 0.3854\n",
      "Epoch 9/100\n",
      "50/50 [==============================] - 44s 878ms/step - loss: 0.0715 - accuracy: 0.9050 - val_loss: 0.5078 - val_accuracy: 0.3984\n",
      "Epoch 10/100\n",
      "50/50 [==============================] - 44s 869ms/step - loss: 0.0696 - accuracy: 0.9056 - val_loss: 0.4718 - val_accuracy: 0.4453\n",
      "Epoch 11/100\n",
      "50/50 [==============================] - 43s 866ms/step - loss: 0.0741 - accuracy: 0.9025 - val_loss: 0.5170 - val_accuracy: 0.4010\n",
      "Epoch 12/100\n",
      "50/50 [==============================] - 43s 862ms/step - loss: 0.0721 - accuracy: 0.9031 - val_loss: 0.5333 - val_accuracy: 0.3958\n",
      "Epoch 13/100\n",
      "50/50 [==============================] - 44s 875ms/step - loss: 0.0647 - accuracy: 0.9144 - val_loss: 0.5346 - val_accuracy: 0.4036\n",
      "Epoch 14/100\n",
      "50/50 [==============================] - 43s 864ms/step - loss: 0.0681 - accuracy: 0.9031 - val_loss: 0.5367 - val_accuracy: 0.3802\n",
      "Epoch 15/100\n",
      "50/50 [==============================] - 44s 871ms/step - loss: 0.0667 - accuracy: 0.9106 - val_loss: 0.5067 - val_accuracy: 0.4036\n",
      "Epoch 16/100\n",
      "50/50 [==============================] - 44s 870ms/step - loss: 0.0627 - accuracy: 0.9150 - val_loss: 0.5083 - val_accuracy: 0.4062\n",
      "Epoch 17/100\n",
      "50/50 [==============================] - 43s 867ms/step - loss: 0.0626 - accuracy: 0.9187 - val_loss: 0.5154 - val_accuracy: 0.4193\n",
      "Epoch 18/100\n",
      "50/50 [==============================] - 44s 882ms/step - loss: 0.0654 - accuracy: 0.9119 - val_loss: 0.5296 - val_accuracy: 0.4010\n",
      "Epoch 19/100\n",
      "50/50 [==============================] - 44s 874ms/step - loss: 0.0640 - accuracy: 0.9169 - val_loss: 0.5546 - val_accuracy: 0.3802\n",
      "Epoch 20/100\n",
      "50/50 [==============================] - 43s 865ms/step - loss: 0.0749 - accuracy: 0.8950 - val_loss: 0.5327 - val_accuracy: 0.3958\n",
      "Epoch 21/100\n",
      "50/50 [==============================] - 44s 874ms/step - loss: 0.0615 - accuracy: 0.9175 - val_loss: 0.5485 - val_accuracy: 0.3958\n",
      "Epoch 22/100\n",
      "50/50 [==============================] - 43s 867ms/step - loss: 0.0635 - accuracy: 0.9125 - val_loss: 0.5465 - val_accuracy: 0.3594\n",
      "Epoch 23/100\n",
      "50/50 [==============================] - 43s 868ms/step - loss: 0.0638 - accuracy: 0.9112 - val_loss: 0.5171 - val_accuracy: 0.4141\n",
      "Epoch 24/100\n",
      "50/50 [==============================] - 44s 872ms/step - loss: 0.0631 - accuracy: 0.9137 - val_loss: 0.5105 - val_accuracy: 0.4141\n",
      "Epoch 25/100\n",
      "50/50 [==============================] - 43s 865ms/step - loss: 0.0652 - accuracy: 0.9062 - val_loss: 0.5163 - val_accuracy: 0.4167\n",
      "Epoch 26/100\n",
      "50/50 [==============================] - 44s 867ms/step - loss: 0.0595 - accuracy: 0.9219 - val_loss: 0.5331 - val_accuracy: 0.3802\n",
      "Epoch 27/100\n",
      "50/50 [==============================] - 43s 863ms/step - loss: 0.0712 - accuracy: 0.9019 - val_loss: 0.5373 - val_accuracy: 0.4010\n",
      "Epoch 28/100\n",
      "50/50 [==============================] - 44s 871ms/step - loss: 0.0688 - accuracy: 0.9094 - val_loss: 0.5179 - val_accuracy: 0.3880\n",
      "Epoch 29/100\n",
      "50/50 [==============================] - 44s 870ms/step - loss: 0.0606 - accuracy: 0.9150 - val_loss: 0.5279 - val_accuracy: 0.4036\n",
      "Epoch 30/100\n",
      "50/50 [==============================] - 44s 878ms/step - loss: 0.0668 - accuracy: 0.9087 - val_loss: 0.5337 - val_accuracy: 0.3906\n",
      "Epoch 31/100\n",
      "50/50 [==============================] - 44s 875ms/step - loss: 0.0664 - accuracy: 0.9050 - val_loss: 0.5103 - val_accuracy: 0.3906\n",
      "Epoch 32/100\n",
      "50/50 [==============================] - 44s 871ms/step - loss: 0.0619 - accuracy: 0.9175 - val_loss: 0.5039 - val_accuracy: 0.4193\n",
      "Epoch 33/100\n",
      "50/50 [==============================] - 44s 871ms/step - loss: 0.0660 - accuracy: 0.9025 - val_loss: 0.5286 - val_accuracy: 0.3880\n",
      "Epoch 34/100\n",
      "50/50 [==============================] - 43s 869ms/step - loss: 0.0627 - accuracy: 0.9156 - val_loss: 0.4974 - val_accuracy: 0.4219\n",
      "Epoch 35/100\n",
      "50/50 [==============================] - 44s 874ms/step - loss: 0.0615 - accuracy: 0.9150 - val_loss: 0.5212 - val_accuracy: 0.4036\n",
      "Epoch 36/100\n",
      "50/50 [==============================] - 44s 868ms/step - loss: 0.0690 - accuracy: 0.9031 - val_loss: 0.5315 - val_accuracy: 0.3958\n",
      "Epoch 37/100\n",
      "50/50 [==============================] - 44s 875ms/step - loss: 0.0633 - accuracy: 0.9087 - val_loss: 0.5377 - val_accuracy: 0.3906\n",
      "Epoch 38/100\n",
      "50/50 [==============================] - 44s 871ms/step - loss: 0.0625 - accuracy: 0.9125 - val_loss: 0.5427 - val_accuracy: 0.3802\n",
      "Epoch 39/100\n",
      "50/50 [==============================] - 44s 879ms/step - loss: 0.0635 - accuracy: 0.9100 - val_loss: 0.5240 - val_accuracy: 0.4010\n",
      "Epoch 40/100\n",
      "50/50 [==============================] - 44s 871ms/step - loss: 0.0653 - accuracy: 0.9100 - val_loss: 0.5409 - val_accuracy: 0.3750\n",
      "Epoch 41/100\n",
      "50/50 [==============================] - 43s 865ms/step - loss: 0.0627 - accuracy: 0.9131 - val_loss: 0.5231 - val_accuracy: 0.3958\n",
      "Epoch 42/100\n",
      "50/50 [==============================] - 44s 876ms/step - loss: 0.0605 - accuracy: 0.9137 - val_loss: 0.5131 - val_accuracy: 0.3880\n",
      "Epoch 43/100\n",
      "50/50 [==============================] - 44s 873ms/step - loss: 0.0656 - accuracy: 0.9106 - val_loss: 0.5078 - val_accuracy: 0.3984\n",
      "Epoch 44/100\n",
      "50/50 [==============================] - 44s 867ms/step - loss: 0.0590 - accuracy: 0.9237 - val_loss: 0.5262 - val_accuracy: 0.3984\n",
      "Epoch 45/100\n",
      "50/50 [==============================] - 44s 878ms/step - loss: 0.0620 - accuracy: 0.9219 - val_loss: 0.5268 - val_accuracy: 0.3958\n",
      "Epoch 46/100\n",
      "50/50 [==============================] - 45s 894ms/step - loss: 0.0640 - accuracy: 0.9150 - val_loss: 0.5134 - val_accuracy: 0.3984\n",
      "Epoch 47/100\n",
      "50/50 [==============================] - 43s 863ms/step - loss: 0.0693 - accuracy: 0.9025 - val_loss: 0.5151 - val_accuracy: 0.4141\n",
      "Epoch 48/100\n",
      "50/50 [==============================] - 44s 867ms/step - loss: 0.0626 - accuracy: 0.9131 - val_loss: 0.4977 - val_accuracy: 0.4219\n",
      "Epoch 49/100\n",
      "50/50 [==============================] - 44s 879ms/step - loss: 0.0629 - accuracy: 0.9150 - val_loss: 0.5369 - val_accuracy: 0.4010\n",
      "Epoch 50/100\n",
      "50/50 [==============================] - 45s 897ms/step - loss: 0.0662 - accuracy: 0.9112 - val_loss: 0.5092 - val_accuracy: 0.4297\n",
      "Epoch 51/100\n",
      "50/50 [==============================] - 45s 903ms/step - loss: 0.0689 - accuracy: 0.9069 - val_loss: 0.5529 - val_accuracy: 0.3724\n",
      "Epoch 52/100\n",
      "50/50 [==============================] - 45s 904ms/step - loss: 0.0637 - accuracy: 0.9125 - val_loss: 0.5420 - val_accuracy: 0.3724\n",
      "Epoch 53/100\n",
      "50/50 [==============================] - 45s 898ms/step - loss: 0.0635 - accuracy: 0.9087 - val_loss: 0.5236 - val_accuracy: 0.4036\n",
      "Epoch 54/100\n",
      "50/50 [==============================] - 45s 899ms/step - loss: 0.0630 - accuracy: 0.9125 - val_loss: 0.4933 - val_accuracy: 0.4297\n",
      "Epoch 55/100\n",
      "50/50 [==============================] - 45s 897ms/step - loss: 0.0677 - accuracy: 0.9087 - val_loss: 0.5568 - val_accuracy: 0.3620\n",
      "Epoch 56/100\n",
      "50/50 [==============================] - 45s 897ms/step - loss: 0.0623 - accuracy: 0.9162 - val_loss: 0.5443 - val_accuracy: 0.3724\n",
      "Epoch 57/100\n",
      "50/50 [==============================] - 45s 910ms/step - loss: 0.0633 - accuracy: 0.9175 - val_loss: 0.5146 - val_accuracy: 0.4010\n",
      "Epoch 58/100\n",
      "50/50 [==============================] - 47s 933ms/step - loss: 0.0632 - accuracy: 0.9131 - val_loss: 0.5506 - val_accuracy: 0.3776\n",
      "Epoch 59/100\n",
      "50/50 [==============================] - 48s 960ms/step - loss: 0.0602 - accuracy: 0.9131 - val_loss: 0.5617 - val_accuracy: 0.3620\n",
      "Epoch 60/100\n",
      "50/50 [==============================] - 45s 897ms/step - loss: 0.0608 - accuracy: 0.9119 - val_loss: 0.5327 - val_accuracy: 0.3932\n",
      "Epoch 61/100\n",
      "50/50 [==============================] - 45s 891ms/step - loss: 0.0601 - accuracy: 0.9119 - val_loss: 0.5147 - val_accuracy: 0.4062\n",
      "Epoch 62/100\n",
      "50/50 [==============================] - 45s 896ms/step - loss: 0.0597 - accuracy: 0.9144 - val_loss: 0.5224 - val_accuracy: 0.4036\n",
      "Epoch 63/100\n",
      "50/50 [==============================] - 45s 896ms/step - loss: 0.0620 - accuracy: 0.9181 - val_loss: 0.5411 - val_accuracy: 0.3724\n",
      "Epoch 64/100\n",
      "50/50 [==============================] - 45s 898ms/step - loss: 0.0645 - accuracy: 0.9144 - val_loss: 0.5489 - val_accuracy: 0.3646\n",
      "Epoch 65/100\n",
      "50/50 [==============================] - 45s 906ms/step - loss: 0.0633 - accuracy: 0.9106 - val_loss: 0.4988 - val_accuracy: 0.4193\n",
      "Epoch 66/100\n",
      "50/50 [==============================] - 45s 906ms/step - loss: 0.0680 - accuracy: 0.9087 - val_loss: 0.5233 - val_accuracy: 0.3984\n",
      "Epoch 67/100\n",
      "50/50 [==============================] - 45s 907ms/step - loss: 0.0569 - accuracy: 0.9181 - val_loss: 0.4975 - val_accuracy: 0.3880\n",
      "Epoch 68/100\n",
      "50/50 [==============================] - 45s 900ms/step - loss: 0.0566 - accuracy: 0.9206 - val_loss: 0.5084 - val_accuracy: 0.4089\n",
      "Epoch 69/100\n",
      "50/50 [==============================] - 45s 898ms/step - loss: 0.0616 - accuracy: 0.9131 - val_loss: 0.5680 - val_accuracy: 0.3464\n",
      "Epoch 70/100\n",
      "50/50 [==============================] - 45s 906ms/step - loss: 0.0612 - accuracy: 0.9175 - val_loss: 0.4830 - val_accuracy: 0.4531\n",
      "Epoch 71/100\n",
      "50/50 [==============================] - 45s 899ms/step - loss: 0.0584 - accuracy: 0.9150 - val_loss: 0.5484 - val_accuracy: 0.3750\n",
      "Epoch 72/100\n",
      "50/50 [==============================] - 46s 913ms/step - loss: 0.0591 - accuracy: 0.9144 - val_loss: 0.4811 - val_accuracy: 0.4271\n",
      "Epoch 73/100\n",
      "50/50 [==============================] - 45s 909ms/step - loss: 0.0613 - accuracy: 0.9219 - val_loss: 0.4453 - val_accuracy: 0.4688\n",
      "Epoch 74/100\n",
      "50/50 [==============================] - 45s 896ms/step - loss: 0.0656 - accuracy: 0.9044 - val_loss: 0.5425 - val_accuracy: 0.3750\n",
      "Epoch 75/100\n",
      "50/50 [==============================] - 45s 906ms/step - loss: 0.0598 - accuracy: 0.9162 - val_loss: 0.5161 - val_accuracy: 0.4062\n",
      "Epoch 76/100\n",
      "50/50 [==============================] - 45s 905ms/step - loss: 0.0613 - accuracy: 0.9212 - val_loss: 0.5463 - val_accuracy: 0.3906\n",
      "Epoch 77/100\n",
      "50/50 [==============================] - 45s 904ms/step - loss: 0.0599 - accuracy: 0.9181 - val_loss: 0.5172 - val_accuracy: 0.3906\n",
      "Epoch 78/100\n",
      "50/50 [==============================] - 45s 909ms/step - loss: 0.0602 - accuracy: 0.9156 - val_loss: 0.5018 - val_accuracy: 0.4375\n",
      "Epoch 79/100\n",
      "50/50 [==============================] - 45s 910ms/step - loss: 0.0619 - accuracy: 0.9081 - val_loss: 0.5066 - val_accuracy: 0.4089\n",
      "Epoch 80/100\n",
      "50/50 [==============================] - 45s 906ms/step - loss: 0.0609 - accuracy: 0.9112 - val_loss: 0.5286 - val_accuracy: 0.3932\n",
      "Epoch 81/100\n",
      "50/50 [==============================] - 45s 898ms/step - loss: 0.0553 - accuracy: 0.9237 - val_loss: 0.5118 - val_accuracy: 0.4089\n",
      "Epoch 82/100\n",
      "50/50 [==============================] - 45s 899ms/step - loss: 0.0652 - accuracy: 0.9081 - val_loss: 0.4983 - val_accuracy: 0.4193\n",
      "Epoch 83/100\n",
      "50/50 [==============================] - 45s 899ms/step - loss: 0.0582 - accuracy: 0.9175 - val_loss: 0.5120 - val_accuracy: 0.4141\n",
      "Epoch 84/100\n",
      "50/50 [==============================] - 45s 890ms/step - loss: 0.0595 - accuracy: 0.9237 - val_loss: 0.5421 - val_accuracy: 0.3724\n",
      "Epoch 85/100\n",
      "50/50 [==============================] - 45s 893ms/step - loss: 0.0572 - accuracy: 0.9244 - val_loss: 0.5099 - val_accuracy: 0.4036\n",
      "Epoch 86/100\n",
      "50/50 [==============================] - 45s 904ms/step - loss: 0.0633 - accuracy: 0.9075 - val_loss: 0.5554 - val_accuracy: 0.3646\n",
      "Epoch 87/100\n",
      "50/50 [==============================] - 45s 905ms/step - loss: 0.0583 - accuracy: 0.9169 - val_loss: 0.5398 - val_accuracy: 0.3776\n",
      "Epoch 88/100\n",
      "50/50 [==============================] - 45s 906ms/step - loss: 0.0552 - accuracy: 0.9206 - val_loss: 0.5271 - val_accuracy: 0.4062\n",
      "Epoch 89/100\n",
      "50/50 [==============================] - 45s 904ms/step - loss: 0.0624 - accuracy: 0.9169 - val_loss: 0.4965 - val_accuracy: 0.4271\n",
      "Epoch 90/100\n",
      "50/50 [==============================] - 45s 912ms/step - loss: 0.0600 - accuracy: 0.9200 - val_loss: 0.5851 - val_accuracy: 0.3359\n",
      "Epoch 91/100\n",
      "50/50 [==============================] - 45s 902ms/step - loss: 0.0588 - accuracy: 0.9194 - val_loss: 0.5456 - val_accuracy: 0.3828\n",
      "Epoch 92/100\n",
      "50/50 [==============================] - 45s 901ms/step - loss: 0.0595 - accuracy: 0.9175 - val_loss: 0.5336 - val_accuracy: 0.3802\n",
      "Epoch 93/100\n",
      "50/50 [==============================] - 45s 897ms/step - loss: 0.0607 - accuracy: 0.9212 - val_loss: 0.4762 - val_accuracy: 0.4297\n",
      "Epoch 94/100\n",
      "50/50 [==============================] - 45s 897ms/step - loss: 0.0589 - accuracy: 0.9125 - val_loss: 0.5335 - val_accuracy: 0.3698\n",
      "Epoch 95/100\n",
      "50/50 [==============================] - 45s 900ms/step - loss: 0.0608 - accuracy: 0.9181 - val_loss: 0.5192 - val_accuracy: 0.3776\n",
      "Epoch 96/100\n",
      "50/50 [==============================] - 45s 905ms/step - loss: 0.0578 - accuracy: 0.9200 - val_loss: 0.4731 - val_accuracy: 0.4349\n",
      "Epoch 97/100\n",
      "50/50 [==============================] - 45s 905ms/step - loss: 0.0589 - accuracy: 0.9269 - val_loss: 0.4996 - val_accuracy: 0.4089\n",
      "Epoch 98/100\n",
      "50/50 [==============================] - 45s 898ms/step - loss: 0.0590 - accuracy: 0.9144 - val_loss: 0.5166 - val_accuracy: 0.3828\n",
      "Epoch 99/100\n",
      "50/50 [==============================] - 45s 902ms/step - loss: 0.0603 - accuracy: 0.9212 - val_loss: 0.4813 - val_accuracy: 0.4115\n",
      "Epoch 100/100\n",
      "50/50 [==============================] - 45s 903ms/step - loss: 0.0609 - accuracy: 0.9150 - val_loss: 0.5000 - val_accuracy: 0.4297\n"
     ]
    }
   ],
   "source": [
    "history = model.fit(\n",
    "    train_generator,\n",
    "    steps_per_epoch = train_generator.samples // batch_size,\n",
    "    validation_data = validation_generator, \n",
    "    validation_steps = validation_generator.samples // batch_size,\n",
    "    epochs = nb_epochs)"
   ]
  },
  {
   "cell_type": "code",
   "execution_count": 61,
   "metadata": {},
   "outputs": [
    {
     "data": {
      "image/png": "[encoded data removed]",
      "text/plain": [
       "<Figure size 1080x1080 with 2 Axes>"
      ]
     },
     "metadata": {
      "needs_background": "light"
     },
     "output_type": "display_data"
    }
   ],
   "source": [
    "acc = history.history['accuracy']\n",
    "val_acc = history.history['val_accuracy']\n",
    "loss = history.history['loss']\n",
    "val_loss = history.history['val_loss']\n",
    "\n",
    "epochs_range = range(nb_epochs)\n",
    "\n",
    "plt.figure(figsize=(15, 15))\n",
    "plt.subplot(2, 2, 1)\n",
    "plt.plot(epochs_range, acc, label='Training Accuracy')\n",
    "plt.plot(epochs_range, val_acc, label='Validation Accuracy')\n",
    "plt.legend(loc='lower right')\n",
    "plt.title('Training and Validation Accuracy')\n",
    "\n",
    "plt.subplot(2, 2, 2)\n",
    "plt.plot(epochs_range, loss, label='Training Loss')\n",
    "plt.plot(epochs_range, val_loss, label='Validation Loss')\n",
    "plt.legend(loc='upper right')\n",
    "plt.title('Training and Validation Loss')\n",
    "plt.show()\n",
    "\n",
    "\n",
    "\n"
   ]
  }
 ],
 "metadata": {
  "kernelspec": {
   "display_name": "Python 3.10.4 ('tf-venv')",
   "language": "python",
   "name": "python3"
  },
  "language_info": {
   "codemirror_mode": {
    "name": "ipython",
    "version": 3
   },
   "file_extension": ".py",
   "mimetype": "text/x-python",
   "name": "python",
   "nbconvert_exporter": "python",
   "pygments_lexer": "ipython3",
   "version": "3.10.4"
  },
  "orig_nbformat": 4,
  "vscode": {
   "interpreter": {
    "hash": "cc9cbefc8544a8379a53c857cd2b15dea463896e3f9720ef4a3e2498fce52563"
   }
  }
 },
 "nbformat": 4,
 "nbformat_minor": 2
}
