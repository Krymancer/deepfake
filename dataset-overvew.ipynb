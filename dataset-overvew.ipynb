{
 "cells": [
  {
   "cell_type": "markdown",
   "metadata": {},
   "source": [
    "# DeepFake Detection Dataset Overview\n",
    "\n",
    "## Introduction\n",
    "Frist we will look at the dataset and see how it is structured, look at the first few images in the dataset to see what they look like and we will also look at the labels for the dataset. \n",
    "\n",
    "Import some usefull libraries"
   ]
  },
  {
   "cell_type": "code",
   "execution_count": 52,
   "metadata": {},
   "outputs": [],
   "source": [
    "import matplotlib\n",
    "%matplotlib inline\n",
    "\n",
    "from pprint import pprint\n",
    "\n",
    "import pickle\n",
    "import glob\n",
    "import os\n",
    "import datetime\n",
    "import sys\n",
    "\n",
    "import pandas as pd\n",
    "import numpy as np\n",
    "import scipy\n",
    "import matplotlib.pyplot as plt"
   ]
  },
  {
   "cell_type": "code",
   "execution_count": 16,
   "metadata": {},
   "outputs": [],
   "source": [
    "import seaborn as sns\n",
    "\n",
    "import keras\n",
    "from keras.models import Sequential\n",
    "from keras.layers import Dense, Conv2D , MaxPool2D , Flatten , Dropout \n",
    "from keras.preprocessing.image import ImageDataGenerator\n",
    "from keras.optimizers import Adam\n",
    "\n",
    "from sklearn.metrics import classification_report,confusion_matrix\n",
    "\n",
    "import tensorflow as tf\n",
    "\n",
    "import cv2\n",
    "import os\n",
    "\n",
    "import numpy as np"
   ]
  },
  {
   "cell_type": "code",
   "execution_count": 17,
   "metadata": {},
   "outputs": [],
   "source": [
    "from keras.models import Model as KerasModel\n",
    "from keras.layers import Input, Dense, Flatten, Conv2D, MaxPooling2D, BatchNormalization, Dropout, Reshape, Concatenate, LeakyReLU\n",
    "from tensorflow.keras.optimizers import Adam"
   ]
  },
  {
   "cell_type": "markdown",
   "metadata": {},
   "source": [
    "Checking if everything is working as inteneded"
   ]
  },
  {
   "cell_type": "code",
   "execution_count": 18,
   "metadata": {},
   "outputs": [
    {
     "name": "stdout",
     "output_type": "stream",
     "text": [
      "sys.version_info(major=3, minor=10, micro=4, releaselevel='final', serial=0)\n",
      "tensorflow 2.9.1\n",
      "matplotlib 3.5.2\n",
      "numpy 1.23.1\n",
      "pandas 1.4.3\n",
      "scipy 1.8.1\n",
      "keras 2.9.0\n",
      "tensorflow 2.9.1\n",
      "cv2 4.6.0\n"
     ]
    }
   ],
   "source": [
    "print(sys.version_info)\n",
    "for module in (tf,matplotlib, np, pd, scipy, keras, tf, cv2):\n",
    "    print(module.__name__, module.__version__)"
   ]
  },
  {
   "cell_type": "markdown",
   "metadata": {},
   "source": [
    "Setting the base path for the dataset"
   ]
  },
  {
   "cell_type": "code",
   "execution_count": 19,
   "metadata": {},
   "outputs": [],
   "source": [
    "BASE_PATH = './data/'"
   ]
  },
  {
   "cell_type": "markdown",
   "metadata": {},
   "source": []
  },
  {
   "cell_type": "code",
   "execution_count": 20,
   "metadata": {},
   "outputs": [
    {
     "data": {
      "text/plain": [
       "'/device:GPU:0'"
      ]
     },
     "execution_count": 20,
     "metadata": {},
     "output_type": "execute_result"
    }
   ],
   "source": [
    "tf.test.gpu_device_name()"
   ]
  },
  {
   "cell_type": "markdown",
   "metadata": {},
   "source": [
    "### Description of Subsets\n",
    "|  Subset   | Method  |\n",
    "|  ----  | ----  |\n",
    "| real_fulls.zip |   original Celeb-DF real data |  \n",
    "|fake_baseline.zip\t|\t\t\t\t original Celeb-DF fake data|  \n",
    "|DFGC_SYSU_852924.zip    |\t\t Adversarial Attacks with some post processing|  \n",
    "|jerryHUST_853638.zip  \t\t|\t FaceShifter + Adversarial Attacks; A self-trained faceswap model with some post processing|  \n",
    "|miaotao_853000.zip  \t\t|\t FaceShifter|  \n",
    "|seanseattle_853068.zip  \t|\t FaceController + Adversarial Attacks    |  \n",
    "|yZzzzzz_849853.zip\t\t\t|\t MegaFS on 256 resolution|  \n",
    "|DFischerHDA_852673.zip  \t|\t FaceMorpher + dlib landmarks +|  \n",
    "|joshhu_853266.zip  \t\t|\t\t Adversarial Attacks   |  \n",
    "|nbhh_853436.zip     \t\t|\t FaceShifter + Adversarial Attacks|  \n",
    "|smartz_849705.zip       \t|\t A face-anonymization algorithm generated data|  \n",
    "|yangquanwei_852303.zip  \t|\t Swap facial regions based on key points of the face|  \n",
    "|zhaobh_852336.zip\t\t\t|\t Using an adversarial model to generate noise to add on warp-based face swap results|  \n",
    "|ctmiu_853213.zip   \t\t|\t\t FaceShifter + Adversarial Attacks  |  \n",
    "|lowtec_853184.zip   \t\t|\t FacceShifter with some post processing      |  \n",
    "|wany_853175.zip   \t\t\t|\t face shifter      |  \n",
    "|yuejiang_852934.zip    \t|\t\t crop and paste |  \n",
    "|zz110_853170.zip\t\t\t|\t unkown|  \n",
    "### Metadata\n",
    "*bbox&landmarks.json* includes the pre-computed bounding-box, 5-landmarks, and 68 landmarks information.\n",
    "Bounding-box and 5-landmarks are extracted using MTCNN.\n",
    "The real images metadata are extracted for the *real_fulls* subset. The fake subsets (approximately) share the same \n",
    "metadata, which is extracted based on *fake_baseline*."
   ]
  },
  {
   "cell_type": "markdown",
   "metadata": {},
   "source": [
    "For now lets look at real_fulls and fake_baseline subsets."
   ]
  },
  {
   "cell_type": "code",
   "execution_count": 21,
   "metadata": {},
   "outputs": [
    {
     "name": "stdout",
     "output_type": "stream",
     "text": [
      "./data/dataset\n",
      "Found 1600 images belonging to 2 classes.\n",
      "Found 400 images belonging to 2 classes.\n"
     ]
    }
   ],
   "source": [
    "directory = os.path.join(BASE_PATH, 'dataset')\n",
    "img_height = 256\n",
    "img_width = 256\n",
    "batch_size = 32\n",
    "nb_epochs = 50\n",
    "\n",
    "print(directory)\n",
    "\n",
    "train_datagen = ImageDataGenerator(rescale=1./255,\n",
    "    shear_range=0.2,\n",
    "    zoom_range=0.2,\n",
    "    horizontal_flip=True,\n",
    "    validation_split=0.2) # set validation split\n",
    "\n",
    "train_generator = train_datagen.flow_from_directory(\n",
    "    directory,\n",
    "    follow_links=True,\n",
    "    target_size=(img_height, img_width),\n",
    "    batch_size=batch_size,\n",
    "    class_mode='binary',\n",
    "    subset='training') # set as training data\n",
    "\n",
    "validation_generator = train_datagen.flow_from_directory(\n",
    "    directory, # same directory as training data\n",
    "    follow_links=True,\n",
    "    target_size=(img_height, img_width),\n",
    "    batch_size=batch_size,\n",
    "    class_mode='binary',\n",
    "    subset='validation') # set as validation data\n"
   ]
  },
  {
   "cell_type": "markdown",
   "metadata": {},
   "source": [
    "Creating the model  "
   ]
  },
  {
   "cell_type": "code",
   "execution_count": 22,
   "metadata": {},
   "outputs": [],
   "source": [
    "learning_rate = 0.001\n",
    "\n",
    "x = Input(shape = (img_width, img_height, 3))\n",
    "\n",
    "x1 = Conv2D(8, (3, 3), padding='same', activation = 'relu')(x)\n",
    "x1 = BatchNormalization()(x1)\n",
    "x1 = MaxPooling2D(pool_size=(2, 2), padding='same')(x1)\n",
    "\n",
    "x2 = Conv2D(8, (5, 5), padding='same', activation = 'relu')(x1)\n",
    "x2 = BatchNormalization()(x2)\n",
    "x2 = MaxPooling2D(pool_size=(2, 2), padding='same')(x2)\n",
    "\n",
    "x3 = Conv2D(16, (5, 5), padding='same', activation = 'relu')(x2)\n",
    "x3 = BatchNormalization()(x3)\n",
    "x3 = MaxPooling2D(pool_size=(2, 2), padding='same')(x3)\n",
    "\n",
    "x4 = Conv2D(16, (5, 5), padding='same', activation = 'relu')(x3)\n",
    "x4 = BatchNormalization()(x4)\n",
    "x4 = MaxPooling2D(pool_size=(4, 4), padding='same')(x4)\n",
    "\n",
    "y = Flatten()(x4)\n",
    "y = Dropout(0.5)(y)\n",
    "y = Dense(16)(y)\n",
    "y = LeakyReLU(alpha=0.1)(y)\n",
    "y = Dropout(0.5)(y)\n",
    "y = Dense(1, activation = 'sigmoid')(y)\n",
    "\n",
    "model =  KerasModel(inputs = x, outputs = y)\n",
    "\n",
    "optimizer = Adam(learning_rate = learning_rate)\n",
    "model.compile(optimizer = optimizer, loss = 'mean_squared_error', metrics = ['accuracy'])"
   ]
  },
  {
   "cell_type": "code",
   "execution_count": 25,
   "metadata": {},
   "outputs": [
    {
     "name": "stdout",
     "output_type": "stream",
     "text": [
      "Epoch 1/50\n",
      "50/50 [==============================] - 46s 910ms/step - loss: 0.1321 - accuracy: 0.8125 - val_loss: 0.4521 - val_accuracy: 0.3646\n",
      "Epoch 2/50\n",
      "50/50 [==============================] - 45s 899ms/step - loss: 0.1281 - accuracy: 0.8275 - val_loss: 0.4152 - val_accuracy: 0.4141\n",
      "Epoch 3/50\n",
      "50/50 [==============================] - 45s 892ms/step - loss: 0.1223 - accuracy: 0.8300 - val_loss: 0.4582 - val_accuracy: 0.4036\n",
      "Epoch 4/50\n",
      "50/50 [==============================] - 45s 893ms/step - loss: 0.1329 - accuracy: 0.8150 - val_loss: 0.4049 - val_accuracy: 0.4531\n",
      "Epoch 5/50\n",
      "50/50 [==============================] - 45s 899ms/step - loss: 0.1254 - accuracy: 0.8181 - val_loss: 0.4873 - val_accuracy: 0.3516\n",
      "Epoch 6/50\n",
      "50/50 [==============================] - 45s 905ms/step - loss: 0.1235 - accuracy: 0.8350 - val_loss: 0.4304 - val_accuracy: 0.4245\n",
      "Epoch 7/50\n",
      "50/50 [==============================] - 45s 895ms/step - loss: 0.1169 - accuracy: 0.8294 - val_loss: 0.4421 - val_accuracy: 0.4297\n",
      "Epoch 8/50\n",
      "50/50 [==============================] - 45s 898ms/step - loss: 0.1178 - accuracy: 0.8338 - val_loss: 0.4120 - val_accuracy: 0.4453\n",
      "Epoch 9/50\n",
      "50/50 [==============================] - 44s 887ms/step - loss: 0.1189 - accuracy: 0.8400 - val_loss: 0.4377 - val_accuracy: 0.4349\n",
      "Epoch 10/50\n",
      "50/50 [==============================] - 44s 884ms/step - loss: 0.1202 - accuracy: 0.8356 - val_loss: 0.4757 - val_accuracy: 0.4245\n",
      "Epoch 11/50\n",
      "50/50 [==============================] - 44s 886ms/step - loss: 0.1157 - accuracy: 0.8456 - val_loss: 0.5072 - val_accuracy: 0.3776\n",
      "Epoch 12/50\n",
      "50/50 [==============================] - 44s 882ms/step - loss: 0.1176 - accuracy: 0.8363 - val_loss: 0.4495 - val_accuracy: 0.4375\n",
      "Epoch 13/50\n",
      "50/50 [==============================] - 44s 889ms/step - loss: 0.1213 - accuracy: 0.8219 - val_loss: 0.4233 - val_accuracy: 0.4453\n",
      "Epoch 14/50\n",
      "50/50 [==============================] - 45s 900ms/step - loss: 0.1160 - accuracy: 0.8475 - val_loss: 0.4075 - val_accuracy: 0.4740\n",
      "Epoch 15/50\n",
      "50/50 [==============================] - 45s 892ms/step - loss: 0.1111 - accuracy: 0.8425 - val_loss: 0.4538 - val_accuracy: 0.4036\n",
      "Epoch 16/50\n",
      "50/50 [==============================] - 45s 891ms/step - loss: 0.1038 - accuracy: 0.8531 - val_loss: 0.4442 - val_accuracy: 0.4193\n",
      "Epoch 17/50\n",
      "50/50 [==============================] - 44s 881ms/step - loss: 0.1158 - accuracy: 0.8469 - val_loss: 0.4723 - val_accuracy: 0.4245\n",
      "Epoch 18/50\n",
      "50/50 [==============================] - 45s 892ms/step - loss: 0.1169 - accuracy: 0.8406 - val_loss: 0.4879 - val_accuracy: 0.3750\n",
      "Epoch 19/50\n",
      "50/50 [==============================] - 45s 893ms/step - loss: 0.1086 - accuracy: 0.8425 - val_loss: 0.4722 - val_accuracy: 0.4167\n",
      "Epoch 20/50\n",
      "50/50 [==============================] - 44s 886ms/step - loss: 0.1007 - accuracy: 0.8619 - val_loss: 0.4608 - val_accuracy: 0.4323\n",
      "Epoch 21/50\n",
      "50/50 [==============================] - 46s 918ms/step - loss: 0.1146 - accuracy: 0.8338 - val_loss: 0.4940 - val_accuracy: 0.4141\n",
      "Epoch 22/50\n",
      "50/50 [==============================] - 45s 904ms/step - loss: 0.1177 - accuracy: 0.8438 - val_loss: 0.4691 - val_accuracy: 0.4401\n",
      "Epoch 23/50\n",
      "50/50 [==============================] - 45s 899ms/step - loss: 0.1037 - accuracy: 0.8581 - val_loss: 0.4611 - val_accuracy: 0.4219\n",
      "Epoch 24/50\n",
      "50/50 [==============================] - 44s 886ms/step - loss: 0.1067 - accuracy: 0.8525 - val_loss: 0.4644 - val_accuracy: 0.4089\n",
      "Epoch 25/50\n",
      "50/50 [==============================] - 44s 885ms/step - loss: 0.1071 - accuracy: 0.8500 - val_loss: 0.4580 - val_accuracy: 0.4323\n",
      "Epoch 26/50\n",
      "50/50 [==============================] - 44s 885ms/step - loss: 0.1081 - accuracy: 0.8469 - val_loss: 0.4662 - val_accuracy: 0.4036\n",
      "Epoch 27/50\n",
      "50/50 [==============================] - 45s 897ms/step - loss: 0.1059 - accuracy: 0.8425 - val_loss: 0.4530 - val_accuracy: 0.4375\n",
      "Epoch 28/50\n",
      "50/50 [==============================] - 45s 894ms/step - loss: 0.1008 - accuracy: 0.8544 - val_loss: 0.4682 - val_accuracy: 0.4427\n",
      "Epoch 29/50\n",
      "50/50 [==============================] - 45s 894ms/step - loss: 0.1065 - accuracy: 0.8456 - val_loss: 0.4879 - val_accuracy: 0.4115\n",
      "Epoch 30/50\n",
      "50/50 [==============================] - 44s 888ms/step - loss: 0.1034 - accuracy: 0.8519 - val_loss: 0.4826 - val_accuracy: 0.4036\n",
      "Epoch 31/50\n",
      "50/50 [==============================] - 44s 885ms/step - loss: 0.1035 - accuracy: 0.8612 - val_loss: 0.4613 - val_accuracy: 0.4115\n",
      "Epoch 32/50\n",
      "50/50 [==============================] - 45s 888ms/step - loss: 0.1066 - accuracy: 0.8487 - val_loss: 0.4456 - val_accuracy: 0.4531\n",
      "Epoch 33/50\n",
      "50/50 [==============================] - 45s 892ms/step - loss: 0.1072 - accuracy: 0.8581 - val_loss: 0.4772 - val_accuracy: 0.3984\n",
      "Epoch 34/50\n",
      "50/50 [==============================] - 45s 898ms/step - loss: 0.1085 - accuracy: 0.8525 - val_loss: 0.4726 - val_accuracy: 0.4036\n",
      "Epoch 35/50\n",
      "50/50 [==============================] - 45s 905ms/step - loss: 0.0968 - accuracy: 0.8662 - val_loss: 0.4718 - val_accuracy: 0.4349\n",
      "Epoch 36/50\n",
      "50/50 [==============================] - 45s 905ms/step - loss: 0.0986 - accuracy: 0.8550 - val_loss: 0.4841 - val_accuracy: 0.4167\n",
      "Epoch 37/50\n",
      "50/50 [==============================] - 45s 895ms/step - loss: 0.0983 - accuracy: 0.8712 - val_loss: 0.4648 - val_accuracy: 0.4323\n",
      "Epoch 38/50\n",
      "50/50 [==============================] - 45s 896ms/step - loss: 0.1051 - accuracy: 0.8544 - val_loss: 0.5146 - val_accuracy: 0.3750\n",
      "Epoch 39/50\n",
      "50/50 [==============================] - 45s 888ms/step - loss: 0.0985 - accuracy: 0.8619 - val_loss: 0.5145 - val_accuracy: 0.3724\n",
      "Epoch 40/50\n",
      "50/50 [==============================] - 45s 890ms/step - loss: 0.0986 - accuracy: 0.8619 - val_loss: 0.4984 - val_accuracy: 0.4036\n",
      "Epoch 41/50\n",
      "50/50 [==============================] - 45s 902ms/step - loss: 0.0930 - accuracy: 0.8744 - val_loss: 0.5176 - val_accuracy: 0.3984\n",
      "Epoch 42/50\n",
      "50/50 [==============================] - 45s 901ms/step - loss: 0.0869 - accuracy: 0.8831 - val_loss: 0.5037 - val_accuracy: 0.4089\n",
      "Epoch 43/50\n",
      "50/50 [==============================] - 45s 891ms/step - loss: 0.0974 - accuracy: 0.8719 - val_loss: 0.4546 - val_accuracy: 0.4297\n",
      "Epoch 44/50\n",
      "50/50 [==============================] - 45s 894ms/step - loss: 0.0996 - accuracy: 0.8656 - val_loss: 0.4907 - val_accuracy: 0.4036\n",
      "Epoch 45/50\n",
      "50/50 [==============================] - 45s 894ms/step - loss: 0.0933 - accuracy: 0.8706 - val_loss: 0.5175 - val_accuracy: 0.3672\n",
      "Epoch 46/50\n",
      "50/50 [==============================] - 45s 896ms/step - loss: 0.0998 - accuracy: 0.8625 - val_loss: 0.4800 - val_accuracy: 0.4297\n",
      "Epoch 47/50\n",
      "50/50 [==============================] - 44s 889ms/step - loss: 0.0983 - accuracy: 0.8631 - val_loss: 0.5133 - val_accuracy: 0.4115\n",
      "Epoch 48/50\n",
      "50/50 [==============================] - 45s 894ms/step - loss: 0.1002 - accuracy: 0.8631 - val_loss: 0.4647 - val_accuracy: 0.4271\n",
      "Epoch 49/50\n",
      "50/50 [==============================] - 45s 898ms/step - loss: 0.0891 - accuracy: 0.8838 - val_loss: 0.4958 - val_accuracy: 0.4010\n",
      "Epoch 50/50\n",
      "50/50 [==============================] - 45s 897ms/step - loss: 0.0849 - accuracy: 0.8844 - val_loss: 0.5080 - val_accuracy: 0.4010\n"
     ]
    }
   ],
   "source": [
    "history = model.fit(\n",
    "    train_generator,\n",
    "    steps_per_epoch = train_generator.samples // batch_size,\n",
    "    validation_data = validation_generator, \n",
    "    validation_steps = validation_generator.samples // batch_size,\n",
    "    epochs = nb_epochs)"
   ]
  },
  {
   "cell_type": "code",
   "execution_count": 53,
   "metadata": {},
   "outputs": [
    {
     "data": {
      "image/png": "[encoded data removed]",
      "text/plain": [
       "<Figure size 1080x1080 with 2 Axes>"
      ]
     },
     "metadata": {
      "needs_background": "light"
     },
     "output_type": "display_data"
    }
   ],
   "source": [
    "acc = history.history['accuracy']\n",
    "val_acc = history.history['val_accuracy']\n",
    "loss = history.history['loss']\n",
    "val_loss = history.history['val_loss']\n",
    "\n",
    "epochs_range = range(50)\n",
    "\n",
    "plt.figure(figsize=(15, 15))\n",
    "plt.subplot(2, 2, 1)\n",
    "plt.plot(epochs_range, acc, label='Training Accuracy')\n",
    "plt.plot(epochs_range, val_acc, label='Validation Accuracy')\n",
    "plt.legend(loc='lower right')\n",
    "plt.title('Training and Validation Accuracy')\n",
    "\n",
    "plt.subplot(2, 2, 2)\n",
    "plt.plot(epochs_range, loss, label='Training Loss')\n",
    "plt.plot(epochs_range, val_loss, label='Validation Loss')\n",
    "plt.legend(loc='upper right')\n",
    "plt.title('Training and Validation Loss')\n",
    "plt.show()\n",
    "\n"
   ]
  }
 ],
 "metadata": {
  "kernelspec": {
   "display_name": "Python 3.10.4 ('tf-venv')",
   "language": "python",
   "name": "python3"
  },
  "language_info": {
   "codemirror_mode": {
    "name": "ipython",
    "version": 3
   },
   "file_extension": ".py",
   "mimetype": "text/x-python",
   "name": "python",
   "nbconvert_exporter": "python",
   "pygments_lexer": "ipython3",
   "version": "3.10.4"
  },
  "orig_nbformat": 4,
  "vscode": {
   "interpreter": {
    "hash": "cc9cbefc8544a8379a53c857cd2b15dea463896e3f9720ef4a3e2498fce52563"
   }
  }
 },
 "nbformat": 4,
 "nbformat_minor": 2
}
