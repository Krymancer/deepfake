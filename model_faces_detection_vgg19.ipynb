{
 "cells": [
  {
   "cell_type": "code",
   "execution_count": 10,
   "metadata": {},
   "outputs": [],
   "source": [
    "import matplotlib\n",
    "import matplotlib.pyplot as plt\n",
    "%matplotlib inline\n",
    "import pickle\n",
    "import os\n",
    "import sys\n",
    "from PIL import Image\n",
    "import pandas as pd\n",
    "import numpy as np\n",
    "import seaborn as sns\n",
    "import scipy\n",
    "import keras\n",
    "import tensorflow as tf\n",
    "import cv2\n",
    "from keras.models import Sequential\n",
    "from keras.layers import Dense, Conv2D , MaxPool2D , Flatten , Dropout \n",
    "from keras.preprocessing.image import ImageDataGenerator\n",
    "from keras.optimizers import Adam\n",
    "from sklearn.metrics import classification_report,confusion_matrix\n",
    "from keras.models import Model as KerasModel\n",
    "from keras.layers import Input, Dense, Flatten, Conv2D, MaxPooling2D, BatchNormalization, Dropout, Reshape, Concatenate, LeakyReLU\n",
    "from sklearn.utils import shuffle\n",
    "from tensorflow.keras.optimizers import Adam\n",
    "\n",
    "from tqdm import tqdm\n",
    "np.random.seed(0)\n",
    "tf.compat.v1.random.set_random_seed(0)"
   ]
  },
  {
   "cell_type": "code",
   "execution_count": 11,
   "metadata": {},
   "outputs": [],
   "source": [
    "directory = os.path.join(os.getcwd(), 'data', 'dataset')\n",
    "fake_directory = os.path.join(directory, 'fake')\n",
    "real_directory = os.path.join(directory, 'real')\n",
    "\n",
    "fake = []\n",
    "real = []"
   ]
  },
  {
   "cell_type": "code",
   "execution_count": 12,
   "metadata": {},
   "outputs": [
    {
     "name": "stderr",
     "output_type": "stream",
     "text": [
      "100%|██████████| 1000/1000 [00:00<00:00, 249898.95it/s]\n",
      "100%|██████████| 1000/1000 [00:00<00:00, 251517.39it/s]\n"
     ]
    }
   ],
   "source": [
    "for name in tqdm(os.listdir(fake_directory)):\n",
    "  fake.append(os.path.join(fake_directory, name))\n",
    "\n",
    "for name in tqdm(os.listdir(real_directory)):\n",
    "  real.append(os.path.join(real_directory, name))"
   ]
  },
  {
   "cell_type": "code",
   "execution_count": 13,
   "metadata": {},
   "outputs": [],
   "source": [
    "y = np.ones(len(real))\n",
    "x = np.zeros(len(fake))\n",
    "\n",
    "label = np.concatenate([y, x])\n",
    "\n",
    "names_list = real + fake\n",
    "\n",
    "new_data, new_label = shuffle(names_list, label,  random_state = 0)\n",
    "\n",
    "size = len(new_data)\n",
    "train_size = int(size * 0.8) * -1\n",
    "test_size = int(size * 0.2) * -1\n",
    "\n",
    "train, test, y_train, y_test = new_data[:test_size], new_data[train_size:], new_label[:train_size], new_label[test_size:]"
   ]
  },
  {
   "cell_type": "code",
   "execution_count": 14,
   "metadata": {},
   "outputs": [],
   "source": [
    "def decode_img(img):\n",
    "    img = tf.image.decode_jpeg(img, channels=3)\n",
    "    img = tf.image.convert_image_dtype(img, tf.uint8)\n",
    "    img = tf.image.resize(img, [224, 224])\n",
    "    return img\n",
    "\n",
    "def get_label(file_path):\n",
    "    cat = tf.strings.split(file_path, '\\\\')[7]\n",
    "    if cat == b'fake':\n",
    "        return 1\n",
    "    return 0\n",
    "\n",
    "def process_path(file_path):\n",
    "    label = get_label(file_path)\n",
    "    img = tf.io.read_file(file_path)\n",
    "    img = decode_img(img)\n",
    "    return img, label"
   ]
  },
  {
   "cell_type": "code",
   "execution_count": 15,
   "metadata": {},
   "outputs": [],
   "source": [
    "num_threads, num_epochs, train_len = 8, 20, len(train) \n",
    "train_ds = tf.data.Dataset.from_tensor_slices(train)\n",
    "train_ds = train_ds.map(process_path, num_parallel_calls=tf.data.experimental.AUTOTUNE)"
   ]
  },
  {
   "cell_type": "code",
   "execution_count": 16,
   "metadata": {},
   "outputs": [
    {
     "data": {
      "text/plain": [
       "<ParallelMapDataset element_spec=(TensorSpec(shape=(224, 224, 3), dtype=tf.float32, name=None), TensorSpec(shape=(), dtype=tf.int32, name=None))>"
      ]
     },
     "execution_count": 16,
     "metadata": {},
     "output_type": "execute_result"
    }
   ],
   "source": [
    "train_ds"
   ]
  },
  {
   "cell_type": "code",
   "execution_count": 17,
   "metadata": {},
   "outputs": [],
   "source": [
    "train_ds = train_ds.shuffle(train_len)\n",
    "train_ds = train_ds.batch(64)\n",
    "train_ds = train_ds.prefetch(1)"
   ]
  },
  {
   "cell_type": "code",
   "execution_count": 19,
   "metadata": {},
   "outputs": [
    {
     "name": "stdout",
     "output_type": "stream",
     "text": [
      "Downloading data from https://storage.googleapis.com/tensorflow/keras-applications/vgg19/vgg19_weights_tf_dim_ordering_tf_kernels_notop.h5\n",
      "80134624/80134624 [==============================] - 5s 0us/step\n"
     ]
    }
   ],
   "source": [
    "from tensorflow.keras.applications.vgg19 import VGG19\n",
    "\n",
    "model = VGG19(weights='imagenet', include_top=False, input_shape=(224, 224, 3))"
   ]
  },
  {
   "cell_type": "code",
   "execution_count": 20,
   "metadata": {},
   "outputs": [],
   "source": [
    "opt = tf.keras.optimizers.Adam(\n",
    "    learning_rate= 0.01,\n",
    "    beta_1=0.9,\n",
    "    beta_2=0.999,\n",
    "    epsilon=1e-07,\n",
    "    amsgrad=False)\n",
    "\n",
    "def loss_fn(labels, predictions):\n",
    "    return tf.math.confusion_matrix(\n",
    "    labels, predictions, num_classes=2, weights=None, dtype=tf.dtypes.int32,\n",
    "    name=None).numpy()[0,1]\n",
    "\n",
    "tp = tf.keras.metrics.TruePositives(thresholds=None, name=None, dtype=None)\n",
    "tn = tf.keras.metrics.TrueNegatives(thresholds=None, name=None, dtype=None)\n",
    "fp = tf.keras.metrics.FalsePositives(thresholds=None, name=None, dtype=None)\n",
    "fn = tf.keras.metrics.FalseNegatives(thresholds=None, name=None, dtype=None)"
   ]
  },
  {
   "cell_type": "code",
   "execution_count": 21,
   "metadata": {},
   "outputs": [],
   "source": [
    "classifier = Sequential()\n",
    "classifier.add(model)\n",
    "classifier.add(Flatten())\n",
    "classifier.add(Dense(1024, activation='relu'))\n",
    "classifier.add(Dense(1, activation = 'sigmoid'))\n",
    "classifier.compile(optimizer = opt, loss = 'binary_crossentropy', metrics = ['accuracy', tp,tn,fp,fn])"
   ]
  },
  {
   "cell_type": "code",
   "execution_count": 22,
   "metadata": {},
   "outputs": [
    {
     "name": "stdout",
     "output_type": "stream",
     "text": [
      "Epoch 1/100\n",
      "25/25 [==============================] - 44s 858ms/step - loss: 231848441544704.0000 - accuracy: 0.4950 - true_positives: 382.0000 - true_negatives: 410.0000 - false_positives: 378.0000 - false_negatives: 430.0000\n",
      "Epoch 2/100\n",
      "25/25 [==============================] - 23s 855ms/step - loss: 21.2456 - accuracy: 0.5250 - true_positives: 474.0000 - true_negatives: 366.0000 - false_positives: 422.0000 - false_negatives: 338.0000\n",
      "Epoch 3/100\n",
      "25/25 [==============================] - 23s 859ms/step - loss: 2.4728 - accuracy: 0.5063 - true_positives: 459.0000 - true_negatives: 351.0000 - false_positives: 437.0000 - false_negatives: 353.0000\n",
      "Epoch 4/100\n",
      "25/25 [==============================] - 23s 857ms/step - loss: 0.9344 - accuracy: 0.4950 - true_positives: 418.0000 - true_negatives: 374.0000 - false_positives: 414.0000 - false_negatives: 394.0000\n",
      "Epoch 5/100\n",
      "25/25 [==============================] - 23s 863ms/step - loss: 0.8241 - accuracy: 0.4963 - true_positives: 419.0000 - true_negatives: 375.0000 - false_positives: 413.0000 - false_negatives: 393.0000\n",
      "Epoch 6/100\n",
      "25/25 [==============================] - 23s 861ms/step - loss: 0.7321 - accuracy: 0.4950 - true_positives: 418.0000 - true_negatives: 374.0000 - false_positives: 414.0000 - false_negatives: 394.0000\n",
      "Epoch 7/100\n",
      "25/25 [==============================] - 23s 864ms/step - loss: 0.7266 - accuracy: 0.4775 - true_positives: 372.0000 - true_negatives: 392.0000 - false_positives: 396.0000 - false_negatives: 440.0000\n",
      "Epoch 8/100\n",
      "25/25 [==============================] - 23s 865ms/step - loss: 0.7508 - accuracy: 0.5063 - true_positives: 459.0000 - true_negatives: 351.0000 - false_positives: 437.0000 - false_negatives: 353.0000\n",
      "Epoch 9/100\n",
      "25/25 [==============================] - 23s 866ms/step - loss: 0.8666 - accuracy: 0.5038 - true_positives: 393.0000 - true_negatives: 413.0000 - false_positives: 375.0000 - false_negatives: 419.0000\n",
      "Epoch 10/100\n",
      "25/25 [==============================] - 23s 864ms/step - loss: 0.7630 - accuracy: 0.5100 - true_positives: 462.0000 - true_negatives: 354.0000 - false_positives: 434.0000 - false_negatives: 350.0000\n",
      "Epoch 11/100\n",
      "25/25 [==============================] - 23s 867ms/step - loss: 0.7565 - accuracy: 0.5038 - true_positives: 425.0000 - true_negatives: 381.0000 - false_positives: 407.0000 - false_negatives: 387.0000\n",
      "Epoch 12/100\n",
      "25/25 [==============================] - 23s 868ms/step - loss: 0.7212 - accuracy: 0.5150 - true_positives: 434.0000 - true_negatives: 390.0000 - false_positives: 398.0000 - false_negatives: 378.0000\n",
      "Epoch 13/100\n",
      "25/25 [==============================] - 24s 870ms/step - loss: 0.7259 - accuracy: 0.4787 - true_positives: 405.0000 - true_negatives: 361.0000 - false_positives: 427.0000 - false_negatives: 407.0000\n",
      "Epoch 14/100\n",
      "25/25 [==============================] - 24s 874ms/step - loss: 0.6972 - accuracy: 0.5100 - true_positives: 558.0000 - true_negatives: 258.0000 - false_positives: 530.0000 - false_negatives: 254.0000\n",
      "Epoch 15/100\n",
      "25/25 [==============================] - 24s 871ms/step - loss: 0.8093 - accuracy: 0.4863 - true_positives: 411.0000 - true_negatives: 367.0000 - false_positives: 421.0000 - false_negatives: 401.0000\n",
      "Epoch 16/100\n",
      "25/25 [==============================] - 24s 875ms/step - loss: 0.7364 - accuracy: 0.4875 - true_positives: 316.0000 - true_negatives: 464.0000 - false_positives: 324.0000 - false_negatives: 496.0000\n",
      "Epoch 17/100\n",
      "25/25 [==============================] - 23s 871ms/step - loss: 0.7087 - accuracy: 0.4950 - true_positives: 450.0000 - true_negatives: 342.0000 - false_positives: 446.0000 - false_negatives: 362.0000\n",
      "Epoch 18/100\n",
      "25/25 [==============================] - 24s 871ms/step - loss: 0.7203 - accuracy: 0.5075 - true_positives: 428.0000 - true_negatives: 384.0000 - false_positives: 404.0000 - false_negatives: 384.0000\n",
      "Epoch 19/100\n",
      "25/25 [==============================] - 24s 874ms/step - loss: 0.7214 - accuracy: 0.4900 - true_positives: 382.0000 - true_negatives: 402.0000 - false_positives: 386.0000 - false_negatives: 430.0000\n",
      "Epoch 20/100\n",
      "25/25 [==============================] - 24s 875ms/step - loss: 0.7114 - accuracy: 0.4963 - true_positives: 515.0000 - true_negatives: 279.0000 - false_positives: 509.0000 - false_negatives: 297.0000\n",
      "Epoch 21/100\n",
      "25/25 [==============================] - 23s 872ms/step - loss: 0.7278 - accuracy: 0.4850 - true_positives: 410.0000 - true_negatives: 366.0000 - false_positives: 422.0000 - false_negatives: 402.0000\n",
      "Epoch 22/100\n",
      "25/25 [==============================] - 24s 876ms/step - loss: 0.7044 - accuracy: 0.5138 - true_positives: 465.0000 - true_negatives: 357.0000 - false_positives: 431.0000 - false_negatives: 347.0000\n",
      "Epoch 23/100\n",
      "25/25 [==============================] - 23s 872ms/step - loss: 0.7115 - accuracy: 0.4900 - true_positives: 446.0000 - true_negatives: 338.0000 - false_positives: 450.0000 - false_negatives: 366.0000\n",
      "Epoch 24/100\n",
      "25/25 [==============================] - 24s 876ms/step - loss: 0.7249 - accuracy: 0.4787 - true_positives: 437.0000 - true_negatives: 329.0000 - false_positives: 459.0000 - false_negatives: 375.0000\n",
      "Epoch 25/100\n",
      "25/25 [==============================] - 23s 872ms/step - loss: 0.7267 - accuracy: 0.4837 - true_positives: 409.0000 - true_negatives: 365.0000 - false_positives: 423.0000 - false_negatives: 403.0000\n",
      "Epoch 26/100\n",
      "25/25 [==============================] - 24s 877ms/step - loss: 0.6974 - accuracy: 0.4950 - true_positives: 418.0000 - true_negatives: 374.0000 - false_positives: 414.0000 - false_negatives: 394.0000\n",
      "Epoch 27/100\n",
      "25/25 [==============================] - 23s 871ms/step - loss: 0.6957 - accuracy: 0.5263 - true_positives: 443.0000 - true_negatives: 399.0000 - false_positives: 389.0000 - false_negatives: 369.0000\n",
      "Epoch 28/100\n",
      "25/25 [==============================] - 24s 875ms/step - loss: 0.7125 - accuracy: 0.4913 - true_positives: 383.0000 - true_negatives: 403.0000 - false_positives: 385.0000 - false_negatives: 429.0000\n",
      "Epoch 29/100\n",
      "25/25 [==============================] - 24s 871ms/step - loss: 0.7012 - accuracy: 0.4938 - true_positives: 481.0000 - true_negatives: 309.0000 - false_positives: 479.0000 - false_negatives: 331.0000\n",
      "Epoch 30/100\n",
      "25/25 [==============================] - 24s 877ms/step - loss: 0.6989 - accuracy: 0.4900 - true_positives: 542.0000 - true_negatives: 242.0000 - false_positives: 546.0000 - false_negatives: 270.0000\n",
      "Epoch 31/100\n",
      "25/25 [==============================] - 23s 872ms/step - loss: 0.6976 - accuracy: 0.4888 - true_positives: 541.0000 - true_negatives: 241.0000 - false_positives: 547.0000 - false_negatives: 271.0000\n",
      "Epoch 32/100\n",
      "25/25 [==============================] - 24s 877ms/step - loss: 0.6999 - accuracy: 0.4837 - true_positives: 281.0000 - true_negatives: 493.0000 - false_positives: 295.0000 - false_negatives: 531.0000\n",
      "Epoch 33/100\n",
      "25/25 [==============================] - 24s 874ms/step - loss: 0.6952 - accuracy: 0.5125 - true_positives: 496.0000 - true_negatives: 324.0000 - false_positives: 464.0000 - false_negatives: 316.0000\n",
      "Epoch 34/100\n",
      "25/25 [==============================] - 24s 877ms/step - loss: 0.6982 - accuracy: 0.4837 - true_positives: 345.0000 - true_negatives: 429.0000 - false_positives: 359.0000 - false_negatives: 467.0000\n",
      "Epoch 35/100\n",
      "25/25 [==============================] - 24s 872ms/step - loss: 0.6987 - accuracy: 0.5013 - true_positives: 519.0000 - true_negatives: 283.0000 - false_positives: 505.0000 - false_negatives: 293.0000\n",
      "Epoch 36/100\n",
      "25/25 [==============================] - 24s 878ms/step - loss: 0.7039 - accuracy: 0.4850 - true_positives: 442.0000 - true_negatives: 334.0000 - false_positives: 454.0000 - false_negatives: 370.0000\n",
      "Epoch 37/100\n",
      "25/25 [==============================] - 24s 872ms/step - loss: 0.6984 - accuracy: 0.4913 - true_positives: 287.0000 - true_negatives: 499.0000 - false_positives: 289.0000 - false_negatives: 525.0000\n",
      "Epoch 38/100\n",
      "25/25 [==============================] - 24s 877ms/step - loss: 0.6945 - accuracy: 0.5050 - true_positives: 586.0000 - true_negatives: 222.0000 - false_positives: 566.0000 - false_negatives: 226.0000\n",
      "Epoch 39/100\n",
      "25/25 [==============================] - 23s 870ms/step - loss: 0.7003 - accuracy: 0.4825 - true_positives: 472.0000 - true_negatives: 300.0000 - false_positives: 488.0000 - false_negatives: 340.0000\n",
      "Epoch 40/100\n",
      "25/25 [==============================] - 24s 876ms/step - loss: 0.7016 - accuracy: 0.4812 - true_positives: 247.0000 - true_negatives: 523.0000 - false_positives: 265.0000 - false_negatives: 565.0000\n",
      "Epoch 41/100\n",
      "25/25 [==============================] - 24s 874ms/step - loss: 0.7069 - accuracy: 0.4888 - true_positives: 477.0000 - true_negatives: 305.0000 - false_positives: 483.0000 - false_negatives: 335.0000\n",
      "Epoch 42/100\n",
      "25/25 [==============================] - 24s 879ms/step - loss: 0.6978 - accuracy: 0.4800 - true_positives: 470.0000 - true_negatives: 298.0000 - false_positives: 490.0000 - false_negatives: 342.0000\n",
      "Epoch 43/100\n",
      "25/25 [==============================] - 24s 871ms/step - loss: 0.6997 - accuracy: 0.4863 - true_positives: 475.0000 - true_negatives: 303.0000 - false_positives: 485.0000 - false_negatives: 337.0000\n",
      "Epoch 44/100\n",
      "25/25 [==============================] - 24s 877ms/step - loss: 0.7087 - accuracy: 0.4913 - true_positives: 415.0000 - true_negatives: 371.0000 - false_positives: 417.0000 - false_negatives: 397.0000\n",
      "Epoch 45/100\n",
      "25/25 [==============================] - 24s 874ms/step - loss: 0.7129 - accuracy: 0.4963 - true_positives: 451.0000 - true_negatives: 343.0000 - false_positives: 445.0000 - false_negatives: 361.0000\n",
      "Epoch 46/100\n",
      "25/25 [==============================] - 24s 878ms/step - loss: 0.7014 - accuracy: 0.5050 - true_positives: 522.0000 - true_negatives: 286.0000 - false_positives: 502.0000 - false_negatives: 290.0000\n",
      "Epoch 47/100\n",
      "25/25 [==============================] - 24s 876ms/step - loss: 0.7052 - accuracy: 0.4688 - true_positives: 333.0000 - true_negatives: 417.0000 - false_positives: 371.0000 - false_negatives: 479.0000\n",
      "Epoch 48/100\n",
      "25/25 [==============================] - 24s 875ms/step - loss: 0.6942 - accuracy: 0.5100 - true_positives: 526.0000 - true_negatives: 290.0000 - false_positives: 498.0000 - false_negatives: 286.0000\n",
      "Epoch 49/100\n",
      "25/25 [==============================] - 24s 877ms/step - loss: 0.6960 - accuracy: 0.4825 - true_positives: 504.0000 - true_negatives: 268.0000 - false_positives: 520.0000 - false_negatives: 308.0000\n",
      "Epoch 50/100\n",
      "25/25 [==============================] - 24s 875ms/step - loss: 0.6947 - accuracy: 0.4913 - true_positives: 415.0000 - true_negatives: 371.0000 - false_positives: 417.0000 - false_negatives: 397.0000\n",
      "Epoch 51/100\n",
      "25/25 [==============================] - 25s 927ms/step - loss: 0.6997 - accuracy: 0.4988 - true_positives: 485.0000 - true_negatives: 313.0000 - false_positives: 475.0000 - false_negatives: 327.0000\n",
      "Epoch 52/100\n",
      "25/25 [==============================] - 25s 919ms/step - loss: 0.6949 - accuracy: 0.5000 - true_positives: 518.0000 - true_negatives: 282.0000 - false_positives: 506.0000 - false_negatives: 294.0000\n",
      "Epoch 53/100\n",
      "25/25 [==============================] - 25s 924ms/step - loss: 0.6951 - accuracy: 0.5013 - true_positives: 423.0000 - true_negatives: 379.0000 - false_positives: 409.0000 - false_negatives: 389.0000\n",
      "Epoch 54/100\n",
      "25/25 [==============================] - 25s 924ms/step - loss: 0.6942 - accuracy: 0.4950 - true_positives: 386.0000 - true_negatives: 406.0000 - false_positives: 382.0000 - false_negatives: 426.0000\n",
      "Epoch 55/100\n",
      "25/25 [==============================] - 25s 921ms/step - loss: 0.6972 - accuracy: 0.4938 - true_positives: 449.0000 - true_negatives: 341.0000 - false_positives: 447.0000 - false_negatives: 363.0000\n",
      "Epoch 56/100\n",
      "25/25 [==============================] - 25s 919ms/step - loss: 0.6963 - accuracy: 0.4913 - true_positives: 511.0000 - true_negatives: 275.0000 - false_positives: 513.0000 - false_negatives: 301.0000\n",
      "Epoch 57/100\n",
      "25/25 [==============================] - 25s 924ms/step - loss: 0.7158 - accuracy: 0.4888 - true_positives: 413.0000 - true_negatives: 369.0000 - false_positives: 419.0000 - false_negatives: 399.0000\n",
      "Epoch 58/100\n",
      "25/25 [==============================] - 25s 923ms/step - loss: 0.6967 - accuracy: 0.4875 - true_positives: 508.0000 - true_negatives: 272.0000 - false_positives: 516.0000 - false_negatives: 304.0000\n",
      "Epoch 59/100\n",
      "25/25 [==============================] - 25s 926ms/step - loss: 0.6985 - accuracy: 0.5163 - true_positives: 307.0000 - true_negatives: 519.0000 - false_positives: 269.0000 - false_negatives: 505.0000\n",
      "Epoch 60/100\n",
      "25/25 [==============================] - 25s 928ms/step - loss: 0.6960 - accuracy: 0.5088 - true_positives: 461.0000 - true_negatives: 353.0000 - false_positives: 435.0000 - false_negatives: 351.0000\n",
      "Epoch 61/100\n",
      "25/25 [==============================] - 25s 928ms/step - loss: 0.6944 - accuracy: 0.5063 - true_positives: 459.0000 - true_negatives: 351.0000 - false_positives: 437.0000 - false_negatives: 353.0000\n",
      "Epoch 62/100\n",
      "25/25 [==============================] - 25s 929ms/step - loss: 0.6952 - accuracy: 0.4913 - true_positives: 607.0000 - true_negatives: 179.0000 - false_positives: 609.0000 - false_negatives: 205.0000\n",
      "Epoch 63/100\n",
      "25/25 [==============================] - 25s 923ms/step - loss: 0.6963 - accuracy: 0.4800 - true_positives: 310.0000 - true_negatives: 458.0000 - false_positives: 330.0000 - false_negatives: 502.0000\n",
      "Epoch 64/100\n",
      "25/25 [==============================] - 25s 926ms/step - loss: 0.6934 - accuracy: 0.5050 - true_positives: 394.0000 - true_negatives: 414.0000 - false_positives: 374.0000 - false_negatives: 418.0000\n",
      "Epoch 65/100\n",
      "25/25 [==============================] - 25s 933ms/step - loss: 0.6952 - accuracy: 0.5088 - true_positives: 557.0000 - true_negatives: 257.0000 - false_positives: 531.0000 - false_negatives: 255.0000\n",
      "Epoch 66/100\n",
      "25/25 [==============================] - 25s 931ms/step - loss: 0.6948 - accuracy: 0.4888 - true_positives: 605.0000 - true_negatives: 177.0000 - false_positives: 611.0000 - false_negatives: 207.0000\n",
      "Epoch 67/100\n",
      "25/25 [==============================] - 26s 960ms/step - loss: 0.6969 - accuracy: 0.4850 - true_positives: 378.0000 - true_negatives: 398.0000 - false_positives: 390.0000 - false_negatives: 434.0000\n",
      "Epoch 68/100\n",
      "25/25 [==============================] - 25s 923ms/step - loss: 0.7081 - accuracy: 0.5150 - true_positives: 530.0000 - true_negatives: 294.0000 - false_positives: 494.0000 - false_negatives: 282.0000\n",
      "Epoch 69/100\n",
      "25/25 [==============================] - 25s 928ms/step - loss: 0.7674 - accuracy: 0.4762 - true_positives: 371.0000 - true_negatives: 391.0000 - false_positives: 397.0000 - false_negatives: 441.0000\n",
      "Epoch 70/100\n",
      "25/25 [==============================] - 25s 925ms/step - loss: 3236.7966 - accuracy: 0.4787 - true_positives: 405.0000 - true_negatives: 361.0000 - false_positives: 427.0000 - false_negatives: 407.0000\n",
      "Epoch 71/100\n",
      "25/25 [==============================] - 25s 927ms/step - loss: 37760.3555 - accuracy: 0.5088 - true_positives: 525.0000 - true_negatives: 289.0000 - false_positives: 499.0000 - false_negatives: 287.0000\n",
      "Epoch 72/100\n",
      "25/25 [==============================] - 25s 923ms/step - loss: 1378.5166 - accuracy: 0.5088 - true_positives: 493.0000 - true_negatives: 321.0000 - false_positives: 467.0000 - false_negatives: 319.0000\n",
      "Epoch 73/100\n",
      "25/25 [==============================] - 25s 925ms/step - loss: 1.7017 - accuracy: 0.5000 - true_positives: 166.0000 - true_negatives: 634.0000 - false_positives: 154.0000 - false_negatives: 646.0000\n",
      "Epoch 74/100\n",
      "25/25 [==============================] - 25s 924ms/step - loss: 0.7177 - accuracy: 0.4925 - true_positives: 0.0000e+00 - true_negatives: 788.0000 - false_positives: 0.0000e+00 - false_negatives: 812.0000\n",
      "Epoch 75/100\n",
      "25/25 [==============================] - 25s 921ms/step - loss: 0.7050 - accuracy: 0.4925 - true_positives: 0.0000e+00 - true_negatives: 788.0000 - false_positives: 0.0000e+00 - false_negatives: 812.0000\n",
      "Epoch 76/100\n",
      "25/25 [==============================] - 25s 923ms/step - loss: 0.6984 - accuracy: 0.4925 - true_positives: 0.0000e+00 - true_negatives: 788.0000 - false_positives: 0.0000e+00 - false_negatives: 812.0000\n",
      "Epoch 77/100\n",
      "25/25 [==============================] - 25s 923ms/step - loss: 0.6954 - accuracy: 0.4925 - true_positives: 0.0000e+00 - true_negatives: 788.0000 - false_positives: 0.0000e+00 - false_negatives: 812.0000\n",
      "Epoch 78/100\n",
      "25/25 [==============================] - 25s 924ms/step - loss: 0.6940 - accuracy: 0.4925 - true_positives: 0.0000e+00 - true_negatives: 788.0000 - false_positives: 0.0000e+00 - false_negatives: 812.0000\n",
      "Epoch 79/100\n",
      "25/25 [==============================] - 25s 929ms/step - loss: 0.6936 - accuracy: 0.4925 - true_positives: 0.0000e+00 - true_negatives: 788.0000 - false_positives: 0.0000e+00 - false_negatives: 812.0000\n",
      "Epoch 80/100\n",
      "25/25 [==============================] - 25s 930ms/step - loss: 0.6932 - accuracy: 0.4925 - true_positives: 160.0000 - true_negatives: 628.0000 - false_positives: 160.0000 - false_negatives: 652.0000\n",
      "Epoch 81/100\n",
      "25/25 [==============================] - 25s 924ms/step - loss: 0.6931 - accuracy: 0.4913 - true_positives: 575.0000 - true_negatives: 211.0000 - false_positives: 577.0000 - false_negatives: 237.0000\n",
      "Epoch 82/100\n",
      "25/25 [==============================] - 25s 934ms/step - loss: 0.6933 - accuracy: 0.5075 - true_positives: 812.0000 - true_negatives: 0.0000e+00 - false_positives: 788.0000 - false_negatives: 0.0000e+00\n",
      "Epoch 83/100\n",
      "25/25 [==============================] - 25s 925ms/step - loss: 0.6931 - accuracy: 0.5075 - true_positives: 812.0000 - true_negatives: 0.0000e+00 - false_positives: 788.0000 - false_negatives: 0.0000e+00\n",
      "Epoch 84/100\n",
      "25/25 [==============================] - 25s 931ms/step - loss: 0.6931 - accuracy: 0.5075 - true_positives: 812.0000 - true_negatives: 0.0000e+00 - false_positives: 788.0000 - false_negatives: 0.0000e+00\n",
      "Epoch 85/100\n",
      "25/25 [==============================] - 26s 958ms/step - loss: 0.6931 - accuracy: 0.5075 - true_positives: 812.0000 - true_negatives: 0.0000e+00 - false_positives: 788.0000 - false_negatives: 0.0000e+00\n",
      "Epoch 86/100\n",
      "25/25 [==============================] - 25s 905ms/step - loss: 0.6932 - accuracy: 0.5075 - true_positives: 812.0000 - true_negatives: 0.0000e+00 - false_positives: 788.0000 - false_negatives: 0.0000e+00\n",
      "Epoch 87/100\n",
      "25/25 [==============================] - 23s 849ms/step - loss: 0.6931 - accuracy: 0.5075 - true_positives: 812.0000 - true_negatives: 0.0000e+00 - false_positives: 788.0000 - false_negatives: 0.0000e+00\n",
      "Epoch 88/100\n",
      "25/25 [==============================] - 23s 853ms/step - loss: 0.6932 - accuracy: 0.5075 - true_positives: 812.0000 - true_negatives: 0.0000e+00 - false_positives: 788.0000 - false_negatives: 0.0000e+00\n",
      "Epoch 89/100\n",
      "25/25 [==============================] - 24s 902ms/step - loss: 0.6932 - accuracy: 0.5075 - true_positives: 812.0000 - true_negatives: 0.0000e+00 - false_positives: 788.0000 - false_negatives: 0.0000e+00\n",
      "Epoch 90/100\n",
      "25/25 [==============================] - 23s 866ms/step - loss: 0.6931 - accuracy: 0.5075 - true_positives: 812.0000 - true_negatives: 0.0000e+00 - false_positives: 788.0000 - false_negatives: 0.0000e+00\n",
      "Epoch 91/100\n",
      "25/25 [==============================] - 23s 864ms/step - loss: 0.6932 - accuracy: 0.5075 - true_positives: 812.0000 - true_negatives: 0.0000e+00 - false_positives: 788.0000 - false_negatives: 0.0000e+00\n",
      "Epoch 92/100\n",
      "25/25 [==============================] - 23s 862ms/step - loss: 0.6932 - accuracy: 0.5075 - true_positives: 812.0000 - true_negatives: 0.0000e+00 - false_positives: 788.0000 - false_negatives: 0.0000e+00\n",
      "Epoch 93/100\n",
      "25/25 [==============================] - 23s 868ms/step - loss: 0.6931 - accuracy: 0.5075 - true_positives: 812.0000 - true_negatives: 0.0000e+00 - false_positives: 788.0000 - false_negatives: 0.0000e+00\n",
      "Epoch 94/100\n",
      "25/25 [==============================] - 23s 862ms/step - loss: 0.6931 - accuracy: 0.5075 - true_positives: 812.0000 - true_negatives: 0.0000e+00 - false_positives: 788.0000 - false_negatives: 0.0000e+00\n",
      "Epoch 95/100\n",
      "25/25 [==============================] - 23s 864ms/step - loss: 0.6931 - accuracy: 0.5075 - true_positives: 812.0000 - true_negatives: 0.0000e+00 - false_positives: 788.0000 - false_negatives: 0.0000e+00\n",
      "Epoch 96/100\n",
      "25/25 [==============================] - 24s 868ms/step - loss: 0.6931 - accuracy: 0.5075 - true_positives: 812.0000 - true_negatives: 0.0000e+00 - false_positives: 788.0000 - false_negatives: 0.0000e+00\n",
      "Epoch 97/100\n",
      "25/25 [==============================] - 23s 861ms/step - loss: 0.6931 - accuracy: 0.5075 - true_positives: 812.0000 - true_negatives: 0.0000e+00 - false_positives: 788.0000 - false_negatives: 0.0000e+00\n",
      "Epoch 98/100\n",
      "25/25 [==============================] - 24s 869ms/step - loss: 0.6932 - accuracy: 0.5075 - true_positives: 812.0000 - true_negatives: 0.0000e+00 - false_positives: 788.0000 - false_negatives: 0.0000e+00\n",
      "Epoch 99/100\n",
      "25/25 [==============================] - 24s 867ms/step - loss: 0.6930 - accuracy: 0.5075 - true_positives: 812.0000 - true_negatives: 0.0000e+00 - false_positives: 788.0000 - false_negatives: 0.0000e+00\n",
      "Epoch 100/100\n",
      "25/25 [==============================] - 23s 861ms/step - loss: 0.6931 - accuracy: 0.5075 - true_positives: 812.0000 - true_negatives: 0.0000e+00 - false_positives: 788.0000 - false_negatives: 0.0000e+00\n"
     ]
    }
   ],
   "source": [
    "history = classifier.fit(train_ds, epochs = 100, shuffle=True, batch_size=32)"
   ]
  },
  {
   "cell_type": "code",
   "execution_count": 23,
   "metadata": {},
   "outputs": [
    {
     "data": {
      "image/png": "[encoded data removed]",
      "text/plain": [
       "<Figure size 432x288 with 1 Axes>"
      ]
     },
     "metadata": {
      "needs_background": "light"
     },
     "output_type": "display_data"
    },
    {
     "data": {
      "image/png": "[encoded data removed]",
      "text/plain": [
       "<Figure size 432x288 with 1 Axes>"
      ]
     },
     "metadata": {
      "needs_background": "light"
     },
     "output_type": "display_data"
    }
   ],
   "source": [
    "\n",
    "plt.plot(history.history['accuracy'])\n",
    "# plt.plot(history.history['val_accuracy'])\n",
    "plt.title('VGG19 accuracy')\n",
    "plt.ylabel('accuracy')\n",
    "plt.xlabel('epoch')\n",
    "plt.legend(['train', 'test'], loc='lower right')\n",
    "plt.show()\n",
    "\n",
    "plt.plot(history.history['loss'])\n",
    "# plt.plot(history.history['val_accuracy'])\n",
    "plt.title('VGG19 loss')\n",
    "plt.ylabel('accuracy')\n",
    "plt.xlabel('epoch')\n",
    "plt.legend(['loss', 'test'], loc='lower right')\n",
    "plt.show()\n"
   ]
  },
  {
   "cell_type": "code",
   "execution_count": 24,
   "metadata": {},
   "outputs": [
    {
     "data": {
      "text/html": [
       "<table border=\"1\" class=\"dataframe\">\n",
       "  <thead>\n",
       "    <tr style=\"text-align: right;\">\n",
       "      <th>item</th>\n",
       "      <th>max</th>\n",
       "      <th>mean</th>\n",
       "      <th>min</th>\n",
       "      <th>std</th>\n",
       "    </tr>\n",
       "  </thead>\n",
       "  <tbody>\n",
       "    <tr>\n",
       "      <td>loss</td>\n",
       "      <td>2.318484e+14</td>\n",
       "      <td>2.318484e+12</td>\n",
       "      <td>0.693043</td>\n",
       "      <td>2.306863e+13</td>\n",
       "    </tr>\n",
       "    <tr>\n",
       "      <td>accuracy</td>\n",
       "      <td>5.262500e-01</td>\n",
       "      <td>4.975750e-01</td>\n",
       "      <td>0.468750</td>\n",
       "      <td>1.143298e-02</td>\n",
       "    </tr>\n",
       "    <tr>\n",
       "      <td>true_positives</td>\n",
       "      <td>8.120000e+02</td>\n",
       "      <td>4.824200e+02</td>\n",
       "      <td>0.000000</td>\n",
       "      <td>2.045316e+02</td>\n",
       "    </tr>\n",
       "    <tr>\n",
       "      <td>true_negatives</td>\n",
       "      <td>7.880000e+02</td>\n",
       "      <td>3.137000e+02</td>\n",
       "      <td>0.000000</td>\n",
       "      <td>1.968995e+02</td>\n",
       "    </tr>\n",
       "    <tr>\n",
       "      <td>false_positives</td>\n",
       "      <td>7.880000e+02</td>\n",
       "      <td>4.743000e+02</td>\n",
       "      <td>0.000000</td>\n",
       "      <td>1.968995e+02</td>\n",
       "    </tr>\n",
       "    <tr>\n",
       "      <td>false_negatives</td>\n",
       "      <td>8.120000e+02</td>\n",
       "      <td>3.295800e+02</td>\n",
       "      <td>0.000000</td>\n",
       "      <td>2.045316e+02</td>\n",
       "    </tr>\n",
       "  </tbody>\n",
       "</table>"
      ],
      "text/plain": [
       "<IPython.core.display.HTML object>"
      ]
     },
     "execution_count": 24,
     "metadata": {},
     "output_type": "execute_result"
    }
   ],
   "source": [
    "df = pd.DataFrame()\n",
    "for idx, key in enumerate(history.history.keys()):\n",
    "    row = pd.DataFrame(data={\n",
    "      'item': key,\n",
    "      'max': max(history.history[key]),\n",
    "      'mean': np.mean(history.history[key]),\n",
    "      'min': min(history.history[key]),\n",
    "      'std': np.std(history.history[key]),\n",
    "    }, index=[idx])\n",
    "    df = pd.concat([df,row])\n",
    "\n",
    "from IPython.display import HTML\n",
    "df.sort_values(by=['item'],ascending=True)\n",
    "HTML(df.to_html(index=False))"
   ]
  }
 ],
 "metadata": {
  "kernelspec": {
   "display_name": "Python 3.10.4 ('tf-venv')",
   "language": "python",
   "name": "python3"
  },
  "language_info": {
   "codemirror_mode": {
    "name": "ipython",
    "version": 3
   },
   "file_extension": ".py",
   "mimetype": "text/x-python",
   "name": "python",
   "nbconvert_exporter": "python",
   "pygments_lexer": "ipython3",
   "version": "3.10.4"
  },
  "orig_nbformat": 4,
  "vscode": {
   "interpreter": {
    "hash": "cc9cbefc8544a8379a53c857cd2b15dea463896e3f9720ef4a3e2498fce52563"
   }
  }
 },
 "nbformat": 4,
 "nbformat_minor": 2
}
