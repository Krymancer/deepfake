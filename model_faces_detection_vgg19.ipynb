{
 "cells": [
  {
   "cell_type": "code",
   "execution_count": 1,
   "metadata": {},
   "outputs": [],
   "source": [
    "import matplotlib\n",
    "import matplotlib.pyplot as plt\n",
    "%matplotlib inline\n",
    "import pickle\n",
    "import os\n",
    "import sys\n",
    "from PIL import Image\n",
    "import pandas as pd\n",
    "import numpy as np\n",
    "import seaborn as sns\n",
    "import scipy\n",
    "import keras\n",
    "import tensorflow as tf\n",
    "import cv2\n",
    "from keras.models import Sequential\n",
    "from keras.layers import Dense, Conv2D , MaxPool2D , Flatten , Dropout \n",
    "from keras.preprocessing.image import ImageDataGenerator\n",
    "from keras.optimizers import Adam\n",
    "from sklearn.metrics import classification_report,confusion_matrix\n",
    "from keras.models import Model as KerasModel\n",
    "from keras.layers import Input, Dense, Flatten, Conv2D, MaxPooling2D, BatchNormalization, Dropout, Reshape, Concatenate, LeakyReLU\n",
    "from sklearn.utils import shuffle\n",
    "from tensorflow.keras.applications.vgg16 import VGG16\n",
    "from tensorflow.keras.optimizers import Adam\n",
    "\n",
    "from tqdm import tqdm\n",
    "np.random.seed(0)\n",
    "tf.compat.v1.random.set_random_seed(0)"
   ]
  },
  {
   "cell_type": "code",
   "execution_count": 2,
   "metadata": {},
   "outputs": [],
   "source": [
    "directory = os.path.join(os.getcwd(), 'data', 'dataset')\n",
    "fake_directory = os.path.join(directory, 'fake')\n",
    "real_directory = os.path.join(directory, 'real')\n",
    "\n",
    "fake = []\n",
    "real = []"
   ]
  },
  {
   "cell_type": "code",
   "execution_count": 3,
   "metadata": {},
   "outputs": [
    {
     "name": "stderr",
     "output_type": "stream",
     "text": [
      "100%|██████████| 1000/1000 [00:00<00:00, 199207.03it/s]\n",
      "100%|██████████| 1000/1000 [00:00<00:00, 199995.42it/s]\n"
     ]
    }
   ],
   "source": [
    "for name in tqdm(os.listdir(fake_directory)):\n",
    "  fake.append(os.path.join(fake_directory, name))\n",
    "\n",
    "for name in tqdm(os.listdir(real_directory)):\n",
    "  real.append(os.path.join(real_directory, name))"
   ]
  },
  {
   "cell_type": "code",
   "execution_count": 4,
   "metadata": {},
   "outputs": [],
   "source": [
    "y = np.ones(len(real))\n",
    "x = np.zeros(len(fake))\n",
    "\n",
    "label = np.concatenate([y, x])\n",
    "\n",
    "names_list = real + fake\n",
    "\n",
    "new_data, new_label = shuffle(names_list, label,  random_state = 0)\n",
    "\n",
    "size = len(new_data)\n",
    "train_size = int(size * 0.8) * -1\n",
    "test_size = int(size * 0.2) * -1\n",
    "\n",
    "train, test, y_train, y_test = new_data[:test_size], new_data[train_size:], new_label[:train_size], new_label[test_size:]"
   ]
  },
  {
   "cell_type": "code",
   "execution_count": 5,
   "metadata": {},
   "outputs": [],
   "source": [
    "def decode_img(img):\n",
    "    img = tf.image.decode_jpeg(img, channels=3)\n",
    "    img = tf.image.convert_image_dtype(img, tf.uint8)\n",
    "    img = tf.image.resize(img, [224, 224])\n",
    "    return img\n",
    "\n",
    "def get_label(file_path):\n",
    "    print(file_path)\n",
    "    cat = tf.strings.split(file_path, '\\\\')[7]\n",
    "    print(cat)\n",
    "    if cat == b'fake':\n",
    "        return 1\n",
    "    return 0\n",
    "\n",
    "def process_path(file_path):\n",
    "    label = get_label(file_path)\n",
    "    img = tf.io.read_file(file_path)\n",
    "    img = decode_img(img)\n",
    "    return img, label"
   ]
  },
  {
   "cell_type": "code",
   "execution_count": 6,
   "metadata": {},
   "outputs": [
    {
     "name": "stdout",
     "output_type": "stream",
     "text": [
      "Tensor(\"args_0:0\", shape=(), dtype=string)\n",
      "Tensor(\"strided_slice:0\", shape=(), dtype=string)\n"
     ]
    }
   ],
   "source": [
    "num_threads, num_epochs, train_len = 8, 20, len(train) \n",
    "train_ds = tf.data.Dataset.from_tensor_slices(train)\n",
    "train_ds = train_ds.map(process_path, num_parallel_calls=tf.data.experimental.AUTOTUNE)"
   ]
  },
  {
   "cell_type": "code",
   "execution_count": 7,
   "metadata": {},
   "outputs": [
    {
     "data": {
      "text/plain": [
       "<ParallelMapDataset element_spec=(TensorSpec(shape=(224, 224, 3), dtype=tf.float32, name=None), TensorSpec(shape=(), dtype=tf.int32, name=None))>"
      ]
     },
     "execution_count": 7,
     "metadata": {},
     "output_type": "execute_result"
    }
   ],
   "source": [
    "train_ds"
   ]
  },
  {
   "cell_type": "code",
   "execution_count": 8,
   "metadata": {},
   "outputs": [],
   "source": [
    "train_ds = train_ds.shuffle(train_len)\n",
    "train_ds = train_ds.batch(64)\n",
    "train_ds = train_ds.prefetch(1)"
   ]
  },
  {
   "cell_type": "code",
   "execution_count": 9,
   "metadata": {},
   "outputs": [],
   "source": [
    "from tensorflow.keras.applications.vgg19 import VGG19\n",
    "\n",
    "model = VGG16(weights='imagenet', include_top=False, input_shape=(224, 224, 3))"
   ]
  },
  {
   "cell_type": "code",
   "execution_count": 10,
   "metadata": {},
   "outputs": [],
   "source": [
    "opt = tf.keras.optimizers.Adam(\n",
    "    learning_rate= 0.01,\n",
    "    beta_1=0.9,\n",
    "    beta_2=0.999,\n",
    "    epsilon=1e-07,\n",
    "    amsgrad=False)\n",
    "\n",
    "def loss_fn(labels, predictions):\n",
    "    return tf.math.confusion_matrix(\n",
    "    labels, predictions, num_classes=2, weights=None, dtype=tf.dtypes.int32,\n",
    "    name=None).numpy()[0,1]\n",
    "\n",
    "tp = tf.keras.metrics.TruePositives(thresholds=None, name=None, dtype=None)\n",
    "tn = tf.keras.metrics.TrueNegatives(thresholds=None, name=None, dtype=None)\n",
    "fp = tf.keras.metrics.FalsePositives(thresholds=None, name=None, dtype=None)\n",
    "fn = tf.keras.metrics.FalseNegatives(thresholds=None, name=None, dtype=None)"
   ]
  },
  {
   "cell_type": "code",
   "execution_count": 11,
   "metadata": {},
   "outputs": [],
   "source": [
    "classifier = Sequential()\n",
    "classifier.add(model)\n",
    "classifier.add(Flatten())\n",
    "classifier.add(Dense(1024, activation='relu'))\n",
    "classifier.add(Dense(1, activation = 'sigmoid'))\n",
    "classifier.compile(optimizer = opt, loss = 'binary_crossentropy', metrics = ['accuracy', tp,tn,fp,fn])"
   ]
  },
  {
   "cell_type": "code",
   "execution_count": 12,
   "metadata": {},
   "outputs": [
    {
     "name": "stdout",
     "output_type": "stream",
     "text": [
      "Epoch 1/100\n",
      "25/25 [==============================] - 42s 735ms/step - loss: 38900580352.0000 - accuracy: 0.5031 - true_positives: 509.0000 - true_negatives: 296.0000 - false_positives: 492.0000 - false_negatives: 303.0000\n",
      "Epoch 2/100\n",
      "25/25 [==============================] - 19s 662ms/step - loss: 135.3750 - accuracy: 0.5144 - true_positives: 465.0000 - true_negatives: 358.0000 - false_positives: 430.0000 - false_negatives: 347.0000\n",
      "Epoch 3/100\n",
      "25/25 [==============================] - 19s 665ms/step - loss: 3555.2139 - accuracy: 0.4737 - true_positives: 384.0000 - true_negatives: 374.0000 - false_positives: 414.0000 - false_negatives: 428.0000\n",
      "Epoch 4/100\n",
      "25/25 [==============================] - 21s 760ms/step - loss: 3062.0718 - accuracy: 0.4950 - true_positives: 386.0000 - true_negatives: 406.0000 - false_positives: 382.0000 - false_negatives: 426.0000\n",
      "Epoch 5/100\n",
      "25/25 [==============================] - 22s 757ms/step - loss: 26.6490 - accuracy: 0.5025 - true_positives: 456.0000 - true_negatives: 348.0000 - false_positives: 440.0000 - false_negatives: 356.0000\n",
      "Epoch 6/100\n",
      "25/25 [==============================] - 21s 747ms/step - loss: 7.8516 - accuracy: 0.4800 - true_positives: 374.0000 - true_negatives: 394.0000 - false_positives: 394.0000 - false_negatives: 438.0000\n",
      "Epoch 7/100\n",
      "25/25 [==============================] - 21s 742ms/step - loss: 14.9396 - accuracy: 0.5038 - true_positives: 393.0000 - true_negatives: 413.0000 - false_positives: 375.0000 - false_negatives: 419.0000\n",
      "Epoch 8/100\n",
      "25/25 [==============================] - 20s 743ms/step - loss: 16.1406 - accuracy: 0.4938 - true_positives: 481.0000 - true_negatives: 309.0000 - false_positives: 479.0000 - false_negatives: 331.0000\n",
      "Epoch 9/100\n",
      "25/25 [==============================] - 21s 743ms/step - loss: 7.3214 - accuracy: 0.4975 - true_positives: 484.0000 - true_negatives: 312.0000 - false_positives: 476.0000 - false_negatives: 328.0000\n",
      "Epoch 10/100\n",
      "25/25 [==============================] - 20s 744ms/step - loss: 0.7000 - accuracy: 0.4925 - true_positives: 0.0000e+00 - true_negatives: 788.0000 - false_positives: 0.0000e+00 - false_negatives: 812.0000\n",
      "Epoch 11/100\n",
      "25/25 [==============================] - 20s 745ms/step - loss: 0.6989 - accuracy: 0.4925 - true_positives: 0.0000e+00 - true_negatives: 788.0000 - false_positives: 0.0000e+00 - false_negatives: 812.0000\n",
      "Epoch 12/100\n",
      "25/25 [==============================] - 20s 743ms/step - loss: 0.6976 - accuracy: 0.4925 - true_positives: 0.0000e+00 - true_negatives: 788.0000 - false_positives: 0.0000e+00 - false_negatives: 812.0000\n",
      "Epoch 13/100\n",
      "25/25 [==============================] - 21s 751ms/step - loss: 0.6962 - accuracy: 0.4925 - true_positives: 0.0000e+00 - true_negatives: 788.0000 - false_positives: 0.0000e+00 - false_negatives: 812.0000\n",
      "Epoch 14/100\n",
      "25/25 [==============================] - 20s 746ms/step - loss: 0.6954 - accuracy: 0.4925 - true_positives: 0.0000e+00 - true_negatives: 788.0000 - false_positives: 0.0000e+00 - false_negatives: 812.0000\n",
      "Epoch 15/100\n",
      "25/25 [==============================] - 21s 748ms/step - loss: 0.6946 - accuracy: 0.4925 - true_positives: 0.0000e+00 - true_negatives: 788.0000 - false_positives: 0.0000e+00 - false_negatives: 812.0000\n",
      "Epoch 16/100\n",
      "25/25 [==============================] - 21s 747ms/step - loss: 0.6942 - accuracy: 0.4925 - true_positives: 0.0000e+00 - true_negatives: 788.0000 - false_positives: 0.0000e+00 - false_negatives: 812.0000\n",
      "Epoch 17/100\n",
      "25/25 [==============================] - 21s 744ms/step - loss: 0.6938 - accuracy: 0.4925 - true_positives: 0.0000e+00 - true_negatives: 788.0000 - false_positives: 0.0000e+00 - false_negatives: 812.0000\n",
      "Epoch 18/100\n",
      "25/25 [==============================] - 20s 746ms/step - loss: 0.6936 - accuracy: 0.4925 - true_positives: 0.0000e+00 - true_negatives: 788.0000 - false_positives: 0.0000e+00 - false_negatives: 812.0000\n",
      "Epoch 19/100\n",
      "25/25 [==============================] - 21s 756ms/step - loss: 0.6934 - accuracy: 0.4925 - true_positives: 0.0000e+00 - true_negatives: 788.0000 - false_positives: 0.0000e+00 - false_negatives: 812.0000\n",
      "Epoch 20/100\n",
      "25/25 [==============================] - 20s 749ms/step - loss: 0.6933 - accuracy: 0.4925 - true_positives: 0.0000e+00 - true_negatives: 788.0000 - false_positives: 0.0000e+00 - false_negatives: 812.0000\n",
      "Epoch 21/100\n",
      "25/25 [==============================] - 22s 751ms/step - loss: 0.6932 - accuracy: 0.4925 - true_positives: 0.0000e+00 - true_negatives: 788.0000 - false_positives: 0.0000e+00 - false_negatives: 812.0000\n",
      "Epoch 22/100\n",
      "25/25 [==============================] - 20s 718ms/step - loss: 0.6932 - accuracy: 0.4963 - true_positives: 131.0000 - true_negatives: 663.0000 - false_positives: 125.0000 - false_negatives: 681.0000\n",
      "Epoch 23/100\n",
      "25/25 [==============================] - 20s 718ms/step - loss: 0.6932 - accuracy: 0.5075 - true_positives: 812.0000 - true_negatives: 0.0000e+00 - false_positives: 788.0000 - false_negatives: 0.0000e+00\n",
      "Epoch 24/100\n",
      "25/25 [==============================] - 20s 716ms/step - loss: 0.6931 - accuracy: 0.5075 - true_positives: 812.0000 - true_negatives: 0.0000e+00 - false_positives: 788.0000 - false_negatives: 0.0000e+00\n",
      "Epoch 25/100\n",
      "25/25 [==============================] - 20s 718ms/step - loss: 0.6931 - accuracy: 0.5075 - true_positives: 812.0000 - true_negatives: 0.0000e+00 - false_positives: 788.0000 - false_negatives: 0.0000e+00\n",
      "Epoch 26/100\n",
      "25/25 [==============================] - 20s 719ms/step - loss: 0.6930 - accuracy: 0.5075 - true_positives: 812.0000 - true_negatives: 0.0000e+00 - false_positives: 788.0000 - false_negatives: 0.0000e+00\n",
      "Epoch 27/100\n",
      "25/25 [==============================] - 20s 721ms/step - loss: 0.6931 - accuracy: 0.5075 - true_positives: 812.0000 - true_negatives: 0.0000e+00 - false_positives: 788.0000 - false_negatives: 0.0000e+00\n",
      "Epoch 28/100\n",
      "25/25 [==============================] - 20s 718ms/step - loss: 0.6931 - accuracy: 0.5075 - true_positives: 812.0000 - true_negatives: 0.0000e+00 - false_positives: 788.0000 - false_negatives: 0.0000e+00\n",
      "Epoch 29/100\n",
      "25/25 [==============================] - 20s 718ms/step - loss: 0.6931 - accuracy: 0.5075 - true_positives: 812.0000 - true_negatives: 0.0000e+00 - false_positives: 788.0000 - false_negatives: 0.0000e+00\n",
      "Epoch 30/100\n",
      "25/25 [==============================] - 20s 719ms/step - loss: 0.6931 - accuracy: 0.5075 - true_positives: 812.0000 - true_negatives: 0.0000e+00 - false_positives: 788.0000 - false_negatives: 0.0000e+00\n",
      "Epoch 31/100\n",
      "25/25 [==============================] - 20s 719ms/step - loss: 0.6931 - accuracy: 0.5075 - true_positives: 812.0000 - true_negatives: 0.0000e+00 - false_positives: 788.0000 - false_negatives: 0.0000e+00\n",
      "Epoch 32/100\n",
      "25/25 [==============================] - 20s 721ms/step - loss: 0.6931 - accuracy: 0.5075 - true_positives: 812.0000 - true_negatives: 0.0000e+00 - false_positives: 788.0000 - false_negatives: 0.0000e+00\n",
      "Epoch 33/100\n",
      "25/25 [==============================] - 20s 718ms/step - loss: 0.6931 - accuracy: 0.5075 - true_positives: 812.0000 - true_negatives: 0.0000e+00 - false_positives: 788.0000 - false_negatives: 0.0000e+00\n",
      "Epoch 34/100\n",
      "25/25 [==============================] - 20s 718ms/step - loss: 0.6931 - accuracy: 0.5075 - true_positives: 812.0000 - true_negatives: 0.0000e+00 - false_positives: 788.0000 - false_negatives: 0.0000e+00\n",
      "Epoch 35/100\n",
      "25/25 [==============================] - 20s 718ms/step - loss: 0.6931 - accuracy: 0.5075 - true_positives: 812.0000 - true_negatives: 0.0000e+00 - false_positives: 788.0000 - false_negatives: 0.0000e+00\n",
      "Epoch 36/100\n",
      "25/25 [==============================] - 20s 718ms/step - loss: 0.6931 - accuracy: 0.5075 - true_positives: 812.0000 - true_negatives: 0.0000e+00 - false_positives: 788.0000 - false_negatives: 0.0000e+00\n",
      "Epoch 37/100\n",
      "25/25 [==============================] - 20s 717ms/step - loss: 0.6931 - accuracy: 0.5075 - true_positives: 812.0000 - true_negatives: 0.0000e+00 - false_positives: 788.0000 - false_negatives: 0.0000e+00\n",
      "Epoch 38/100\n",
      "25/25 [==============================] - 20s 722ms/step - loss: 0.6930 - accuracy: 0.5075 - true_positives: 812.0000 - true_negatives: 0.0000e+00 - false_positives: 788.0000 - false_negatives: 0.0000e+00\n",
      "Epoch 39/100\n",
      "25/25 [==============================] - 20s 717ms/step - loss: 0.6931 - accuracy: 0.5075 - true_positives: 812.0000 - true_negatives: 0.0000e+00 - false_positives: 788.0000 - false_negatives: 0.0000e+00\n",
      "Epoch 40/100\n",
      "25/25 [==============================] - 20s 718ms/step - loss: 0.6931 - accuracy: 0.5075 - true_positives: 812.0000 - true_negatives: 0.0000e+00 - false_positives: 788.0000 - false_negatives: 0.0000e+00\n",
      "Epoch 41/100\n",
      "25/25 [==============================] - 20s 718ms/step - loss: 0.6931 - accuracy: 0.5075 - true_positives: 812.0000 - true_negatives: 0.0000e+00 - false_positives: 788.0000 - false_negatives: 0.0000e+00\n",
      "Epoch 42/100\n",
      "25/25 [==============================] - 20s 718ms/step - loss: 0.6931 - accuracy: 0.5075 - true_positives: 812.0000 - true_negatives: 0.0000e+00 - false_positives: 788.0000 - false_negatives: 0.0000e+00\n",
      "Epoch 43/100\n",
      "25/25 [==============================] - 20s 719ms/step - loss: 0.6931 - accuracy: 0.5075 - true_positives: 812.0000 - true_negatives: 0.0000e+00 - false_positives: 788.0000 - false_negatives: 0.0000e+00\n",
      "Epoch 44/100\n",
      "25/25 [==============================] - 20s 721ms/step - loss: 0.6931 - accuracy: 0.5075 - true_positives: 812.0000 - true_negatives: 0.0000e+00 - false_positives: 788.0000 - false_negatives: 0.0000e+00\n",
      "Epoch 45/100\n",
      "25/25 [==============================] - 20s 718ms/step - loss: 0.6931 - accuracy: 0.5075 - true_positives: 812.0000 - true_negatives: 0.0000e+00 - false_positives: 788.0000 - false_negatives: 0.0000e+00\n",
      "Epoch 46/100\n",
      "25/25 [==============================] - 20s 716ms/step - loss: 0.6931 - accuracy: 0.5075 - true_positives: 812.0000 - true_negatives: 0.0000e+00 - false_positives: 788.0000 - false_negatives: 0.0000e+00\n",
      "Epoch 47/100\n",
      "25/25 [==============================] - 20s 718ms/step - loss: 0.6931 - accuracy: 0.5075 - true_positives: 812.0000 - true_negatives: 0.0000e+00 - false_positives: 788.0000 - false_negatives: 0.0000e+00\n",
      "Epoch 48/100\n",
      "25/25 [==============================] - 20s 719ms/step - loss: 0.6931 - accuracy: 0.5075 - true_positives: 812.0000 - true_negatives: 0.0000e+00 - false_positives: 788.0000 - false_negatives: 0.0000e+00\n",
      "Epoch 49/100\n",
      "25/25 [==============================] - 20s 721ms/step - loss: 0.6931 - accuracy: 0.5075 - true_positives: 812.0000 - true_negatives: 0.0000e+00 - false_positives: 788.0000 - false_negatives: 0.0000e+00\n",
      "Epoch 50/100\n",
      "25/25 [==============================] - 20s 719ms/step - loss: 0.6931 - accuracy: 0.5075 - true_positives: 812.0000 - true_negatives: 0.0000e+00 - false_positives: 788.0000 - false_negatives: 0.0000e+00\n",
      "Epoch 51/100\n",
      "25/25 [==============================] - 20s 719ms/step - loss: 0.6931 - accuracy: 0.5075 - true_positives: 812.0000 - true_negatives: 0.0000e+00 - false_positives: 788.0000 - false_negatives: 0.0000e+00\n",
      "Epoch 52/100\n",
      "25/25 [==============================] - 20s 719ms/step - loss: 0.6930 - accuracy: 0.5075 - true_positives: 812.0000 - true_negatives: 0.0000e+00 - false_positives: 788.0000 - false_negatives: 0.0000e+00\n",
      "Epoch 53/100\n",
      "25/25 [==============================] - 20s 718ms/step - loss: 0.6931 - accuracy: 0.5075 - true_positives: 812.0000 - true_negatives: 0.0000e+00 - false_positives: 788.0000 - false_negatives: 0.0000e+00\n",
      "Epoch 54/100\n",
      "25/25 [==============================] - 20s 717ms/step - loss: 0.6931 - accuracy: 0.5075 - true_positives: 812.0000 - true_negatives: 0.0000e+00 - false_positives: 788.0000 - false_negatives: 0.0000e+00\n",
      "Epoch 55/100\n",
      "25/25 [==============================] - 20s 720ms/step - loss: 0.6931 - accuracy: 0.5075 - true_positives: 812.0000 - true_negatives: 0.0000e+00 - false_positives: 788.0000 - false_negatives: 0.0000e+00\n",
      "Epoch 56/100\n",
      "25/25 [==============================] - 20s 719ms/step - loss: 0.6932 - accuracy: 0.5075 - true_positives: 812.0000 - true_negatives: 0.0000e+00 - false_positives: 788.0000 - false_negatives: 0.0000e+00\n",
      "Epoch 57/100\n",
      "25/25 [==============================] - 20s 718ms/step - loss: 0.6931 - accuracy: 0.5075 - true_positives: 812.0000 - true_negatives: 0.0000e+00 - false_positives: 788.0000 - false_negatives: 0.0000e+00\n",
      "Epoch 58/100\n",
      "25/25 [==============================] - 20s 719ms/step - loss: 0.6931 - accuracy: 0.5075 - true_positives: 812.0000 - true_negatives: 0.0000e+00 - false_positives: 788.0000 - false_negatives: 0.0000e+00\n",
      "Epoch 59/100\n",
      "25/25 [==============================] - 20s 720ms/step - loss: 0.6931 - accuracy: 0.5075 - true_positives: 812.0000 - true_negatives: 0.0000e+00 - false_positives: 788.0000 - false_negatives: 0.0000e+00\n",
      "Epoch 60/100\n",
      "25/25 [==============================] - 20s 718ms/step - loss: 0.6931 - accuracy: 0.5075 - true_positives: 812.0000 - true_negatives: 0.0000e+00 - false_positives: 788.0000 - false_negatives: 0.0000e+00\n",
      "Epoch 61/100\n",
      "25/25 [==============================] - 20s 723ms/step - loss: 0.6931 - accuracy: 0.5075 - true_positives: 812.0000 - true_negatives: 0.0000e+00 - false_positives: 788.0000 - false_negatives: 0.0000e+00\n",
      "Epoch 62/100\n",
      "25/25 [==============================] - 20s 718ms/step - loss: 0.6931 - accuracy: 0.5075 - true_positives: 812.0000 - true_negatives: 0.0000e+00 - false_positives: 788.0000 - false_negatives: 0.0000e+00\n",
      "Epoch 63/100\n",
      "25/25 [==============================] - 20s 720ms/step - loss: 0.6931 - accuracy: 0.5075 - true_positives: 812.0000 - true_negatives: 0.0000e+00 - false_positives: 788.0000 - false_negatives: 0.0000e+00\n",
      "Epoch 64/100\n",
      "25/25 [==============================] - 20s 719ms/step - loss: 0.6931 - accuracy: 0.5075 - true_positives: 812.0000 - true_negatives: 0.0000e+00 - false_positives: 788.0000 - false_negatives: 0.0000e+00\n",
      "Epoch 65/100\n",
      "25/25 [==============================] - 20s 719ms/step - loss: 0.6932 - accuracy: 0.5075 - true_positives: 812.0000 - true_negatives: 0.0000e+00 - false_positives: 788.0000 - false_negatives: 0.0000e+00\n",
      "Epoch 66/100\n",
      "25/25 [==============================] - 20s 718ms/step - loss: 0.6931 - accuracy: 0.5075 - true_positives: 812.0000 - true_negatives: 0.0000e+00 - false_positives: 788.0000 - false_negatives: 0.0000e+00\n",
      "Epoch 67/100\n",
      "25/25 [==============================] - 20s 723ms/step - loss: 0.6931 - accuracy: 0.5075 - true_positives: 812.0000 - true_negatives: 0.0000e+00 - false_positives: 788.0000 - false_negatives: 0.0000e+00\n",
      "Epoch 68/100\n",
      "25/25 [==============================] - 20s 719ms/step - loss: 0.6932 - accuracy: 0.5075 - true_positives: 812.0000 - true_negatives: 0.0000e+00 - false_positives: 788.0000 - false_negatives: 0.0000e+00\n",
      "Epoch 69/100\n",
      "25/25 [==============================] - 20s 719ms/step - loss: 0.6931 - accuracy: 0.5075 - true_positives: 812.0000 - true_negatives: 0.0000e+00 - false_positives: 788.0000 - false_negatives: 0.0000e+00\n",
      "Epoch 70/100\n",
      "25/25 [==============================] - 20s 721ms/step - loss: 0.6931 - accuracy: 0.5075 - true_positives: 812.0000 - true_negatives: 0.0000e+00 - false_positives: 788.0000 - false_negatives: 0.0000e+00\n",
      "Epoch 71/100\n",
      "25/25 [==============================] - 20s 719ms/step - loss: 0.6931 - accuracy: 0.5075 - true_positives: 812.0000 - true_negatives: 0.0000e+00 - false_positives: 788.0000 - false_negatives: 0.0000e+00\n",
      "Epoch 72/100\n",
      "25/25 [==============================] - 20s 721ms/step - loss: 0.6931 - accuracy: 0.5075 - true_positives: 812.0000 - true_negatives: 0.0000e+00 - false_positives: 788.0000 - false_negatives: 0.0000e+00\n",
      "Epoch 73/100\n",
      "25/25 [==============================] - 20s 720ms/step - loss: 0.6932 - accuracy: 0.5075 - true_positives: 812.0000 - true_negatives: 0.0000e+00 - false_positives: 788.0000 - false_negatives: 0.0000e+00\n",
      "Epoch 74/100\n",
      "25/25 [==============================] - 20s 720ms/step - loss: 0.6931 - accuracy: 0.5075 - true_positives: 812.0000 - true_negatives: 0.0000e+00 - false_positives: 788.0000 - false_negatives: 0.0000e+00\n",
      "Epoch 75/100\n",
      "25/25 [==============================] - 20s 720ms/step - loss: 0.6931 - accuracy: 0.5075 - true_positives: 812.0000 - true_negatives: 0.0000e+00 - false_positives: 788.0000 - false_negatives: 0.0000e+00\n",
      "Epoch 76/100\n",
      "25/25 [==============================] - 20s 719ms/step - loss: 0.6930 - accuracy: 0.5075 - true_positives: 812.0000 - true_negatives: 0.0000e+00 - false_positives: 788.0000 - false_negatives: 0.0000e+00\n",
      "Epoch 77/100\n",
      "25/25 [==============================] - 20s 718ms/step - loss: 0.6931 - accuracy: 0.5075 - true_positives: 812.0000 - true_negatives: 0.0000e+00 - false_positives: 788.0000 - false_negatives: 0.0000e+00\n",
      "Epoch 78/100\n",
      "25/25 [==============================] - 20s 721ms/step - loss: 0.6931 - accuracy: 0.5075 - true_positives: 812.0000 - true_negatives: 0.0000e+00 - false_positives: 788.0000 - false_negatives: 0.0000e+00\n",
      "Epoch 79/100\n",
      "25/25 [==============================] - 20s 719ms/step - loss: 0.6931 - accuracy: 0.5075 - true_positives: 812.0000 - true_negatives: 0.0000e+00 - false_positives: 788.0000 - false_negatives: 0.0000e+00\n",
      "Epoch 80/100\n",
      "25/25 [==============================] - 20s 719ms/step - loss: 0.6931 - accuracy: 0.5075 - true_positives: 812.0000 - true_negatives: 0.0000e+00 - false_positives: 788.0000 - false_negatives: 0.0000e+00\n",
      "Epoch 81/100\n",
      "25/25 [==============================] - 20s 718ms/step - loss: 0.6931 - accuracy: 0.5075 - true_positives: 812.0000 - true_negatives: 0.0000e+00 - false_positives: 788.0000 - false_negatives: 0.0000e+00\n",
      "Epoch 82/100\n",
      "25/25 [==============================] - 20s 719ms/step - loss: 0.6933 - accuracy: 0.5075 - true_positives: 812.0000 - true_negatives: 0.0000e+00 - false_positives: 788.0000 - false_negatives: 0.0000e+00\n",
      "Epoch 83/100\n",
      "25/25 [==============================] - 20s 718ms/step - loss: 0.6932 - accuracy: 0.5075 - true_positives: 812.0000 - true_negatives: 0.0000e+00 - false_positives: 788.0000 - false_negatives: 0.0000e+00\n",
      "Epoch 84/100\n",
      "25/25 [==============================] - 20s 721ms/step - loss: 0.6931 - accuracy: 0.5075 - true_positives: 812.0000 - true_negatives: 0.0000e+00 - false_positives: 788.0000 - false_negatives: 0.0000e+00\n",
      "Epoch 85/100\n",
      "25/25 [==============================] - 20s 717ms/step - loss: 0.6931 - accuracy: 0.5075 - true_positives: 812.0000 - true_negatives: 0.0000e+00 - false_positives: 788.0000 - false_negatives: 0.0000e+00\n",
      "Epoch 86/100\n",
      "25/25 [==============================] - 20s 720ms/step - loss: 0.6933 - accuracy: 0.5075 - true_positives: 812.0000 - true_negatives: 0.0000e+00 - false_positives: 788.0000 - false_negatives: 0.0000e+00\n",
      "Epoch 87/100\n",
      "25/25 [==============================] - 20s 719ms/step - loss: 0.6932 - accuracy: 0.5075 - true_positives: 812.0000 - true_negatives: 0.0000e+00 - false_positives: 788.0000 - false_negatives: 0.0000e+00\n",
      "Epoch 88/100\n",
      "25/25 [==============================] - 19s 707ms/step - loss: 0.6933 - accuracy: 0.5075 - true_positives: 812.0000 - true_negatives: 0.0000e+00 - false_positives: 788.0000 - false_negatives: 0.0000e+00\n",
      "Epoch 89/100\n",
      "25/25 [==============================] - 20s 713ms/step - loss: 0.6933 - accuracy: 0.5075 - true_positives: 812.0000 - true_negatives: 0.0000e+00 - false_positives: 788.0000 - false_negatives: 0.0000e+00\n",
      "Epoch 90/100\n",
      "25/25 [==============================] - 21s 757ms/step - loss: 0.6931 - accuracy: 0.5075 - true_positives: 812.0000 - true_negatives: 0.0000e+00 - false_positives: 788.0000 - false_negatives: 0.0000e+00\n",
      "Epoch 91/100\n",
      "25/25 [==============================] - 19s 709ms/step - loss: 0.6932 - accuracy: 0.5075 - true_positives: 812.0000 - true_negatives: 0.0000e+00 - false_positives: 788.0000 - false_negatives: 0.0000e+00\n",
      "Epoch 92/100\n",
      "25/25 [==============================] - 19s 709ms/step - loss: 0.6932 - accuracy: 0.5075 - true_positives: 812.0000 - true_negatives: 0.0000e+00 - false_positives: 788.0000 - false_negatives: 0.0000e+00\n",
      "Epoch 93/100\n",
      "25/25 [==============================] - 20s 736ms/step - loss: 0.6931 - accuracy: 0.5075 - true_positives: 812.0000 - true_negatives: 0.0000e+00 - false_positives: 788.0000 - false_negatives: 0.0000e+00\n",
      "Epoch 94/100\n",
      "25/25 [==============================] - 24s 864ms/step - loss: 0.6931 - accuracy: 0.5075 - true_positives: 812.0000 - true_negatives: 0.0000e+00 - false_positives: 788.0000 - false_negatives: 0.0000e+00\n",
      "Epoch 95/100\n",
      "25/25 [==============================] - 24s 894ms/step - loss: 0.6931 - accuracy: 0.5075 - true_positives: 812.0000 - true_negatives: 0.0000e+00 - false_positives: 788.0000 - false_negatives: 0.0000e+00\n",
      "Epoch 96/100\n",
      "25/25 [==============================] - 24s 887ms/step - loss: 0.6931 - accuracy: 0.5075 - true_positives: 812.0000 - true_negatives: 0.0000e+00 - false_positives: 788.0000 - false_negatives: 0.0000e+00\n",
      "Epoch 97/100\n",
      "25/25 [==============================] - 24s 882ms/step - loss: 0.6931 - accuracy: 0.5075 - true_positives: 812.0000 - true_negatives: 0.0000e+00 - false_positives: 788.0000 - false_negatives: 0.0000e+00\n",
      "Epoch 98/100\n",
      "25/25 [==============================] - 23s 815ms/step - loss: 0.6932 - accuracy: 0.5075 - true_positives: 812.0000 - true_negatives: 0.0000e+00 - false_positives: 788.0000 - false_negatives: 0.0000e+00\n",
      "Epoch 99/100\n",
      "25/25 [==============================] - 20s 709ms/step - loss: 0.6930 - accuracy: 0.5075 - true_positives: 812.0000 - true_negatives: 0.0000e+00 - false_positives: 788.0000 - false_negatives: 0.0000e+00\n",
      "Epoch 100/100\n",
      "25/25 [==============================] - 20s 727ms/step - loss: 0.6932 - accuracy: 0.5075 - true_positives: 812.0000 - true_negatives: 0.0000e+00 - false_positives: 788.0000 - false_negatives: 0.0000e+00\n"
     ]
    }
   ],
   "source": [
    "history = classifier.fit(train_ds, epochs = 100, shuffle=True, batch_size=32)"
   ]
  },
  {
   "cell_type": "code",
   "execution_count": 15,
   "metadata": {},
   "outputs": [
    {
     "data": {
      "image/png": "[encoded data removed]",
      "text/plain": [
       "<Figure size 432x288 with 1 Axes>"
      ]
     },
     "metadata": {
      "needs_background": "light"
     },
     "output_type": "display_data"
    },
    {
     "data": {
      "image/png": "[encoded data removed]",
      "text/plain": [
       "<Figure size 432x288 with 1 Axes>"
      ]
     },
     "metadata": {
      "needs_background": "light"
     },
     "output_type": "display_data"
    }
   ],
   "source": [
    "\n",
    "plt.plot(history.history['accuracy'])\n",
    "# plt.plot(history.history['val_accuracy'])\n",
    "plt.title('VGG19 accuracy')\n",
    "plt.ylabel('accuracy')\n",
    "plt.xlabel('epoch')\n",
    "plt.legend(['train', 'test'], loc='lower right')\n",
    "plt.show()\n",
    "\n",
    "plt.plot(history.history['loss'])\n",
    "# plt.plot(history.history['val_accuracy'])\n",
    "plt.title('VGG19 loss')\n",
    "plt.ylabel('accuracy')\n",
    "plt.xlabel('epoch')\n",
    "plt.legend(['loss', 'test'], loc='lower right')\n",
    "plt.show()\n"
   ]
  },
  {
   "cell_type": "code",
   "execution_count": 16,
   "metadata": {},
   "outputs": [
    {
     "data": {
      "text/html": [
       "<table border=\"1\" class=\"dataframe\">\n",
       "  <thead>\n",
       "    <tr style=\"text-align: right;\">\n",
       "      <th>item</th>\n",
       "      <th>max</th>\n",
       "      <th>mean</th>\n",
       "      <th>min</th>\n",
       "    </tr>\n",
       "  </thead>\n",
       "  <tbody>\n",
       "    <tr>\n",
       "      <td>loss</td>\n",
       "      <td>3.890058e+10</td>\n",
       "      <td>3.890059e+08</td>\n",
       "      <td>0.693041</td>\n",
       "    </tr>\n",
       "    <tr>\n",
       "      <td>accuracy</td>\n",
       "      <td>5.143750e-01</td>\n",
       "      <td>5.045500e-01</td>\n",
       "      <td>0.473750</td>\n",
       "    </tr>\n",
       "    <tr>\n",
       "      <td>true_positives</td>\n",
       "      <td>8.120000e+02</td>\n",
       "      <td>6.739900e+02</td>\n",
       "      <td>0.000000</td>\n",
       "    </tr>\n",
       "    <tr>\n",
       "      <td>true_negatives</td>\n",
       "      <td>7.880000e+02</td>\n",
       "      <td>1.332900e+02</td>\n",
       "      <td>0.000000</td>\n",
       "    </tr>\n",
       "    <tr>\n",
       "      <td>false_positives</td>\n",
       "      <td>7.880000e+02</td>\n",
       "      <td>6.547100e+02</td>\n",
       "      <td>0.000000</td>\n",
       "    </tr>\n",
       "    <tr>\n",
       "      <td>false_negatives</td>\n",
       "      <td>8.120000e+02</td>\n",
       "      <td>1.380100e+02</td>\n",
       "      <td>0.000000</td>\n",
       "    </tr>\n",
       "  </tbody>\n",
       "</table>"
      ],
      "text/plain": [
       "<IPython.core.display.HTML object>"
      ]
     },
     "execution_count": 16,
     "metadata": {},
     "output_type": "execute_result"
    }
   ],
   "source": [
    "df = pd.DataFrame()\n",
    "for idx, key in enumerate(history.history.keys()):\n",
    "    row = pd.DataFrame(data={\n",
    "      'item': key,\n",
    "      'max': max(history.history[key]),\n",
    "      'mean': np.mean(history.history[key]),\n",
    "      'min': min(history.history[key]),\n",
    "    }, index=[idx])\n",
    "    df = pd.concat([df,row])\n",
    "\n",
    "from IPython.display import HTML\n",
    "df.sort_values(by=['item'],ascending=True)\n",
    "HTML(df.to_html(index=False))"
   ]
  }
 ],
 "metadata": {
  "kernelspec": {
   "display_name": "Python 3.10.4 ('tf-venv')",
   "language": "python",
   "name": "python3"
  },
  "language_info": {
   "codemirror_mode": {
    "name": "ipython",
    "version": 3
   },
   "file_extension": ".py",
   "mimetype": "text/x-python",
   "name": "python",
   "nbconvert_exporter": "python",
   "pygments_lexer": "ipython3",
   "version": "3.10.4"
  },
  "orig_nbformat": 4,
  "vscode": {
   "interpreter": {
    "hash": "cc9cbefc8544a8379a53c857cd2b15dea463896e3f9720ef4a3e2498fce52563"
   }
  }
 },
 "nbformat": 4,
 "nbformat_minor": 2
}
