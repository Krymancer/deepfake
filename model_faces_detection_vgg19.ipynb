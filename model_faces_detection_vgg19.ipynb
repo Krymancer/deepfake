{
 "cells": [
  {
   "cell_type": "code",
   "execution_count": 137,
   "metadata": {},
   "outputs": [],
   "source": [
    "import matplotlib\n",
    "import matplotlib.pyplot as plt\n",
    "%matplotlib inline\n",
    "import pickle\n",
    "import os\n",
    "import sys\n",
    "from PIL import Image\n",
    "import pandas as pd\n",
    "import numpy as np\n",
    "import seaborn as sns\n",
    "import scipy\n",
    "import keras\n",
    "import tensorflow as tf\n",
    "import cv2\n",
    "from keras.models import Sequential\n",
    "from keras.layers import Dense, Conv2D , MaxPool2D , Flatten , Dropout \n",
    "from keras.preprocessing.image import ImageDataGenerator\n",
    "from keras.optimizers import Adam\n",
    "from sklearn.metrics import classification_report,confusion_matrix\n",
    "from keras.models import Model as KerasModel\n",
    "from keras.layers import Input, Dense, Flatten, Conv2D, MaxPooling2D, BatchNormalization, Dropout, Reshape, Concatenate, LeakyReLU\n",
    "from sklearn.utils import shuffle\n",
    "from tensorflow.keras.applications.vgg16 import VGG16\n",
    "from tensorflow.keras.optimizers import Adam\n",
    "\n",
    "from tqdm import tqdm\n",
    "np.random.seed(0)\n",
    "tf.compat.v1.random.set_random_seed(0)"
   ]
  },
  {
   "cell_type": "code",
   "execution_count": 138,
   "metadata": {},
   "outputs": [],
   "source": [
    "directory = os.path.join(os.getcwd(), 'data', 'dataset')\n",
    "fake_directory = os.path.join(directory, 'fake')\n",
    "real_directory = os.path.join(directory, 'real')\n",
    "\n",
    "fake = []\n",
    "real = []"
   ]
  },
  {
   "cell_type": "code",
   "execution_count": 139,
   "metadata": {},
   "outputs": [
    {
     "name": "stderr",
     "output_type": "stream",
     "text": [
      "100%|██████████| 1000/1000 [00:00<00:00, 166778.16it/s]\n",
      "100%|██████████| 1000/1000 [00:00<00:00, 200148.12it/s]\n"
     ]
    }
   ],
   "source": [
    "for name in tqdm(os.listdir(fake_directory)):\n",
    "  fake.append(os.path.join(fake_directory, name))\n",
    "\n",
    "for name in tqdm(os.listdir(real_directory)):\n",
    "  real.append(os.path.join(real_directory, name))"
   ]
  },
  {
   "cell_type": "code",
   "execution_count": 140,
   "metadata": {},
   "outputs": [],
   "source": [
    "y = np.ones(len(real))\n",
    "x = np.zeros(len(fake))\n",
    "\n",
    "label = np.concatenate([y, x])\n",
    "\n",
    "names_list = real + fake\n",
    "\n",
    "new_data, new_label = shuffle(names_list, label,  random_state = 0)\n",
    "\n",
    "size = len(new_data)\n",
    "train_size = int(size * 0.8) * -1\n",
    "test_size = int(size * 0.2) * -1\n",
    "\n",
    "train, test, y_train, y_test = new_data[:test_size], new_data[train_size:], new_label[:train_size], new_label[test_size:]"
   ]
  },
  {
   "cell_type": "code",
   "execution_count": 141,
   "metadata": {},
   "outputs": [],
   "source": [
    "def decode_img(img):\n",
    "    img = tf.image.decode_jpeg(img, channels=3)\n",
    "    img = tf.image.convert_image_dtype(img, tf.uint8)\n",
    "    img = tf.image.resize(img, [224, 224])\n",
    "    return img\n",
    "\n",
    "def get_label(file_path):\n",
    "    print(file_path)\n",
    "    cat = tf.strings.split(file_path, '\\\\')[7]\n",
    "    print(cat)\n",
    "    if cat == b'fake':\n",
    "        return 1\n",
    "    return 0\n",
    "\n",
    "def process_path(file_path):\n",
    "    label = get_label(file_path)\n",
    "    img = tf.io.read_file(file_path)\n",
    "    img = decode_img(img)\n",
    "    return img, label"
   ]
  },
  {
   "cell_type": "code",
   "execution_count": 142,
   "metadata": {},
   "outputs": [
    {
     "name": "stdout",
     "output_type": "stream",
     "text": [
      "Tensor(\"args_0:0\", shape=(), dtype=string)\n",
      "Tensor(\"strided_slice:0\", shape=(), dtype=string)\n"
     ]
    }
   ],
   "source": [
    "num_threads, num_epochs, train_len = 8, 20, len(train) \n",
    "train_ds = tf.data.Dataset.from_tensor_slices(train)\n",
    "train_ds = train_ds.map(process_path, num_parallel_calls=tf.data.experimental.AUTOTUNE)"
   ]
  },
  {
   "cell_type": "code",
   "execution_count": 143,
   "metadata": {},
   "outputs": [
    {
     "data": {
      "text/plain": [
       "<ParallelMapDataset element_spec=(TensorSpec(shape=(224, 224, 3), dtype=tf.float32, name=None), TensorSpec(shape=(), dtype=tf.int32, name=None))>"
      ]
     },
     "execution_count": 143,
     "metadata": {},
     "output_type": "execute_result"
    }
   ],
   "source": [
    "train_ds"
   ]
  },
  {
   "cell_type": "code",
   "execution_count": 144,
   "metadata": {},
   "outputs": [],
   "source": [
    "train_ds = train_ds.shuffle(train_len)\n",
    "train_ds = train_ds.batch(64)\n",
    "train_ds = train_ds.prefetch(1)"
   ]
  },
  {
   "cell_type": "code",
   "execution_count": 145,
   "metadata": {},
   "outputs": [],
   "source": [
    "from tensorflow.keras.applications.vgg19 import VGG19\n",
    "\n",
    "model = VGG16(weights='imagenet', include_top=False, input_shape=(224, 224, 3))"
   ]
  },
  {
   "cell_type": "code",
   "execution_count": 146,
   "metadata": {},
   "outputs": [],
   "source": [
    "opt = tf.keras.optimizers.Adam(\n",
    "    learning_rate= 0.01,\n",
    "    beta_1=0.9,\n",
    "    beta_2=0.999,\n",
    "    epsilon=1e-07,\n",
    "    amsgrad=False)\n",
    "\n",
    "def loss_fn(labels, predictions):\n",
    "    return tf.math.confusion_matrix(\n",
    "    labels, predictions, num_classes=2, weights=None, dtype=tf.dtypes.int32,\n",
    "    name=None).numpy()[0,1]\n",
    "\n",
    "tp = tf.keras.metrics.TruePositives(thresholds=None, name=None, dtype=None)\n",
    "tn = tf.keras.metrics.TrueNegatives(thresholds=None, name=None, dtype=None)\n",
    "fp = tf.keras.metrics.FalsePositives(thresholds=None, name=None, dtype=None)\n",
    "fn = tf.keras.metrics.FalseNegatives(thresholds=None, name=None, dtype=None)"
   ]
  },
  {
   "cell_type": "code",
   "execution_count": 147,
   "metadata": {},
   "outputs": [],
   "source": [
    "classifier = Sequential()\n",
    "classifier.add(model)\n",
    "classifier.add(Flatten())\n",
    "classifier.add(Dense(1024, activation='relu'))\n",
    "classifier.add(Dense(1, activation = 'sigmoid'))\n",
    "classifier.compile(optimizer = opt, loss = 'binary_crossentropy', metrics = ['accuracy', tp,tn,fp,fn])"
   ]
  },
  {
   "cell_type": "code",
   "execution_count": 152,
   "metadata": {},
   "outputs": [
    {
     "name": "stdout",
     "output_type": "stream",
     "text": [
      "Epoch 1/50\n",
      "25/25 [==============================] - 31s 998ms/step - loss: 38900363264.0000 - accuracy: 0.5038 - true_positives_7: 417.0000 - true_negatives_7: 389.0000 - false_positives_7: 399.0000 - false_negatives_7: 395.0000\n",
      "Epoch 2/50\n",
      "25/25 [==============================] - 27s 1s/step - loss: 125.5844 - accuracy: 0.4963 - true_positives_7: 419.0000 - true_negatives_7: 375.0000 - false_positives_7: 413.0000 - false_negatives_7: 393.0000\n",
      "Epoch 3/50\n",
      "25/25 [==============================] - 28s 1s/step - loss: 9.1719 - accuracy: 0.5213 - true_positives_7: 407.0000 - true_negatives_7: 427.0000 - false_positives_7: 361.0000 - false_negatives_7: 405.0000\n",
      "Epoch 4/50\n",
      "25/25 [==============================] - 29s 1s/step - loss: 4.1322 - accuracy: 0.5075 - true_positives_7: 460.0000 - true_negatives_7: 352.0000 - false_positives_7: 436.0000 - false_negatives_7: 352.0000\n",
      "Epoch 5/50\n",
      "25/25 [==============================] - 30s 1s/step - loss: 5.2594 - accuracy: 0.4787 - true_positives_7: 373.0000 - true_negatives_7: 393.0000 - false_positives_7: 395.0000 - false_negatives_7: 439.0000\n",
      "Epoch 6/50\n",
      "25/25 [==============================] - 29s 1s/step - loss: 10.9059 - accuracy: 0.5000 - true_positives_7: 422.0000 - true_negatives_7: 378.0000 - false_positives_7: 410.0000 - false_negatives_7: 390.0000\n",
      "Epoch 7/50\n",
      "25/25 [==============================] - 30s 1s/step - loss: 18.1823 - accuracy: 0.5100 - true_positives_7: 430.0000 - true_negatives_7: 386.0000 - false_positives_7: 402.0000 - false_negatives_7: 382.0000\n",
      "Epoch 8/50\n",
      "25/25 [==============================] - 29s 1s/step - loss: 5.5156 - accuracy: 0.4975 - true_positives_7: 420.0000 - true_negatives_7: 376.0000 - false_positives_7: 412.0000 - false_negatives_7: 392.0000\n",
      "Epoch 9/50\n",
      "25/25 [==============================] - 30s 1s/step - loss: 4.6435 - accuracy: 0.5113 - true_positives_7: 431.0000 - true_negatives_7: 387.0000 - false_positives_7: 401.0000 - false_negatives_7: 381.0000\n",
      "Epoch 10/50\n",
      "25/25 [==============================] - 28s 1s/step - loss: 2.1054 - accuracy: 0.5125 - true_positives_7: 464.0000 - true_negatives_7: 356.0000 - false_positives_7: 432.0000 - false_negatives_7: 348.0000\n",
      "Epoch 11/50\n",
      "25/25 [==============================] - 28s 1s/step - loss: 2.2803 - accuracy: 0.5138 - true_positives_7: 401.0000 - true_negatives_7: 421.0000 - false_positives_7: 367.0000 - false_negatives_7: 411.0000\n",
      "Epoch 12/50\n",
      "25/25 [==============================] - 27s 990ms/step - loss: 1.0764 - accuracy: 0.4913 - true_positives_7: 383.0000 - true_negatives_7: 403.0000 - false_positives_7: 385.0000 - false_negatives_7: 429.0000\n",
      "Epoch 13/50\n",
      "25/25 [==============================] - 29s 1s/step - loss: 0.8798 - accuracy: 0.4900 - true_positives_7: 446.0000 - true_negatives_7: 338.0000 - false_positives_7: 450.0000 - false_negatives_7: 366.0000\n",
      "Epoch 14/50\n",
      "25/25 [==============================] - 29s 1s/step - loss: 0.8592 - accuracy: 0.5163 - true_positives_7: 339.0000 - true_negatives_7: 487.0000 - false_positives_7: 301.0000 - false_negatives_7: 473.0000\n",
      "Epoch 15/50\n",
      "25/25 [==============================] - 27s 1s/step - loss: 1.1308 - accuracy: 0.4925 - true_positives_7: 384.0000 - true_negatives_7: 404.0000 - false_positives_7: 384.0000 - false_negatives_7: 428.0000\n",
      "Epoch 16/50\n",
      "25/25 [==============================] - 28s 1s/step - loss: 1.1422 - accuracy: 0.5013 - true_positives_7: 423.0000 - true_negatives_7: 379.0000 - false_positives_7: 409.0000 - false_negatives_7: 389.0000\n",
      "Epoch 17/50\n",
      "25/25 [==============================] - 27s 979ms/step - loss: 1.2306 - accuracy: 0.4850 - true_positives_7: 346.0000 - true_negatives_7: 430.0000 - false_positives_7: 358.0000 - false_negatives_7: 466.0000\n",
      "Epoch 18/50\n",
      "25/25 [==============================] - 29s 1s/step - loss: 1.8646 - accuracy: 0.4850 - true_positives_7: 410.0000 - true_negatives_7: 366.0000 - false_positives_7: 422.0000 - false_negatives_7: 402.0000\n",
      "Epoch 19/50\n",
      "25/25 [==============================] - 28s 1s/step - loss: 1.0427 - accuracy: 0.4913 - true_positives_7: 447.0000 - true_negatives_7: 339.0000 - false_positives_7: 449.0000 - false_negatives_7: 365.0000\n",
      "Epoch 20/50\n",
      "25/25 [==============================] - 28s 1s/step - loss: 0.9323 - accuracy: 0.4913 - true_positives_7: 415.0000 - true_negatives_7: 371.0000 - false_positives_7: 417.0000 - false_negatives_7: 397.0000\n",
      "Epoch 21/50\n",
      "25/25 [==============================] - 26s 961ms/step - loss: 0.8496 - accuracy: 0.4925 - true_positives_7: 448.0000 - true_negatives_7: 340.0000 - false_positives_7: 448.0000 - false_negatives_7: 364.0000\n",
      "Epoch 22/50\n",
      "25/25 [==============================] - 24s 886ms/step - loss: 1.0669 - accuracy: 0.4925 - true_positives_7: 384.0000 - true_negatives_7: 404.0000 - false_positives_7: 384.0000 - false_negatives_7: 428.0000\n",
      "Epoch 23/50\n",
      "25/25 [==============================] - 22s 791ms/step - loss: 1.1492 - accuracy: 0.5163 - true_positives_7: 403.0000 - true_negatives_7: 423.0000 - false_positives_7: 365.0000 - false_negatives_7: 409.0000\n",
      "Epoch 24/50\n",
      "25/25 [==============================] - 20s 716ms/step - loss: 1.1078 - accuracy: 0.5075 - true_positives_7: 428.0000 - true_negatives_7: 384.0000 - false_positives_7: 404.0000 - false_negatives_7: 384.0000\n",
      "Epoch 25/50\n",
      "25/25 [==============================] - 18s 653ms/step - loss: 0.9708 - accuracy: 0.4975 - true_positives_7: 388.0000 - true_negatives_7: 408.0000 - false_positives_7: 380.0000 - false_negatives_7: 424.0000\n",
      "Epoch 26/50\n",
      "25/25 [==============================] - 32s 1s/step - loss: 1.1005 - accuracy: 0.4938 - true_positives_7: 417.0000 - true_negatives_7: 373.0000 - false_positives_7: 415.0000 - false_negatives_7: 395.0000\n",
      "Epoch 27/50\n",
      "25/25 [==============================] - 61s 2s/step - loss: 0.9168 - accuracy: 0.5013 - true_positives_7: 423.0000 - true_negatives_7: 379.0000 - false_positives_7: 409.0000 - false_negatives_7: 389.0000\n",
      "Epoch 28/50\n",
      "25/25 [==============================] - 38s 1s/step - loss: 0.8608 - accuracy: 0.5188 - true_positives_7: 437.0000 - true_negatives_7: 393.0000 - false_positives_7: 395.0000 - false_negatives_7: 375.0000\n",
      "Epoch 29/50\n",
      "25/25 [==============================] - 42s 2s/step - loss: 1.0158 - accuracy: 0.5125 - true_positives_7: 432.0000 - true_negatives_7: 388.0000 - false_positives_7: 400.0000 - false_negatives_7: 380.0000\n",
      "Epoch 30/50\n",
      "25/25 [==============================] - 43s 2s/step - loss: 0.9178 - accuracy: 0.5088 - true_positives_7: 461.0000 - true_negatives_7: 353.0000 - false_positives_7: 435.0000 - false_negatives_7: 351.0000\n",
      "Epoch 31/50\n",
      "25/25 [==============================] - 44s 2s/step - loss: 0.8151 - accuracy: 0.4988 - true_positives_7: 485.0000 - true_negatives_7: 313.0000 - false_positives_7: 475.0000 - false_negatives_7: 327.0000\n",
      "Epoch 32/50\n",
      "25/25 [==============================] - 51s 2s/step - loss: 0.9438 - accuracy: 0.5025 - true_positives_7: 424.0000 - true_negatives_7: 380.0000 - false_positives_7: 408.0000 - false_negatives_7: 388.0000\n",
      "Epoch 33/50\n",
      "25/25 [==============================] - 34s 1s/step - loss: 0.8300 - accuracy: 0.5113 - true_positives_7: 495.0000 - true_negatives_7: 323.0000 - false_positives_7: 465.0000 - false_negatives_7: 317.0000\n",
      "Epoch 34/50\n",
      "25/25 [==============================] - 36s 1s/step - loss: 1.0960 - accuracy: 0.5088 - true_positives_7: 429.0000 - true_negatives_7: 385.0000 - false_positives_7: 403.0000 - false_negatives_7: 383.0000\n",
      "Epoch 35/50\n",
      "25/25 [==============================] - 33s 1s/step - loss: 1.3209 - accuracy: 0.5000 - true_positives_7: 390.0000 - true_negatives_7: 410.0000 - false_positives_7: 378.0000 - false_negatives_7: 422.0000\n",
      "Epoch 36/50\n",
      "25/25 [==============================] - 63s 2s/step - loss: 0.9309 - accuracy: 0.5125 - true_positives_7: 400.0000 - true_negatives_7: 420.0000 - false_positives_7: 368.0000 - false_negatives_7: 412.0000\n",
      "Epoch 37/50\n",
      "25/25 [==============================] - 31s 1s/step - loss: 1.1923 - accuracy: 0.4988 - true_positives_7: 421.0000 - true_negatives_7: 377.0000 - false_positives_7: 411.0000 - false_negatives_7: 391.0000\n",
      "Epoch 38/50\n",
      "25/25 [==============================] - 37s 1s/step - loss: 0.8030 - accuracy: 0.4963 - true_positives_7: 387.0000 - true_negatives_7: 407.0000 - false_positives_7: 381.0000 - false_negatives_7: 425.0000\n",
      "Epoch 39/50\n",
      "25/25 [==============================] - 44s 2s/step - loss: 2.3106 - accuracy: 0.4950 - true_positives_7: 386.0000 - true_negatives_7: 406.0000 - false_positives_7: 382.0000 - false_negatives_7: 426.0000\n",
      "Epoch 40/50\n",
      "25/25 [==============================] - 24s 884ms/step - loss: 1.3548 - accuracy: 0.4725 - true_positives_7: 432.0000 - true_negatives_7: 324.0000 - false_positives_7: 464.0000 - false_negatives_7: 380.0000\n",
      "Epoch 41/50\n",
      "25/25 [==============================] - 19s 707ms/step - loss: 0.7524 - accuracy: 0.5038 - true_positives_7: 489.0000 - true_negatives_7: 317.0000 - false_positives_7: 471.0000 - false_negatives_7: 323.0000\n",
      "Epoch 42/50\n",
      "25/25 [==============================] - 34s 1s/step - loss: 0.9635 - accuracy: 0.5225 - true_positives_7: 408.0000 - true_negatives_7: 428.0000 - false_positives_7: 360.0000 - false_negatives_7: 404.0000\n",
      "Epoch 43/50\n",
      "25/25 [==============================] - 49s 2s/step - loss: 1.1987 - accuracy: 0.4925 - true_positives_7: 384.0000 - true_negatives_7: 404.0000 - false_positives_7: 384.0000 - false_negatives_7: 428.0000\n",
      "Epoch 44/50\n",
      "25/25 [==============================] - 25s 916ms/step - loss: 0.9244 - accuracy: 0.4925 - true_positives_7: 416.0000 - true_negatives_7: 372.0000 - false_positives_7: 416.0000 - false_negatives_7: 396.0000\n",
      "Epoch 45/50\n",
      "25/25 [==============================] - 26s 954ms/step - loss: 1.3635 - accuracy: 0.5050 - true_positives_7: 394.0000 - true_negatives_7: 414.0000 - false_positives_7: 374.0000 - false_negatives_7: 418.0000\n",
      "Epoch 46/50\n",
      "25/25 [==============================] - 34s 1s/step - loss: 2.3158 - accuracy: 0.5088 - true_positives_7: 429.0000 - true_negatives_7: 385.0000 - false_positives_7: 403.0000 - false_negatives_7: 383.0000\n",
      "Epoch 47/50\n",
      "25/25 [==============================] - 23s 843ms/step - loss: 2.8189 - accuracy: 0.5088 - true_positives_7: 493.0000 - true_negatives_7: 321.0000 - false_positives_7: 467.0000 - false_negatives_7: 319.0000\n",
      "Epoch 48/50\n",
      "25/25 [==============================] - 26s 971ms/step - loss: 8.6811 - accuracy: 0.5013 - true_positives_7: 359.0000 - true_negatives_7: 443.0000 - false_positives_7: 345.0000 - false_negatives_7: 453.0000\n",
      "Epoch 49/50\n",
      "25/25 [==============================] - 24s 887ms/step - loss: 12.4314 - accuracy: 0.5113 - true_positives_7: 463.0000 - true_negatives_7: 355.0000 - false_positives_7: 433.0000 - false_negatives_7: 349.0000\n",
      "Epoch 50/50\n",
      "25/25 [==============================] - 24s 898ms/step - loss: 26.7642 - accuracy: 0.4950 - true_positives_7: 450.0000 - true_negatives_7: 342.0000 - false_positives_7: 446.0000 - false_negatives_7: 362.0000\n"
     ]
    }
   ],
   "source": [
    "history = classifier.fit(train_ds, epochs = 50, shuffle=True, batch_size=32)"
   ]
  },
  {
   "cell_type": "code",
   "execution_count": 153,
   "metadata": {},
   "outputs": [
    {
     "data": {
      "image/png": "[encoded data removed]",
      "text/plain": [
       "<Figure size 432x288 with 1 Axes>"
      ]
     },
     "metadata": {
      "needs_background": "light"
     },
     "output_type": "display_data"
    },
    {
     "data": {
      "image/png": "[encoded data removed]",
      "text/plain": [
       "<Figure size 432x288 with 1 Axes>"
      ]
     },
     "metadata": {
      "needs_background": "light"
     },
     "output_type": "display_data"
    }
   ],
   "source": [
    "\n",
    "plt.plot(history.history['accuracy'])\n",
    "# plt.plot(history.history['val_accuracy'])\n",
    "plt.title('VGG19 accuracy')\n",
    "plt.ylabel('accuracy')\n",
    "plt.xlabel('epoch')\n",
    "plt.legend(['train', 'test'], loc='lower right')\n",
    "plt.show()\n",
    "\n",
    "plt.plot(history.history['loss'])\n",
    "# plt.plot(history.history['val_accuracy'])\n",
    "plt.title('VGG19 loss')\n",
    "plt.ylabel('accuracy')\n",
    "plt.xlabel('epoch')\n",
    "plt.legend(['loss', 'test'], loc='lower right')\n",
    "plt.show()\n"
   ]
  },
  {
   "cell_type": "code",
   "execution_count": 154,
   "metadata": {},
   "outputs": [
    {
     "data": {
      "text/html": [
       "<table border=\"1\" class=\"dataframe\">\n",
       "  <thead>\n",
       "    <tr style=\"text-align: right;\">\n",
       "      <th>item</th>\n",
       "      <th>max</th>\n",
       "      <th>mean</th>\n",
       "      <th>min</th>\n",
       "    </tr>\n",
       "  </thead>\n",
       "  <tbody>\n",
       "    <tr>\n",
       "      <td>loss</td>\n",
       "      <td>3.890036e+10</td>\n",
       "      <td>7.780073e+08</td>\n",
       "      <td>0.752428</td>\n",
       "    </tr>\n",
       "    <tr>\n",
       "      <td>accuracy</td>\n",
       "      <td>5.225000e-01</td>\n",
       "      <td>5.015000e-01</td>\n",
       "      <td>0.472500</td>\n",
       "    </tr>\n",
       "    <tr>\n",
       "      <td>true_positives_7</td>\n",
       "      <td>4.950000e+02</td>\n",
       "      <td>4.198400e+02</td>\n",
       "      <td>339.000000</td>\n",
       "    </tr>\n",
       "    <tr>\n",
       "      <td>true_negatives_7</td>\n",
       "      <td>4.870000e+02</td>\n",
       "      <td>3.825600e+02</td>\n",
       "      <td>313.000000</td>\n",
       "    </tr>\n",
       "    <tr>\n",
       "      <td>false_positives_7</td>\n",
       "      <td>4.750000e+02</td>\n",
       "      <td>4.054400e+02</td>\n",
       "      <td>301.000000</td>\n",
       "    </tr>\n",
       "    <tr>\n",
       "      <td>false_negatives_7</td>\n",
       "      <td>4.730000e+02</td>\n",
       "      <td>3.921600e+02</td>\n",
       "      <td>317.000000</td>\n",
       "    </tr>\n",
       "  </tbody>\n",
       "</table>"
      ],
      "text/plain": [
       "<IPython.core.display.HTML object>"
      ]
     },
     "execution_count": 154,
     "metadata": {},
     "output_type": "execute_result"
    }
   ],
   "source": [
    "df = pd.DataFrame()\n",
    "for idx, key in enumerate(history.history.keys()):\n",
    "    row = pd.DataFrame(data={\n",
    "      'item': key,\n",
    "      'max': max(history.history[key]),\n",
    "      'mean': np.mean(history.history[key]),\n",
    "      'min': min(history.history[key]),\n",
    "    }, index=[idx])\n",
    "    df = pd.concat([df,row])\n",
    "\n",
    "from IPython.display import HTML\n",
    "df.sort_values(by=['item'],ascending=True)\n",
    "HTML(df.to_html(index=False))"
   ]
  }
 ],
 "metadata": {
  "kernelspec": {
   "display_name": "Python 3.10.4 ('tf-venv')",
   "language": "python",
   "name": "python3"
  },
  "language_info": {
   "codemirror_mode": {
    "name": "ipython",
    "version": 3
   },
   "file_extension": ".py",
   "mimetype": "text/x-python",
   "name": "python",
   "nbconvert_exporter": "python",
   "pygments_lexer": "ipython3",
   "version": "3.10.4"
  },
  "orig_nbformat": 4,
  "vscode": {
   "interpreter": {
    "hash": "cc9cbefc8544a8379a53c857cd2b15dea463896e3f9720ef4a3e2498fce52563"
   }
  }
 },
 "nbformat": 4,
 "nbformat_minor": 2
}
