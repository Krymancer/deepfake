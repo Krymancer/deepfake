{
 "cells": [
  {
   "cell_type": "code",
   "execution_count": 1,
   "metadata": {},
   "outputs": [],
   "source": [
    "import matplotlib\n",
    "import matplotlib.pyplot as plt\n",
    "%matplotlib inline\n",
    "import pickle\n",
    "import os\n",
    "import sys\n",
    "from PIL import Image\n",
    "import pandas as pd\n",
    "import numpy as np\n",
    "import seaborn as sns\n",
    "import scipy\n",
    "import keras\n",
    "import tensorflow as tf\n",
    "import cv2\n",
    "from keras.models import Sequential\n",
    "from keras.layers import Dense, Conv2D , MaxPool2D , Flatten , Dropout \n",
    "from keras.preprocessing.image import ImageDataGenerator\n",
    "from keras.optimizers import Adam\n",
    "from sklearn.metrics import classification_report,confusion_matrix\n",
    "from keras.models import Model as KerasModel\n",
    "from keras.layers import Input, Dense, Flatten, Conv2D, MaxPooling2D, BatchNormalization, Dropout, Reshape, Concatenate, LeakyReLU\n",
    "from sklearn.utils import shuffle\n",
    "from tensorflow.keras.optimizers import Adam\n",
    "\n",
    "from tqdm import tqdm\n",
    "np.random.seed(0)\n",
    "tf.compat.v1.random.set_random_seed(0)"
   ]
  },
  {
   "cell_type": "code",
   "execution_count": 2,
   "metadata": {},
   "outputs": [],
   "source": [
    "directory = os.path.join(os.getcwd(), 'data', 'dataset')\n",
    "fake_directory = os.path.join(directory, 'fake')\n",
    "real_directory = os.path.join(directory, 'real')\n",
    "\n",
    "fake = []\n",
    "real = []"
   ]
  },
  {
   "cell_type": "code",
   "execution_count": 3,
   "metadata": {},
   "outputs": [
    {
     "name": "stderr",
     "output_type": "stream",
     "text": [
      "100%|██████████| 1000/1000 [00:00<00:00, 199804.88it/s]\n",
      "100%|██████████| 1000/1000 [00:00<00:00, 249988.32it/s]\n"
     ]
    }
   ],
   "source": [
    "for name in tqdm(os.listdir(fake_directory)):\n",
    "  fake.append(os.path.join(fake_directory, name))\n",
    "\n",
    "for name in tqdm(os.listdir(real_directory)):\n",
    "  real.append(os.path.join(real_directory, name))"
   ]
  },
  {
   "cell_type": "code",
   "execution_count": 4,
   "metadata": {},
   "outputs": [],
   "source": [
    "y = np.ones(len(real))\n",
    "x = np.zeros(len(fake))\n",
    "\n",
    "label = np.concatenate([y, x])\n",
    "\n",
    "names_list = real + fake\n",
    "\n",
    "new_data, new_label = shuffle(names_list, label,  random_state = 0)\n",
    "\n",
    "size = len(new_data)\n",
    "train_size = int(size * 0.8) * -1\n",
    "test_size = int(size * 0.2) * -1\n",
    "\n",
    "train, test, y_train, y_test = new_data[:test_size], new_data[train_size:], new_label[:train_size], new_label[test_size:]"
   ]
  },
  {
   "cell_type": "code",
   "execution_count": 5,
   "metadata": {},
   "outputs": [],
   "source": [
    "def decode_img(img):\n",
    "    img = tf.image.decode_jpeg(img, channels=3)\n",
    "    img = tf.image.convert_image_dtype(img, tf.uint8)\n",
    "    img = tf.image.resize(img, [224, 224])\n",
    "    return img\n",
    "\n",
    "def get_label(file_path):\n",
    "    print(file_path)\n",
    "    cat = tf.strings.split(file_path, '\\\\')[7]\n",
    "    print(cat)\n",
    "    if cat == b'fake':\n",
    "        return 1\n",
    "    return 0\n",
    "\n",
    "def process_path(file_path):\n",
    "    label = get_label(file_path)\n",
    "    img = tf.io.read_file(file_path)\n",
    "    img = decode_img(img)\n",
    "    return img, label"
   ]
  },
  {
   "cell_type": "code",
   "execution_count": 6,
   "metadata": {},
   "outputs": [
    {
     "name": "stdout",
     "output_type": "stream",
     "text": [
      "Tensor(\"args_0:0\", shape=(), dtype=string)\n",
      "Tensor(\"strided_slice:0\", shape=(), dtype=string)\n"
     ]
    }
   ],
   "source": [
    "num_threads, num_epochs, train_len = 8, 20, len(train) \n",
    "train_ds = tf.data.Dataset.from_tensor_slices(train)\n",
    "train_ds = train_ds.map(process_path, num_parallel_calls=tf.data.experimental.AUTOTUNE)"
   ]
  },
  {
   "cell_type": "code",
   "execution_count": 7,
   "metadata": {},
   "outputs": [],
   "source": [
    "train_ds = train_ds.shuffle(train_len)\n",
    "train_ds = train_ds.batch(64)\n",
    "train_ds = train_ds.prefetch(1)"
   ]
  },
  {
   "cell_type": "code",
   "execution_count": 8,
   "metadata": {},
   "outputs": [],
   "source": [
    "from tensorflow.keras.applications.vgg16 import VGG16\n",
    "\n",
    "model = VGG16(weights='imagenet', include_top=False, input_shape=(224, 224, 3))"
   ]
  },
  {
   "cell_type": "code",
   "execution_count": 9,
   "metadata": {},
   "outputs": [],
   "source": [
    "opt = tf.keras.optimizers.Adam(\n",
    "    learning_rate= 0.01,\n",
    "    beta_1=0.9,\n",
    "    beta_2=0.999,\n",
    "    epsilon=1e-07,\n",
    "    amsgrad=False)\n",
    "\n",
    "def loss_fn(labels, predictions):\n",
    "    return tf.math.confusion_matrix(\n",
    "    labels, predictions, num_classes=2, weights=None, dtype=tf.dtypes.int32,\n",
    "    name=None).numpy()[0,1]\n",
    "\n",
    "tp = tf.keras.metrics.TruePositives(thresholds=None, name=None, dtype=None)\n",
    "tn = tf.keras.metrics.TrueNegatives(thresholds=None, name=None, dtype=None)\n",
    "fp = tf.keras.metrics.FalsePositives(thresholds=None, name=None, dtype=None)\n",
    "fn = tf.keras.metrics.FalseNegatives(thresholds=None, name=None, dtype=None)"
   ]
  },
  {
   "cell_type": "code",
   "execution_count": 10,
   "metadata": {},
   "outputs": [],
   "source": [
    "classifier = Sequential()\n",
    "classifier.add(model)\n",
    "classifier.add(Flatten())\n",
    "classifier.add(Dense(1024, activation='relu'))\n",
    "classifier.add(Dense(1, activation = 'sigmoid'))\n",
    "classifier.compile(optimizer = opt, loss = 'binary_crossentropy', metrics = ['accuracy', tp,tn,fp,fn])"
   ]
  },
  {
   "cell_type": "code",
   "execution_count": 14,
   "metadata": {},
   "outputs": [
    {
     "name": "stdout",
     "output_type": "stream",
     "text": [
      "Epoch 1/100\n",
      "25/25 [==============================] - 20s 714ms/step - loss: 0.7698 - accuracy: 0.4938 - true_positives: 385.0000 - true_negatives: 405.0000 - false_positives: 383.0000 - false_negatives: 427.0000\n",
      "Epoch 2/100\n",
      "25/25 [==============================] - 19s 709ms/step - loss: 1.1501 - accuracy: 0.5238 - true_positives: 505.0000 - true_negatives: 333.0000 - false_positives: 455.0000 - false_negatives: 307.0000\n",
      "Epoch 3/100\n",
      "25/25 [==============================] - 19s 711ms/step - loss: 0.7122 - accuracy: 0.5050 - true_positives: 458.0000 - true_negatives: 350.0000 - false_positives: 438.0000 - false_negatives: 354.0000\n",
      "Epoch 4/100\n",
      "25/25 [==============================] - 20s 715ms/step - loss: 0.7026 - accuracy: 0.5175 - true_positives: 436.0000 - true_negatives: 392.0000 - false_positives: 396.0000 - false_negatives: 376.0000\n",
      "Epoch 5/100\n",
      "25/25 [==============================] - 20s 719ms/step - loss: 0.7029 - accuracy: 0.5013 - true_positives: 519.0000 - true_negatives: 283.0000 - false_positives: 505.0000 - false_negatives: 293.0000\n",
      "Epoch 6/100\n",
      "25/25 [==============================] - 20s 716ms/step - loss: 0.7055 - accuracy: 0.5125 - true_positives: 432.0000 - true_negatives: 388.0000 - false_positives: 400.0000 - false_negatives: 380.0000\n",
      "Epoch 7/100\n",
      "25/25 [==============================] - 19s 682ms/step - loss: 0.7106 - accuracy: 0.4600 - true_positives: 422.0000 - true_negatives: 314.0000 - false_positives: 474.0000 - false_negatives: 390.0000\n",
      "Epoch 8/100\n",
      "25/25 [==============================] - 19s 671ms/step - loss: 0.6981 - accuracy: 0.4913 - true_positives: 447.0000 - true_negatives: 339.0000 - false_positives: 449.0000 - false_negatives: 365.0000\n",
      "Epoch 9/100\n",
      "25/25 [==============================] - 19s 687ms/step - loss: 0.6998 - accuracy: 0.4888 - true_positives: 605.0000 - true_negatives: 177.0000 - false_positives: 611.0000 - false_negatives: 207.0000\n",
      "Epoch 10/100\n",
      "25/25 [==============================] - 19s 702ms/step - loss: 0.6996 - accuracy: 0.5025 - true_positives: 456.0000 - true_negatives: 348.0000 - false_positives: 440.0000 - false_negatives: 356.0000\n",
      "Epoch 11/100\n",
      "25/25 [==============================] - 20s 717ms/step - loss: 0.7099 - accuracy: 0.4950 - true_positives: 386.0000 - true_negatives: 406.0000 - false_positives: 382.0000 - false_negatives: 426.0000\n",
      "Epoch 12/100\n",
      "25/25 [==============================] - 20s 717ms/step - loss: 0.6994 - accuracy: 0.4938 - true_positives: 353.0000 - true_negatives: 437.0000 - false_positives: 351.0000 - false_negatives: 459.0000\n",
      "Epoch 13/100\n",
      "25/25 [==============================] - 20s 715ms/step - loss: 0.6973 - accuracy: 0.4825 - true_positives: 408.0000 - true_negatives: 364.0000 - false_positives: 424.0000 - false_negatives: 404.0000\n",
      "Epoch 14/100\n",
      "25/25 [==============================] - 20s 715ms/step - loss: 0.7017 - accuracy: 0.5025 - true_positives: 456.0000 - true_negatives: 348.0000 - false_positives: 440.0000 - false_negatives: 356.0000\n",
      "Epoch 15/100\n",
      "25/25 [==============================] - 20s 716ms/step - loss: 0.7031 - accuracy: 0.4975 - true_positives: 452.0000 - true_negatives: 344.0000 - false_positives: 444.0000 - false_negatives: 360.0000\n",
      "Epoch 16/100\n",
      "25/25 [==============================] - 20s 718ms/step - loss: 0.7005 - accuracy: 0.4963 - true_positives: 387.0000 - true_negatives: 407.0000 - false_positives: 381.0000 - false_negatives: 425.0000\n",
      "Epoch 17/100\n",
      "25/25 [==============================] - 20s 721ms/step - loss: 0.6957 - accuracy: 0.4950 - true_positives: 514.0000 - true_negatives: 278.0000 - false_positives: 510.0000 - false_negatives: 298.0000\n",
      "Epoch 18/100\n",
      "25/25 [==============================] - 20s 716ms/step - loss: 0.7040 - accuracy: 0.4837 - true_positives: 473.0000 - true_negatives: 301.0000 - false_positives: 487.0000 - false_negatives: 339.0000\n",
      "Epoch 19/100\n",
      "25/25 [==============================] - 20s 719ms/step - loss: 0.7068 - accuracy: 0.5025 - true_positives: 328.0000 - true_negatives: 476.0000 - false_positives: 312.0000 - false_negatives: 484.0000\n",
      "Epoch 20/100\n",
      "25/25 [==============================] - 20s 719ms/step - loss: 0.7022 - accuracy: 0.4913 - true_positives: 479.0000 - true_negatives: 307.0000 - false_positives: 481.0000 - false_negatives: 333.0000\n",
      "Epoch 21/100\n",
      "25/25 [==============================] - 20s 719ms/step - loss: 0.7017 - accuracy: 0.5088 - true_positives: 429.0000 - true_negatives: 385.0000 - false_positives: 403.0000 - false_negatives: 383.0000\n",
      "Epoch 22/100\n",
      "25/25 [==============================] - 20s 718ms/step - loss: 0.6996 - accuracy: 0.4900 - true_positives: 478.0000 - true_negatives: 306.0000 - false_positives: 482.0000 - false_negatives: 334.0000\n",
      "Epoch 23/100\n",
      "25/25 [==============================] - 20s 723ms/step - loss: 0.6971 - accuracy: 0.4938 - true_positives: 385.0000 - true_negatives: 405.0000 - false_positives: 383.0000 - false_negatives: 427.0000\n",
      "Epoch 24/100\n",
      "25/25 [==============================] - 20s 717ms/step - loss: 0.7173 - accuracy: 0.4988 - true_positives: 485.0000 - true_negatives: 313.0000 - false_positives: 475.0000 - false_negatives: 327.0000\n",
      "Epoch 25/100\n",
      "25/25 [==============================] - 20s 717ms/step - loss: 0.6966 - accuracy: 0.5150 - true_positives: 402.0000 - true_negatives: 422.0000 - false_positives: 366.0000 - false_negatives: 410.0000\n",
      "Epoch 26/100\n",
      "25/25 [==============================] - 20s 719ms/step - loss: 0.6952 - accuracy: 0.4888 - true_positives: 413.0000 - true_negatives: 369.0000 - false_positives: 419.0000 - false_negatives: 399.0000\n",
      "Epoch 27/100\n",
      "25/25 [==============================] - 20s 719ms/step - loss: 0.6941 - accuracy: 0.5050 - true_positives: 522.0000 - true_negatives: 286.0000 - false_positives: 502.0000 - false_negatives: 290.0000\n",
      "Epoch 28/100\n",
      "25/25 [==============================] - 20s 725ms/step - loss: 0.6948 - accuracy: 0.4812 - true_positives: 503.0000 - true_negatives: 267.0000 - false_positives: 521.0000 - false_negatives: 309.0000\n",
      "Epoch 29/100\n",
      "25/25 [==============================] - 20s 717ms/step - loss: 0.6949 - accuracy: 0.4988 - true_positives: 325.0000 - true_negatives: 473.0000 - false_positives: 315.0000 - false_negatives: 487.0000\n",
      "Epoch 30/100\n",
      "25/25 [==============================] - 20s 719ms/step - loss: 0.6955 - accuracy: 0.4888 - true_positives: 477.0000 - true_negatives: 305.0000 - false_positives: 483.0000 - false_negatives: 335.0000\n",
      "Epoch 31/100\n",
      "25/25 [==============================] - 20s 719ms/step - loss: 0.6958 - accuracy: 0.4963 - true_positives: 515.0000 - true_negatives: 279.0000 - false_positives: 509.0000 - false_negatives: 297.0000\n",
      "Epoch 32/100\n",
      "25/25 [==============================] - 20s 720ms/step - loss: 0.6960 - accuracy: 0.4988 - true_positives: 421.0000 - true_negatives: 377.0000 - false_positives: 411.0000 - false_negatives: 391.0000\n",
      "Epoch 33/100\n",
      "25/25 [==============================] - 20s 719ms/step - loss: 0.6947 - accuracy: 0.5063 - true_positives: 459.0000 - true_negatives: 351.0000 - false_positives: 437.0000 - false_negatives: 353.0000\n",
      "Epoch 34/100\n",
      "25/25 [==============================] - 20s 722ms/step - loss: 0.6967 - accuracy: 0.5013 - true_positives: 391.0000 - true_negatives: 411.0000 - false_positives: 377.0000 - false_negatives: 421.0000\n",
      "Epoch 35/100\n",
      "25/25 [==============================] - 20s 720ms/step - loss: 0.6996 - accuracy: 0.4888 - true_positives: 509.0000 - true_negatives: 273.0000 - false_positives: 515.0000 - false_negatives: 303.0000\n",
      "Epoch 36/100\n",
      "25/25 [==============================] - 20s 709ms/step - loss: 0.6987 - accuracy: 0.4938 - true_positives: 417.0000 - true_negatives: 373.0000 - false_positives: 415.0000 - false_negatives: 395.0000\n",
      "Epoch 37/100\n",
      "25/25 [==============================] - 20s 720ms/step - loss: 0.6938 - accuracy: 0.5013 - true_positives: 775.0000 - true_negatives: 27.0000 - false_positives: 761.0000 - false_negatives: 37.0000\n",
      "Epoch 38/100\n",
      "25/25 [==============================] - 19s 705ms/step - loss: 0.6968 - accuracy: 0.4787 - true_positives: 437.0000 - true_negatives: 329.0000 - false_positives: 459.0000 - false_negatives: 375.0000\n",
      "Epoch 39/100\n",
      "25/25 [==============================] - 19s 704ms/step - loss: 0.6948 - accuracy: 0.5000 - true_positives: 518.0000 - true_negatives: 282.0000 - false_positives: 506.0000 - false_negatives: 294.0000\n",
      "Epoch 40/100\n",
      "25/25 [==============================] - 19s 707ms/step - loss: 0.6936 - accuracy: 0.4988 - true_positives: 421.0000 - true_negatives: 377.0000 - false_positives: 411.0000 - false_negatives: 391.0000\n",
      "Epoch 41/100\n",
      "25/25 [==============================] - 19s 705ms/step - loss: 0.6944 - accuracy: 0.5075 - true_positives: 812.0000 - true_negatives: 0.0000e+00 - false_positives: 788.0000 - false_negatives: 0.0000e+00\n",
      "Epoch 42/100\n",
      "25/25 [==============================] - 19s 703ms/step - loss: 0.6943 - accuracy: 0.4850 - true_positives: 250.0000 - true_negatives: 526.0000 - false_positives: 262.0000 - false_negatives: 562.0000\n",
      "Epoch 43/100\n",
      "25/25 [==============================] - 19s 702ms/step - loss: 0.6932 - accuracy: 0.5025 - true_positives: 328.0000 - true_negatives: 476.0000 - false_positives: 312.0000 - false_negatives: 484.0000\n",
      "Epoch 44/100\n",
      "25/25 [==============================] - 19s 704ms/step - loss: 0.6946 - accuracy: 0.5138 - true_positives: 529.0000 - true_negatives: 293.0000 - false_positives: 495.0000 - false_negatives: 283.0000\n",
      "Epoch 45/100\n",
      "25/25 [==============================] - 19s 704ms/step - loss: 0.6944 - accuracy: 0.4975 - true_positives: 452.0000 - true_negatives: 344.0000 - false_positives: 444.0000 - false_negatives: 360.0000\n",
      "Epoch 46/100\n",
      "25/25 [==============================] - 20s 708ms/step - loss: 0.6945 - accuracy: 0.4950 - true_positives: 482.0000 - true_negatives: 310.0000 - false_positives: 478.0000 - false_negatives: 330.0000\n",
      "Epoch 47/100\n",
      "25/25 [==============================] - 19s 704ms/step - loss: 0.7467 - accuracy: 0.4775 - true_positives: 532.0000 - true_negatives: 232.0000 - false_positives: 556.0000 - false_negatives: 280.0000\n",
      "Epoch 48/100\n",
      "25/25 [==============================] - 19s 706ms/step - loss: 2.3169 - accuracy: 0.5038 - true_positives: 489.0000 - true_negatives: 317.0000 - false_positives: 471.0000 - false_negatives: 323.0000\n",
      "Epoch 49/100\n",
      "25/25 [==============================] - 19s 706ms/step - loss: 1.2234 - accuracy: 0.4913 - true_positives: 351.0000 - true_negatives: 435.0000 - false_positives: 353.0000 - false_negatives: 461.0000\n",
      "Epoch 50/100\n",
      "25/25 [==============================] - 19s 702ms/step - loss: 0.7782 - accuracy: 0.5075 - true_positives: 460.0000 - true_negatives: 352.0000 - false_positives: 436.0000 - false_negatives: 352.0000\n",
      "Epoch 51/100\n",
      "25/25 [==============================] - 19s 708ms/step - loss: 0.7112 - accuracy: 0.5025 - true_positives: 424.0000 - true_negatives: 380.0000 - false_positives: 408.0000 - false_negatives: 388.0000\n",
      "Epoch 52/100\n",
      "25/25 [==============================] - 19s 704ms/step - loss: 0.7197 - accuracy: 0.5150 - true_positives: 402.0000 - true_negatives: 422.0000 - false_positives: 366.0000 - false_negatives: 410.0000\n",
      "Epoch 53/100\n",
      "25/25 [==============================] - 19s 704ms/step - loss: 0.7235 - accuracy: 0.4938 - true_positives: 449.0000 - true_negatives: 341.0000 - false_positives: 447.0000 - false_negatives: 363.0000\n",
      "Epoch 54/100\n",
      "25/25 [==============================] - 19s 704ms/step - loss: 0.7228 - accuracy: 0.4963 - true_positives: 419.0000 - true_negatives: 375.0000 - false_positives: 413.0000 - false_negatives: 393.0000\n",
      "Epoch 55/100\n",
      "25/25 [==============================] - 19s 704ms/step - loss: 0.7017 - accuracy: 0.4825 - true_positives: 472.0000 - true_negatives: 300.0000 - false_positives: 488.0000 - false_negatives: 340.0000\n",
      "Epoch 56/100\n",
      "25/25 [==============================] - 19s 706ms/step - loss: 0.7150 - accuracy: 0.5138 - true_positives: 401.0000 - true_negatives: 421.0000 - false_positives: 367.0000 - false_negatives: 411.0000\n",
      "Epoch 57/100\n",
      "25/25 [==============================] - 19s 708ms/step - loss: 0.7041 - accuracy: 0.5188 - true_positives: 405.0000 - true_negatives: 425.0000 - false_positives: 363.0000 - false_negatives: 407.0000\n",
      "Epoch 58/100\n",
      "25/25 [==============================] - 19s 702ms/step - loss: 0.7164 - accuracy: 0.4913 - true_positives: 287.0000 - true_negatives: 499.0000 - false_positives: 289.0000 - false_negatives: 525.0000\n",
      "Epoch 59/100\n",
      "25/25 [==============================] - 19s 705ms/step - loss: 0.7192 - accuracy: 0.4863 - true_positives: 443.0000 - true_negatives: 335.0000 - false_positives: 453.0000 - false_negatives: 369.0000\n",
      "Epoch 60/100\n",
      "25/25 [==============================] - 19s 704ms/step - loss: 0.6961 - accuracy: 0.5100 - true_positives: 526.0000 - true_negatives: 290.0000 - false_positives: 498.0000 - false_negatives: 286.0000\n",
      "Epoch 61/100\n",
      "25/25 [==============================] - 19s 707ms/step - loss: 0.6989 - accuracy: 0.5163 - true_positives: 467.0000 - true_negatives: 359.0000 - false_positives: 429.0000 - false_negatives: 345.0000\n",
      "Epoch 62/100\n",
      "25/25 [==============================] - 19s 705ms/step - loss: 0.7929 - accuracy: 0.4787 - true_positives: 405.0000 - true_negatives: 361.0000 - false_positives: 427.0000 - false_negatives: 407.0000\n",
      "Epoch 63/100\n",
      "25/25 [==============================] - 19s 710ms/step - loss: 0.7130 - accuracy: 0.4913 - true_positives: 383.0000 - true_negatives: 403.0000 - false_positives: 385.0000 - false_negatives: 429.0000\n",
      "Epoch 64/100\n",
      "25/25 [==============================] - 19s 706ms/step - loss: 0.6978 - accuracy: 0.4925 - true_positives: 640.0000 - true_negatives: 148.0000 - false_positives: 640.0000 - false_negatives: 172.0000\n",
      "Epoch 65/100\n",
      "25/25 [==============================] - 20s 715ms/step - loss: 0.6970 - accuracy: 0.5113 - true_positives: 399.0000 - true_negatives: 419.0000 - false_positives: 369.0000 - false_negatives: 413.0000\n",
      "Epoch 66/100\n",
      "25/25 [==============================] - 19s 704ms/step - loss: 0.6959 - accuracy: 0.4975 - true_positives: 292.0000 - true_negatives: 504.0000 - false_positives: 284.0000 - false_negatives: 520.0000\n",
      "Epoch 67/100\n",
      "25/25 [==============================] - 19s 706ms/step - loss: 0.6949 - accuracy: 0.5075 - true_positives: 364.0000 - true_negatives: 448.0000 - false_positives: 340.0000 - false_negatives: 448.0000\n",
      "Epoch 68/100\n",
      "25/25 [==============================] - 19s 702ms/step - loss: 0.6935 - accuracy: 0.5125 - true_positives: 624.0000 - true_negatives: 196.0000 - false_positives: 592.0000 - false_negatives: 188.0000\n",
      "Epoch 69/100\n",
      "25/25 [==============================] - 19s 709ms/step - loss: 0.6954 - accuracy: 0.4938 - true_positives: 513.0000 - true_negatives: 277.0000 - false_positives: 511.0000 - false_negatives: 299.0000\n",
      "Epoch 70/100\n",
      "25/25 [==============================] - 19s 703ms/step - loss: 0.6981 - accuracy: 0.5200 - true_positives: 342.0000 - true_negatives: 490.0000 - false_positives: 298.0000 - false_negatives: 470.0000\n",
      "Epoch 71/100\n",
      "25/25 [==============================] - 20s 730ms/step - loss: 0.7166 - accuracy: 0.4700 - true_positives: 302.0000 - true_negatives: 450.0000 - false_positives: 338.0000 - false_negatives: 510.0000\n",
      "Epoch 72/100\n",
      "25/25 [==============================] - 21s 771ms/step - loss: 0.6940 - accuracy: 0.4963 - true_positives: 515.0000 - true_negatives: 279.0000 - false_positives: 509.0000 - false_negatives: 297.0000\n",
      "Epoch 73/100\n",
      "25/25 [==============================] - 21s 752ms/step - loss: 0.6934 - accuracy: 0.4938 - true_positives: 641.0000 - true_negatives: 149.0000 - false_positives: 639.0000 - false_negatives: 171.0000\n",
      "Epoch 74/100\n",
      "25/25 [==============================] - 20s 740ms/step - loss: 0.6934 - accuracy: 0.5075 - true_positives: 812.0000 - true_negatives: 0.0000e+00 - false_positives: 788.0000 - false_negatives: 0.0000e+00\n",
      "Epoch 75/100\n",
      "25/25 [==============================] - 19s 698ms/step - loss: 0.6940 - accuracy: 0.4913 - true_positives: 383.0000 - true_negatives: 403.0000 - false_positives: 385.0000 - false_negatives: 429.0000\n",
      "Epoch 76/100\n",
      "25/25 [==============================] - 19s 697ms/step - loss: 0.6934 - accuracy: 0.5075 - true_positives: 492.0000 - true_negatives: 320.0000 - false_positives: 468.0000 - false_negatives: 320.0000\n",
      "Epoch 77/100\n",
      "25/25 [==============================] - 19s 697ms/step - loss: 0.6937 - accuracy: 0.4988 - true_positives: 261.0000 - true_negatives: 537.0000 - false_positives: 251.0000 - false_negatives: 551.0000\n",
      "Epoch 78/100\n",
      "25/25 [==============================] - 19s 698ms/step - loss: 0.6938 - accuracy: 0.5075 - true_positives: 812.0000 - true_negatives: 0.0000e+00 - false_positives: 788.0000 - false_negatives: 0.0000e+00\n",
      "Epoch 79/100\n",
      "25/25 [==============================] - 19s 698ms/step - loss: 0.6935 - accuracy: 0.5063 - true_positives: 779.0000 - true_negatives: 31.0000 - false_positives: 757.0000 - false_negatives: 33.0000\n",
      "Epoch 80/100\n",
      "25/25 [==============================] - 19s 701ms/step - loss: 0.6937 - accuracy: 0.5000 - true_positives: 70.0000 - true_negatives: 730.0000 - false_positives: 58.0000 - false_negatives: 742.0000\n",
      "Epoch 81/100\n",
      "25/25 [==============================] - 19s 699ms/step - loss: 0.6940 - accuracy: 0.4875 - true_positives: 668.0000 - true_negatives: 112.0000 - false_positives: 676.0000 - false_negatives: 144.0000\n",
      "Epoch 82/100\n",
      "25/25 [==============================] - 19s 700ms/step - loss: 0.6937 - accuracy: 0.5088 - true_positives: 333.0000 - true_negatives: 481.0000 - false_positives: 307.0000 - false_negatives: 479.0000\n",
      "Epoch 83/100\n",
      "25/25 [==============================] - 20s 718ms/step - loss: 0.6954 - accuracy: 0.4900 - true_positives: 350.0000 - true_negatives: 434.0000 - false_positives: 354.0000 - false_negatives: 462.0000\n",
      "Epoch 84/100\n",
      "25/25 [==============================] - 20s 705ms/step - loss: 0.6939 - accuracy: 0.5075 - true_positives: 812.0000 - true_negatives: 0.0000e+00 - false_positives: 788.0000 - false_negatives: 0.0000e+00\n",
      "Epoch 85/100\n",
      "25/25 [==============================] - 19s 699ms/step - loss: 0.6932 - accuracy: 0.5075 - true_positives: 812.0000 - true_negatives: 0.0000e+00 - false_positives: 788.0000 - false_negatives: 0.0000e+00\n",
      "Epoch 86/100\n",
      "25/25 [==============================] - 19s 702ms/step - loss: 0.6944 - accuracy: 0.4875 - true_positives: 412.0000 - true_negatives: 368.0000 - false_positives: 420.0000 - false_negatives: 400.0000\n",
      "Epoch 87/100\n",
      "25/25 [==============================] - 19s 699ms/step - loss: 0.6935 - accuracy: 0.4975 - true_positives: 612.0000 - true_negatives: 184.0000 - false_positives: 604.0000 - false_negatives: 200.0000\n",
      "Epoch 88/100\n",
      "25/25 [==============================] - 20s 720ms/step - loss: 0.6936 - accuracy: 0.5075 - true_positives: 812.0000 - true_negatives: 0.0000e+00 - false_positives: 788.0000 - false_negatives: 0.0000e+00\n",
      "Epoch 89/100\n",
      "25/25 [==============================] - 21s 759ms/step - loss: 0.6935 - accuracy: 0.5075 - true_positives: 204.0000 - true_negatives: 608.0000 - false_positives: 180.0000 - false_negatives: 608.0000\n",
      "Epoch 90/100\n",
      "25/25 [==============================] - 21s 756ms/step - loss: 0.6938 - accuracy: 0.4988 - true_positives: 741.0000 - true_negatives: 57.0000 - false_positives: 731.0000 - false_negatives: 71.0000\n",
      "Epoch 91/100\n",
      "25/25 [==============================] - 20s 738ms/step - loss: 0.6947 - accuracy: 0.4950 - true_positives: 578.0000 - true_negatives: 214.0000 - false_positives: 574.0000 - false_negatives: 234.0000\n",
      "Epoch 92/100\n",
      "25/25 [==============================] - 20s 749ms/step - loss: 0.6945 - accuracy: 0.4875 - true_positives: 668.0000 - true_negatives: 112.0000 - false_positives: 676.0000 - false_negatives: 144.0000\n",
      "Epoch 93/100\n",
      "25/25 [==============================] - 19s 699ms/step - loss: 0.6935 - accuracy: 0.5025 - true_positives: 296.0000 - true_negatives: 508.0000 - false_positives: 280.0000 - false_negatives: 516.0000\n",
      "Epoch 94/100\n",
      "25/25 [==============================] - 19s 699ms/step - loss: 0.6937 - accuracy: 0.5075 - true_positives: 812.0000 - true_negatives: 0.0000e+00 - false_positives: 788.0000 - false_negatives: 0.0000e+00\n",
      "Epoch 95/100\n",
      "25/25 [==============================] - 20s 725ms/step - loss: 0.6942 - accuracy: 0.4975 - true_positives: 356.0000 - true_negatives: 440.0000 - false_positives: 348.0000 - false_negatives: 456.0000\n",
      "Epoch 96/100\n",
      "25/25 [==============================] - 21s 755ms/step - loss: 0.6936 - accuracy: 0.5075 - true_positives: 812.0000 - true_negatives: 0.0000e+00 - false_positives: 788.0000 - false_negatives: 0.0000e+00\n",
      "Epoch 97/100\n",
      "25/25 [==============================] - 19s 698ms/step - loss: 0.6947 - accuracy: 0.5000 - true_positives: 710.0000 - true_negatives: 90.0000 - false_positives: 698.0000 - false_negatives: 102.0000\n",
      "Epoch 98/100\n",
      "25/25 [==============================] - 19s 699ms/step - loss: 0.6963 - accuracy: 0.4800 - true_positives: 246.0000 - true_negatives: 522.0000 - false_positives: 266.0000 - false_negatives: 566.0000\n",
      "Epoch 99/100\n",
      "25/25 [==============================] - 20s 724ms/step - loss: 0.6933 - accuracy: 0.5000 - true_positives: 678.0000 - true_negatives: 122.0000 - false_positives: 666.0000 - false_negatives: 134.0000\n",
      "Epoch 100/100\n",
      "25/25 [==============================] - 19s 699ms/step - loss: 0.6935 - accuracy: 0.5013 - true_positives: 423.0000 - true_negatives: 379.0000 - false_positives: 409.0000 - false_negatives: 389.0000\n"
     ]
    }
   ],
   "source": [
    "history = classifier.fit(train_ds, epochs = 100, shuffle=True, batch_size=32)"
   ]
  },
  {
   "cell_type": "code",
   "execution_count": 15,
   "metadata": {},
   "outputs": [
    {
     "data": {
      "image/png": "[encoded data removed]",
      "text/plain": [
       "<Figure size 432x288 with 1 Axes>"
      ]
     },
     "metadata": {
      "needs_background": "light"
     },
     "output_type": "display_data"
    },
    {
     "data": {
      "image/png": "[encoded data removed]",
      "text/plain": [
       "<Figure size 432x288 with 1 Axes>"
      ]
     },
     "metadata": {
      "needs_background": "light"
     },
     "output_type": "display_data"
    }
   ],
   "source": [
    "plt.plot(history.history['accuracy'])\n",
    "# plt.plot(history.history['val_accuracy'])\n",
    "plt.title('VGG19 accuracy')\n",
    "plt.ylabel('accuracy')\n",
    "plt.xlabel('epoch')\n",
    "plt.legend(['train', 'test'], loc='lower right')\n",
    "plt.show()\n",
    "\n",
    "plt.plot(history.history['loss'])\n",
    "# plt.plot(history.history['val_accuracy'])\n",
    "plt.title('VGG19 loss')\n",
    "plt.ylabel('accuracy')\n",
    "plt.xlabel('epoch')\n",
    "plt.legend(['loss', 'test'], loc='lower right')\n",
    "plt.show()"
   ]
  },
  {
   "cell_type": "code",
   "execution_count": 16,
   "metadata": {},
   "outputs": [
    {
     "data": {
      "text/html": [
       "<table border=\"1\" class=\"dataframe\">\n",
       "  <thead>\n",
       "    <tr style=\"text-align: right;\">\n",
       "      <th>item</th>\n",
       "      <th>max</th>\n",
       "      <th>mean</th>\n",
       "      <th>min</th>\n",
       "    </tr>\n",
       "  </thead>\n",
       "  <tbody>\n",
       "    <tr>\n",
       "      <td>loss</td>\n",
       "      <td>2.316882</td>\n",
       "      <td>0.727973</td>\n",
       "      <td>0.693155</td>\n",
       "    </tr>\n",
       "    <tr>\n",
       "      <td>accuracy</td>\n",
       "      <td>0.523750</td>\n",
       "      <td>0.498388</td>\n",
       "      <td>0.460000</td>\n",
       "    </tr>\n",
       "    <tr>\n",
       "      <td>true_positives</td>\n",
       "      <td>812.000000</td>\n",
       "      <td>479.270000</td>\n",
       "      <td>70.000000</td>\n",
       "    </tr>\n",
       "    <tr>\n",
       "      <td>true_negatives</td>\n",
       "      <td>730.000000</td>\n",
       "      <td>318.150000</td>\n",
       "      <td>0.000000</td>\n",
       "    </tr>\n",
       "    <tr>\n",
       "      <td>false_positives</td>\n",
       "      <td>788.000000</td>\n",
       "      <td>469.850000</td>\n",
       "      <td>58.000000</td>\n",
       "    </tr>\n",
       "    <tr>\n",
       "      <td>false_negatives</td>\n",
       "      <td>742.000000</td>\n",
       "      <td>332.730000</td>\n",
       "      <td>0.000000</td>\n",
       "    </tr>\n",
       "  </tbody>\n",
       "</table>"
      ],
      "text/plain": [
       "<IPython.core.display.HTML object>"
      ]
     },
     "execution_count": 16,
     "metadata": {},
     "output_type": "execute_result"
    }
   ],
   "source": [
    "df = pd.DataFrame()\n",
    "for idx, key in enumerate(history.history.keys()):\n",
    "    row = pd.DataFrame(data={\n",
    "      'item': key,\n",
    "      'max': max(history.history[key]),\n",
    "      'mean': np.mean(history.history[key]),\n",
    "      'min': min(history.history[key]),\n",
    "    }, index=[idx])\n",
    "    df = pd.concat([df,row])\n",
    "\n",
    "from IPython.display import HTML\n",
    "df.sort_values(by=['item'],ascending=True)\n",
    "HTML(df.to_html(index=False))"
   ]
  }
 ],
 "metadata": {
  "kernelspec": {
   "display_name": "Python 3.10.4 ('tf-venv')",
   "language": "python",
   "name": "python3"
  },
  "language_info": {
   "codemirror_mode": {
    "name": "ipython",
    "version": 3
   },
   "file_extension": ".py",
   "mimetype": "text/x-python",
   "name": "python",
   "nbconvert_exporter": "python",
   "pygments_lexer": "ipython3",
   "version": "3.10.4"
  },
  "orig_nbformat": 4,
  "vscode": {
   "interpreter": {
    "hash": "cc9cbefc8544a8379a53c857cd2b15dea463896e3f9720ef4a3e2498fce52563"
   }
  }
 },
 "nbformat": 4,
 "nbformat_minor": 2
}
