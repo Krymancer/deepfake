{
 "cells": [
  {
   "cell_type": "code",
   "execution_count": 1,
   "metadata": {},
   "outputs": [],
   "source": [
    "import matplotlib\n",
    "import matplotlib.pyplot as plt\n",
    "%matplotlib inline\n",
    "import pickle\n",
    "import os\n",
    "import sys\n",
    "from PIL import Image\n",
    "import pandas as pd\n",
    "import numpy as np\n",
    "import seaborn as sns\n",
    "import scipy\n",
    "import keras\n",
    "import tensorflow as tf\n",
    "import cv2\n",
    "from keras.models import Sequential\n",
    "from keras.layers import Dense, Conv2D , MaxPool2D , Flatten , Dropout \n",
    "from keras.preprocessing.image import ImageDataGenerator\n",
    "from keras.optimizers import Adam\n",
    "from sklearn.metrics import classification_report,confusion_matrix\n",
    "from keras.models import Model as KerasModel\n",
    "from keras.layers import Input, Dense, Flatten, Conv2D, MaxPooling2D, BatchNormalization, Dropout, Reshape, Concatenate, LeakyReLU\n",
    "from tensorflow.keras.optimizers import Adam"
   ]
  },
  {
   "cell_type": "code",
   "execution_count": 2,
   "metadata": {},
   "outputs": [
    {
     "ename": "NameError",
     "evalue": "name 'img_width' is not defined",
     "output_type": "error",
     "traceback": [
      "\u001b[1;31m---------------------------------------------------------------------------\u001b[0m",
      "\u001b[1;31mNameError\u001b[0m                                 Traceback (most recent call last)",
      "\u001b[1;32mc:\\Users\\junho\\git\\monografia\\mesonet_detection.ipynb Célula: 2\u001b[0m in \u001b[0;36m<cell line: 3>\u001b[1;34m()\u001b[0m\n\u001b[0;32m      <a href='vscode-notebook-cell:/c%3A/Users/junho/git/monografia/mesonet_detection.ipynb#ch0000002?line=0'>1</a>\u001b[0m learning_rate \u001b[39m=\u001b[39m \u001b[39m0.001\u001b[39m\n\u001b[1;32m----> <a href='vscode-notebook-cell:/c%3A/Users/junho/git/monografia/mesonet_detection.ipynb#ch0000002?line=2'>3</a>\u001b[0m x \u001b[39m=\u001b[39m Input(shape \u001b[39m=\u001b[39m (img_width, img_height, \u001b[39m3\u001b[39m))\n\u001b[0;32m      <a href='vscode-notebook-cell:/c%3A/Users/junho/git/monografia/mesonet_detection.ipynb#ch0000002?line=4'>5</a>\u001b[0m x1 \u001b[39m=\u001b[39m Conv2D(\u001b[39m8\u001b[39m, (\u001b[39m3\u001b[39m, \u001b[39m3\u001b[39m), padding\u001b[39m=\u001b[39m\u001b[39m'\u001b[39m\u001b[39msame\u001b[39m\u001b[39m'\u001b[39m, activation \u001b[39m=\u001b[39m \u001b[39m'\u001b[39m\u001b[39mrelu\u001b[39m\u001b[39m'\u001b[39m)(x)\n\u001b[0;32m      <a href='vscode-notebook-cell:/c%3A/Users/junho/git/monografia/mesonet_detection.ipynb#ch0000002?line=5'>6</a>\u001b[0m x1 \u001b[39m=\u001b[39m BatchNormalization()(x1)\n",
      "\u001b[1;31mNameError\u001b[0m: name 'img_width' is not defined"
     ]
    }
   ],
   "source": []
  },
  {
   "cell_type": "code",
   "execution_count": 37,
   "metadata": {},
   "outputs": [
    {
     "name": "stdout",
     "output_type": "stream",
     "text": [
      "./data/face_extraction/\n",
      "Found 1989 images belonging to 2 classes.\n"
     ]
    }
   ],
   "source": [
    "directory = os.path.join('./data/face_extraction/')\n",
    "img_height = 256\n",
    "img_width = 256\n",
    "batch_size = 32\n",
    "nb_epochs = 100\n",
    "\n",
    "print(directory)\n",
    "\n",
    "dataGenerator = ImageDataGenerator(rescale=1./255)\n",
    "generator = dataGenerator.flow_from_directory(\n",
    "        directory,\n",
    "        target_size=(256, 256),\n",
    "        batch_size=32,\n",
    "        class_mode='binary',\n",
    "        subset='training')"
   ]
  },
  {
   "cell_type": "code",
   "execution_count": 8,
   "metadata": {},
   "outputs": [],
   "source": [
    "learning_rate = 0.001\n",
    "\n",
    "x = Input(shape = (img_width, img_height, 3))\n",
    "\n",
    "x1 = Conv2D(8, (3, 3), padding='same', activation = 'relu')(x)\n",
    "x1 = BatchNormalization()(x1)\n",
    "x1 = MaxPooling2D(pool_size=(2, 2), padding='same')(x1)\n",
    "\n",
    "x2 = Conv2D(8, (5, 5), padding='same', activation = 'relu')(x1)\n",
    "x2 = BatchNormalization()(x2)\n",
    "x2 = MaxPooling2D(pool_size=(2, 2), padding='same')(x2)\n",
    "\n",
    "x3 = Conv2D(16, (5, 5), padding='same', activation = 'relu')(x2)\n",
    "x3 = BatchNormalization()(x3)\n",
    "x3 = MaxPooling2D(pool_size=(2, 2), padding='same')(x3)\n",
    "\n",
    "x4 = Conv2D(16, (5, 5), padding='same', activation = 'relu')(x3)\n",
    "x4 = BatchNormalization()(x4)\n",
    "x4 = MaxPooling2D(pool_size=(4, 4), padding='same')(x4)\n",
    "\n",
    "y = Flatten()(x4)\n",
    "y = Dropout(0.5)(y)\n",
    "y = Dense(16)(y)\n",
    "y = LeakyReLU(alpha=0.1)(y)\n",
    "y = Dropout(0.5)(y)\n",
    "y = Dense(1, activation = 'sigmoid')(y)\n",
    "\n",
    "model =  KerasModel(inputs = x, outputs = y)\n",
    "\n",
    "optimizer = Adam(learning_rate = learning_rate)\n",
    "model.compile(optimizer = optimizer, loss = 'mean_squared_error', metrics = ['accuracy'])"
   ]
  },
  {
   "cell_type": "code",
   "execution_count": 9,
   "metadata": {},
   "outputs": [],
   "source": [
    "model.load_weights('./data/weights/Meso4_DF.h5')"
   ]
  },
  {
   "cell_type": "code",
   "execution_count": 24,
   "metadata": {},
   "outputs": [
    {
     "data": {
      "text/plain": [
       "{'fake': 0, 'real': 1}"
      ]
     },
     "execution_count": 24,
     "metadata": {},
     "output_type": "execute_result"
    }
   ],
   "source": [
    "generator.class_indices"
   ]
  },
  {
   "cell_type": "code",
   "execution_count": 1,
   "metadata": {},
   "outputs": [
    {
     "ename": "NameError",
     "evalue": "name 'generator' is not defined",
     "output_type": "error",
     "traceback": [
      "\u001b[1;31m---------------------------------------------------------------------------\u001b[0m",
      "\u001b[1;31mNameError\u001b[0m                                 Traceback (most recent call last)",
      "\u001b[1;32mc:\\Users\\junho\\git\\monografia\\mesonet_detection.ipynb Célula: 7\u001b[0m in \u001b[0;36m<cell line: 1>\u001b[1;34m()\u001b[0m\n\u001b[1;32m----> <a href='vscode-notebook-cell:/c%3A/Users/junho/git/monografia/mesonet_detection.ipynb#ch0000007?line=0'>1</a>\u001b[0m X,y \u001b[39m=\u001b[39m generator\u001b[39m.\u001b[39mnext()\n\u001b[0;32m      <a href='vscode-notebook-cell:/c%3A/Users/junho/git/monografia/mesonet_detection.ipynb#ch0000007?line=1'>2</a>\u001b[0m acc \u001b[39m=\u001b[39m model\u001b[39m.\u001b[39mtest_on_batch(X, y)\n\u001b[0;32m      <a href='vscode-notebook-cell:/c%3A/Users/junho/git/monografia/mesonet_detection.ipynb#ch0000007?line=2'>3</a>\u001b[0m \u001b[39mprint\u001b[39m(\u001b[39m'\u001b[39m\u001b[39mAcc:\u001b[39m\u001b[39m'\u001b[39m,acc[\u001b[39m1\u001b[39m])\n",
      "\u001b[1;31mNameError\u001b[0m: name 'generator' is not defined"
     ]
    }
   ],
   "source": [
    "X,y = generator.next()\n",
    "acc = model.test_on_batch(X, y)\n",
    "print('Acc:',acc[1])"
   ]
  }
 ],
 "metadata": {
  "kernelspec": {
   "display_name": "Python 3.10.4 ('tf-venv')",
   "language": "python",
   "name": "python3"
  },
  "language_info": {
   "codemirror_mode": {
    "name": "ipython",
    "version": 3
   },
   "file_extension": ".py",
   "mimetype": "text/x-python",
   "name": "python",
   "nbconvert_exporter": "python",
   "pygments_lexer": "ipython3",
   "version": "3.10.4"
  },
  "orig_nbformat": 4,
  "vscode": {
   "interpreter": {
    "hash": "cc9cbefc8544a8379a53c857cd2b15dea463896e3f9720ef4a3e2498fce52563"
   }
  }
 },
 "nbformat": 4,
 "nbformat_minor": 2
}
